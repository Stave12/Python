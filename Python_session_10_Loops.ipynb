{
 "cells": [
  {
   "cell_type": "markdown",
   "id": "9bb0c2c6-8f7e-4657-8795-a247e359901d",
   "metadata": {},
   "source": [
    "**Loops**\n",
    "- iterate a pice of code until the condition satisfy\n",
    "- we can run a code normally\n",
    "- we can run a code normally function wrapper (functions)\n",
    "- we can run a code multiple times (loops)\n",
    "- we can run a code by using conditions also"
   ]
  },
  {
   "cell_type": "markdown",
   "id": "6e0d4ba8-d561-40c3-9cbc-3f850758f800",
   "metadata": {},
   "source": [
    "- for loop\n",
    "- while loop\n",
    "- any loop we have to follow\n",
    "  - initial point to start the loop\n",
    "  - increment or decrement\n",
    "  - condition to stop"
   ]
  },
  {
   "cell_type": "markdown",
   "id": "89d54231-57c6-4eb9-aace-dc593915be48",
   "metadata": {},
   "source": [
    "**For Loop**"
   ]
  },
  {
   "cell_type": "markdown",
   "id": "b9316c68-9a8a-43c5-8ddc-d0b490d06f62",
   "metadata": {},
   "source": [
    "- pattern - 1"
   ]
  },
  {
   "cell_type": "code",
   "execution_count": null,
   "id": "ef4aee54-c4f3-4f80-ba65-c9157eddbd89",
   "metadata": {},
   "outputs": [],
   "source": [
    "#syntax\n",
    "for i in range(<value>):\n",
    "    #start write your code here"
   ]
  },
  {
   "cell_type": "markdown",
   "id": "490f51fa-3943-4037-9561-d63d5e4c8622",
   "metadata": {},
   "source": [
    "- when ever you see the word range it belons to maths family\n",
    "- inside range we need to provied one value ex: range(3)\n",
    "- if you provide only one value \n",
    "    - start value=0\n",
    "    - increment = +1\n",
    "    - last = stop-1\n",
    "- range(3)\n",
    "     - start value=0\n",
    "    - increment = 1\n",
    "    - last = 3-1 = 2\n",
    "    - answer are : 0 1 2\n",
    "**Note the index always starts with zero**\n"
   ]
  },
  {
   "cell_type": "code",
   "execution_count": null,
   "id": "29906cdc-4c22-4d20-a94b-04ee895e9b26",
   "metadata": {},
   "outputs": [],
   "source": [
    "for i in range(3):\n",
    "    print(i)"
   ]
  },
  {
   "cell_type": "code",
   "execution_count": null,
   "id": "8253a959-6355-4646-adde-f367cfaf0568",
   "metadata": {},
   "outputs": [],
   "source": [
    "#print hello 5 times\n",
    "for i in range(5):\n",
    "    print(\"hello\")"
   ]
  },
  {
   "cell_type": "code",
   "execution_count": 1,
   "id": "adb1a956-afa9-484a-b0e3-55fff6a5e18f",
   "metadata": {},
   "outputs": [
    {
     "name": "stdout",
     "output_type": "stream",
     "text": [
      "96 is even\n",
      "57 is odd\n",
      "8 is even\n"
     ]
    }
   ],
   "source": [
    "#example take a random number b/w 1 to100 print it is a even or odd\n",
    "#you need to generate 3 random numbers\n",
    "import random\n",
    "for i in range(3):\n",
    "    num=random.randint(1,100)\n",
    "    if num%2==0:\n",
    "        print(f\"{num} is even\")\n",
    "    else:\n",
    "        print(f\"{num} is odd\")\n"
   ]
  },
  {
   "cell_type": "code",
   "execution_count": null,
   "id": "fed75fd6-69bb-4d78-8316-4008040def22",
   "metadata": {},
   "outputs": [],
   "source": [
    "for i in range(10):\n",
    "    print(i,end=\" \")"
   ]
  },
  {
   "cell_type": "markdown",
   "id": "64b4812d-b9f6-445b-a305-0ff351ce332e",
   "metadata": {},
   "source": [
    "$Pattern-2$\n",
    "**range(start,stop)**\n",
    "- range(10,20)\n",
    "- start value = 10\n",
    "- increment = 1\n",
    "- last=stop-1 = 20-1=19\n",
    "- ans:10 11 12 13 14 15 16 17 18 19"
   ]
  },
  {
   "cell_type": "code",
   "execution_count": null,
   "id": "5e45b1cb-2fbd-4381-816a-73ed9f14a094",
   "metadata": {},
   "outputs": [],
   "source": [
    "for i in range(10,20):\n",
    "    print(i,end=' ')"
   ]
  },
  {
   "cell_type": "code",
   "execution_count": 2,
   "id": "8ed3f7a3-dc15-48b6-990d-bb7fa235c236",
   "metadata": {
    "scrolled": true
   },
   "outputs": [
    {
     "name": "stdout",
     "output_type": "stream",
     "text": [
      "400 441 484 529 576 "
     ]
    }
   ],
   "source": [
    "#wap ask the user print the square of the numbers \n",
    "#between 20 to 25\n",
    "for i in range(20,25):\n",
    "    num=i*i\n",
    "    print(num,end=' ')"
   ]
  },
  {
   "cell_type": "code",
   "execution_count": null,
   "id": "659f5781-9774-4f92-955b-53bb86fd7a10",
   "metadata": {},
   "outputs": [],
   "source": [
    "for i in range(10,20):\n",
    "    if i%2==0:\n",
    "        print(f\"{i} is even\")\n",
    "    else:\n",
    "        print(f\"{i} is odd\")"
   ]
  },
  {
   "cell_type": "code",
   "execution_count": null,
   "id": "14cf75dd-d7f8-4cff-b1b5-ac161ca38976",
   "metadata": {},
   "outputs": [],
   "source": [
    "for i in range(20,25):\n",
    "    print(f\"the square of {i} is\",i*i)"
   ]
  },
  {
   "cell_type": "markdown",
   "id": "5ee17d6b-f1db-40b6-a2ff-098086cbe4ce",
   "metadata": {},
   "source": [
    "$Pattern-3$\n",
    "\n",
    "**range(start,stop,step)**\n",
    "- start value = start value\n",
    "- step value \n",
    "   - positive step value\n",
    "       - if step value is positive: increment\n",
    "       - last = stop -1\n",
    "   - negative step value\n",
    "        - if step value is negative : decrement\n",
    "        - last=stop+1"
   ]
  },
  {
   "cell_type": "code",
   "execution_count": 3,
   "id": "864a0f46-7c13-4c38-8aa5-515dd688dae8",
   "metadata": {},
   "outputs": [
    {
     "name": "stdout",
     "output_type": "stream",
     "text": [
      "2 4 6 8 10 12 14 16 18 "
     ]
    }
   ],
   "source": [
    "#case-1\n",
    "for i in range(2,20,2):\n",
    "    print(i,end=' ')\n",
    "#start = 2\n",
    "#step +ve 2\n",
    "#last= stop-1= 20-1=19\n",
    "#2 4 6 8 10 12 14 16 18"
   ]
  },
  {
   "cell_type": "code",
   "execution_count": null,
   "id": "4ee8e32a-ed9b-4d51-9312-c10d0b63f13a",
   "metadata": {},
   "outputs": [],
   "source": [
    "for i in range(2,20,1):\n",
    "    print(i,end=' ')"
   ]
  },
  {
   "cell_type": "code",
   "execution_count": null,
   "id": "49526065-4791-4e38-9ee1-659a0db1c7ca",
   "metadata": {},
   "outputs": [],
   "source": [
    "#case-2\n",
    "for i in range(2,20,-2):\n",
    "    print(i,end=' ')\n",
    "#start = 2\n",
    "#step -ve 2 negative direction\n",
    "#last = stop+1=20+1=21\n"
   ]
  },
  {
   "cell_type": "code",
   "execution_count": null,
   "id": "67d93348-3931-4c0a-9f21-3b7ae9369cea",
   "metadata": {},
   "outputs": [],
   "source": [
    "for i in range(20,2,-2):\n",
    "    print(i,end=' ')\n",
    "#start=20\n",
    "#step -ve negative direction\n",
    "#last = stop+1=2+1=3)"
   ]
  },
  {
   "cell_type": "code",
   "execution_count": null,
   "id": "a19dc34b-a018-444e-90a8-fdb4258721ba",
   "metadata": {},
   "outputs": [],
   "source": [
    "#case-4\n",
    "for i in range(-20,2,-2):\n",
    "     print(i,end=' ')\n",
    "    "
   ]
  },
  {
   "cell_type": "code",
   "execution_count": null,
   "id": "00534d82-106e-4713-a1e5-b7cebe392a00",
   "metadata": {},
   "outputs": [],
   "source": [
    "for i in range(2,20,2):\n",
    "    print(i,end=' ')"
   ]
  },
  {
   "cell_type": "code",
   "execution_count": 4,
   "id": "ecee0c7d-84b9-40d2-836d-2673a4e31890",
   "metadata": {},
   "outputs": [
    {
     "name": "stdin",
     "output_type": "stream",
     "text": [
      "enter a number: 5\n"
     ]
    },
    {
     "name": "stdout",
     "output_type": "stream",
     "text": [
      "the square of 5 is 25\n"
     ]
    },
    {
     "name": "stdin",
     "output_type": "stream",
     "text": [
      "enter a number: 6\n"
     ]
    },
    {
     "name": "stdout",
     "output_type": "stream",
     "text": [
      "the square of 6 is 36\n"
     ]
    },
    {
     "name": "stdin",
     "output_type": "stream",
     "text": [
      "enter a number: 7\n"
     ]
    },
    {
     "name": "stdout",
     "output_type": "stream",
     "text": [
      "the square of 7 is 49\n"
     ]
    }
   ],
   "source": [
    "#wap ask the user enter number three times find the square of the number\n",
    "\n",
    "for i in range(3):\n",
    "    num=eval(input(\"enter a number:\"))\n",
    "    print(f\"the square of {num} is {num*num}\")"
   ]
  },
  {
   "cell_type": "code",
   "execution_count": null,
   "id": "cbb82126-0a78-4ffd-94cb-eacd286e59d0",
   "metadata": {},
   "outputs": [],
   "source": [
    "# print the 14th table\n",
    "#14 x 1 =14\n",
    "#14 x 2 =28\n",
    "#\n",
    "#\n",
    "#\n",
    "#14 x 10 = 140\n",
    "num=eval(input(\"enter the which you eant to see:\"))\n",
    "for i in range(1,11):\n",
    "     value=i * num\n",
    "     print(f\"{num} xb {i} = {value}\")\n",
    "\n"
   ]
  },
  {
   "cell_type": "code",
   "execution_count": 2,
   "id": "75da4e93-5eef-42a0-9eb2-d4eecc41a687",
   "metadata": {},
   "outputs": [
    {
     "name": "stdin",
     "output_type": "stream",
     "text": [
      "enter which number factorial you want: 75\n"
     ]
    },
    {
     "name": "stdout",
     "output_type": "stream",
     "text": [
      "1 is the divisor of 75\n",
      "3 is the divisor of 75\n",
      "5 is the divisor of 75\n",
      "15 is the divisor of 75\n",
      "25 is the divisor of 75\n",
      "75 is the divisor of 75\n"
     ]
    }
   ],
   "source": [
    "#6 find the factors of 75\n",
    "#step-1 : iterarte the loop = which numbers factors u want\n",
    "#step - 2 : apply the if condition divide the number with each i\n",
    "num=eval(input(\"enter which number factorial you want:\"))\n",
    "for i in range(1,num+1):\n",
    "    if num%i==0:\n",
    "        print(f\"{i} is the divisor of {num}\")"
   ]
  },
  {
   "cell_type": "code",
   "execution_count": 1,
   "id": "2a1bbdde-e1ec-4bf0-bd16-dd6cecfc94ec",
   "metadata": {},
   "outputs": [
    {
     "name": "stdout",
     "output_type": "stream",
     "text": [
      "1 + 1 = 1\n",
      "3 + 2 = 3\n",
      "6 + 3 = 6\n",
      "10 + 4 = 10\n",
      "15 + 5 = 15\n",
      "21 + 6 = 21\n",
      "28 + 7 = 28\n",
      "36 + 8 = 36\n",
      "45 + 9 = 45\n",
      "55 + 10 = 55\n"
     ]
    }
   ],
   "source": [
    "#7 write the sum of first 10 natural number\n",
    "# 1to 10\n",
    "# 1+2+3+4+5+6+7+8+9+10=55\n",
    "summ=0\n",
    "for i in range(1,11):\n",
    "    summ=summ+i\n",
    "    print(f\"{summ} + {i} = {summ}\")"
   ]
  },
  {
   "cell_type": "markdown",
   "id": "f05b6a20-0eb0-49f5-a277-2d6ee01fff7d",
   "metadata": {},
   "source": [
    "**Summation wrapper**\n",
    "- initially we need to keep summ=0\n",
    "- make sure that do not provide **sum**\n",
    "- because sum is key word \n",
    "- inside for loop : summ=summ+i"
   ]
  },
  {
   "cell_type": "code",
   "execution_count": null,
   "id": "321b7003-f5c4-4cd5-ac74-b70b2af557f9",
   "metadata": {},
   "outputs": [],
   "source": [
    "summ=0\n",
    "for i in range(1,11):\n",
    "    summ=summ+i\n",
    "\n",
    "print(summ)\n"
   ]
  },
  {
   "cell_type": "code",
   "execution_count": null,
   "id": "977850f6-a5df-4d9b-b28a-2d7dd44cf984",
   "metadata": {},
   "outputs": [],
   "source": [
    "for i in range(3):\n",
    "    print(i)\n",
    "i"
   ]
  },
  {
   "cell_type": "markdown",
   "id": "f9f35f04-9428-4caa-bfc2-3e57ac3daf4e",
   "metadata": {},
   "source": [
    "**Note**\n",
    "- if we print answer from out of for loop ,last asnwer will print"
   ]
  },
  {
   "cell_type": "code",
   "execution_count": 1,
   "id": "c11147bd-569d-4551-a824-79ef349c2f69",
   "metadata": {},
   "outputs": [
    {
     "name": "stdin",
     "output_type": "stream",
     "text": [
      "enter the number 10\n"
     ]
    },
    {
     "name": "stdout",
     "output_type": "stream",
     "text": [
      "5.5\n"
     ]
    }
   ],
   "source": [
    "#8 average of first 10 numbers\n",
    "#avg= summation of all numbers /total numbers\n",
    "#wap to print avg of n numbers\n",
    "summ=0\n",
    "n=eval(input(\"enter the number\"))\n",
    "for i in range(1,n+1):\n",
    "    summ=summ+i\n",
    "print(summ/n)"
   ]
  },
  {
   "cell_type": "markdown",
   "id": "fd025cb9-345a-4d8f-8884-bfb9fe33796a",
   "metadata": {},
   "source": [
    "**Counter wrapper**\n",
    "- before for loop initialaise with count=0\n",
    "- under for loop count=count+1\n",
    "- counter always increase  by only\n"
   ]
  },
  {
   "cell_type": "code",
   "execution_count": 2,
   "id": "6e2400b8-c0c5-44af-b6e6-b2f3eb0eefb2",
   "metadata": {},
   "outputs": [
    {
     "name": "stdin",
     "output_type": "stream",
     "text": [
      "enter a number 75\n"
     ]
    },
    {
     "name": "stdout",
     "output_type": "stream",
     "text": [
      "6\n"
     ]
    }
   ],
   "source": [
    "#9 find no of divisors of 75\n",
    "#ans;1,3,5,15,25,75\n",
    "#number = 6\n",
    "count=0\n",
    "num=eval(input(\"enter a number\"))\n",
    "for i in range(1,76):\n",
    "    if num%i==0:\n",
    "        count=count+1\n",
    "print(count)"
   ]
  },
  {
   "cell_type": "code",
   "execution_count": null,
   "id": "7ced17d0-968e-4043-a39d-cce6441f8968",
   "metadata": {},
   "outputs": [],
   "source": [
    "#case-3\n",
    "#suppose i want to give 4 chances \n",
    "#every time you fail i want to display\n",
    "#number of chances left\n",
    "#if all the chances you are used\n",
    "#try again agter 24 hours\n",
    "#if you won\n",
    "import random\n",
    "for i in range(4):\n",
    "    num=random.randint(1,4)\n",
    "    num1=eval(input(\"enter a number:\"))\n",
    "    if num!=num1:\n",
    "        print(\"you lost\")\n",
    "        print(f\"{3-i} of chances left\")\n",
    "    elif num==num1:\n",
    "        print(\"you won\")\n",
    "        break\n",
    "if i==3:\n",
    "    print(\"try again after 24 hours\")\n"
   ]
  },
  {
   "cell_type": "code",
   "execution_count": 2,
   "id": "4aacbd50-00a3-4587-8554-a004a54e9f78",
   "metadata": {},
   "outputs": [
    {
     "name": "stdout",
     "output_type": "stream",
     "text": [
      "the total number of even numbers are {2}\n",
      "the total number of odd numbers are {3}\n",
      "the summation of even numbers is {78}\n",
      "the summation of odd numbers is  {197}\n"
     ]
    }
   ],
   "source": [
    "#wap ask the user get 5 random numbers\n",
    "#get it is an even number or odd number\n",
    "#also count how many even numbers are there\n",
    "#and count how many odd numbers are there\n",
    "#Idea\n",
    "#take two counters one even and odd count\n",
    "#for loop 5 times\n",
    "#each time takes the random number\n",
    "#if condition \n",
    "#True conuter update\n",
    "#else\n",
    "#update the counter\n",
    "import random\n",
    "summ=0\n",
    "even_count=0\n",
    "odd_count=0\n",
    "even_summ=0\n",
    "odd_summ=0\n",
    "for i in range(0,5):\n",
    "    num=random.randint(1,100)\n",
    "    if num%2==0:\n",
    "        summ=summ+num\n",
    "        #print(\"even number\")\n",
    "        even_count=even_count+1\n",
    "        even_summ=even_summ+num\n",
    "    else:\n",
    "        odd_count=odd_count+1\n",
    "        odd_summ=odd_summ+num\n",
    "\n",
    "print(f\"the total number of even numbers are\" ,{even_count})\n",
    "print(f\"the total number of odd numbers are\" , {odd_count})\n",
    "print(f\"the summation of even numbers is\",{even_summ})\n",
    "print(f\"the summation of odd numbers is \",{odd_summ})\n",
    "\n",
    "    "
   ]
  },
  {
   "cell_type": "code",
   "execution_count": 6,
   "id": "210ad09a-3d56-44e7-8351-b4bac30747bf",
   "metadata": {},
   "outputs": [
    {
     "ename": "NameError",
     "evalue": "name 'even_count' is not defined",
     "output_type": "error",
     "traceback": [
      "\u001b[1;31m---------------------------------------------------------------------------\u001b[0m",
      "\u001b[1;31mNameError\u001b[0m                                 Traceback (most recent call last)",
      "Cell \u001b[1;32mIn[6], line 22\u001b[0m\n\u001b[0;32m     20\u001b[0m             odd_sum\u001b[38;5;241m=\u001b[39modd_sum\u001b[38;5;241m+\u001b[39mnum\n\u001b[0;32m     21\u001b[0m     \u001b[38;5;28;01mreturn\u001b[39;00m(even_count,odd_count,even_sum,odd_sum)\n\u001b[1;32m---> 22\u001b[0m even_count,odd_count,even_sum,odd_sum\n\u001b[0;32m     23\u001b[0m \u001b[38;5;28mprint\u001b[39m(\u001b[38;5;124mf\u001b[39m\u001b[38;5;124m\"\u001b[39m\u001b[38;5;124mthe total number of even numbers are\u001b[39m\u001b[38;5;124m\"\u001b[39m ,{even_count})\n\u001b[0;32m     24\u001b[0m \u001b[38;5;28mprint\u001b[39m(\u001b[38;5;124mf\u001b[39m\u001b[38;5;124m\"\u001b[39m\u001b[38;5;124mthe total number of odd numbers are\u001b[39m\u001b[38;5;124m\"\u001b[39m , {odd_count})\n",
      "\u001b[1;31mNameError\u001b[0m: name 'even_count' is not defined"
     ]
    }
   ],
   "source": [
    "#create function on above code\n",
    "\n",
    "\n",
    "import random\n",
    "\n",
    "def even_odd():\n",
    "    even_count=0\n",
    "    odd_count=0\n",
    "    even_sum=0\n",
    "    odd_sum=0\n",
    "    for i in range(0,5):\n",
    "        num=random.randint(1,100)\n",
    "        if num%2==0:\n",
    "            sum=sum+num\n",
    "            #print(\"even number\")\n",
    "            even_count=even_count+1\n",
    "            even_sum=even_sum+num\n",
    "        else:\n",
    "            odd_count=odd_count+1\n",
    "            odd_sum=odd_sum+num\n",
    "    return(even_count,odd_count,even_sum,odd_sum)\n",
    "even_count,odd_count,even_sum,odd_sum\n",
    "print(f\"the total number of even numbers are\" ,{even_count})\n",
    "print(f\"the total number of odd numbers are\" , {odd_count})\n",
    "print(f\"the summation of even numbers is\",{even_summ})\n",
    "print(f\"the summation of odd numbers is \",{odd_summ})\n",
    "    \n",
    "\n"
   ]
  },
  {
   "cell_type": "code",
   "execution_count": 5,
   "id": "a157df85-eb6f-4c7c-800c-5d92a7bdb999",
   "metadata": {},
   "outputs": [
    {
     "ename": "NameError",
     "evalue": "name 'even_count' is not defined",
     "output_type": "error",
     "traceback": [
      "\u001b[1;31m---------------------------------------------------------------------------\u001b[0m",
      "\u001b[1;31mNameError\u001b[0m                                 Traceback (most recent call last)",
      "Cell \u001b[1;32mIn[5], line 1\u001b[0m\n\u001b[1;32m----> 1\u001b[0m even_count,odd_count,even_sum,odd_sum\n\u001b[0;32m      2\u001b[0m \u001b[38;5;28mprint\u001b[39m(\u001b[38;5;124mf\u001b[39m\u001b[38;5;124m\"\u001b[39m\u001b[38;5;124mthe total number of even numbers are\u001b[39m\u001b[38;5;124m\"\u001b[39m ,{even_count})\n\u001b[0;32m      3\u001b[0m \u001b[38;5;28mprint\u001b[39m(\u001b[38;5;124mf\u001b[39m\u001b[38;5;124m\"\u001b[39m\u001b[38;5;124mthe total number of odd numbers are\u001b[39m\u001b[38;5;124m\"\u001b[39m , {odd_count})\n",
      "\u001b[1;31mNameError\u001b[0m: name 'even_count' is not defined"
     ]
    }
   ],
   "source": [
    "even_count,odd_count,even_sum,odd_sum\n",
    "print(f\"the total number of even numbers are\" ,{even_count})\n",
    "print(f\"the total number of odd numbers are\" , {odd_count})\n",
    "print(f\"the summation of even numbers is\",{even_summ})\n",
    "print(f\"the summation of odd numbers is \",{odd_summ})"
   ]
  },
  {
   "cell_type": "markdown",
   "id": "4cc60dc1-249d-41a7-91de-dc80acd5c392",
   "metadata": {},
   "source": [
    "**in operator**\n",
    "\n",
    "  "
   ]
  },
  {
   "cell_type": "code",
   "execution_count": 5,
   "id": "eb74bc50-e479-48f1-96fe-6ea748f0c6e5",
   "metadata": {},
   "outputs": [
    {
     "data": {
      "text/plain": [
       "True"
      ]
     },
     "execution_count": 5,
     "metadata": {},
     "output_type": "execute_result"
    }
   ],
   "source": [
    "string1='python'\n",
    "'p' in string1\n",
    "'y' in string1\n",
    "i in string1"
   ]
  },
  {
   "cell_type": "code",
   "execution_count": 3,
   "id": "7e177096-737a-4d4c-9b55-2ff3db656646",
   "metadata": {},
   "outputs": [
    {
     "name": "stdout",
     "output_type": "stream",
     "text": [
      "p\n",
      "y\n",
      "t\n",
      "h\n",
      "o\n",
      "n\n"
     ]
    }
   ],
   "source": [
    "for i in string1:\n",
    "    print(i)"
   ]
  },
  {
   "cell_type": "markdown",
   "id": "e6059678-d375-4d60-be94-cb706205189e",
   "metadata": {},
   "source": [
    "**difference b/w in in operator and range operator**\n",
    "- range belongs to math family\n",
    "- inside range we have to keep numbers only\n",
    "- whenever if we want iterarte throungh a english letters\n",
    "- we need to choose $in$ operator\n",
    "- range means number\n",
    "- in means strings"
   ]
  },
  {
   "cell_type": "code",
   "execution_count": 6,
   "id": "8adc8991-9edc-4062-bf9d-74f31cd0a864",
   "metadata": {},
   "outputs": [
    {
     "data": {
      "text/plain": [
       "True"
      ]
     },
     "execution_count": 6,
     "metadata": {},
     "output_type": "execute_result"
    }
   ],
   "source": [
    "'p'>'P'"
   ]
  },
  {
   "cell_type": "markdown",
   "id": "6ca0a1d8-62bd-4e6b-b5f6-1079953617c9",
   "metadata": {},
   "source": [
    "- every english letter \n",
    "- every spl character how machine will understand\n",
    "- machine language always consider as numbers\n",
    "- evrey non numeric assign a number\n",
    "- ASCII: american standard code for information interchange\n",
    "- A : 65, a:97"
   ]
  },
  {
   "cell_type": "markdown",
   "id": "f2520314-cf8d-4bf8-b454-ef563b330b30",
   "metadata": {},
   "source": [
    "**ord-chr**"
   ]
  },
  {
   "cell_type": "code",
   "execution_count": null,
   "id": "5d2956c9-5191-4c11-b94a-1f6bc53fdc40",
   "metadata": {},
   "outputs": [],
   "source": [
    "A == 65 == 0b1000001"
   ]
  },
  {
   "cell_type": "code",
   "execution_count": 8,
   "id": "3ace912d-bafd-49e0-970f-d21edd92607f",
   "metadata": {},
   "outputs": [
    {
     "data": {
      "text/plain": [
       "65"
      ]
     },
     "execution_count": 8,
     "metadata": {},
     "output_type": "execute_result"
    }
   ],
   "source": [
    "0b1000001"
   ]
  },
  {
   "cell_type": "code",
   "execution_count": 10,
   "id": "1e4348c0-7aba-4bd3-b1fb-403bf1e2795e",
   "metadata": {},
   "outputs": [
    {
     "data": {
      "text/plain": [
       "(65, 97)"
      ]
     },
     "execution_count": 10,
     "metadata": {},
     "output_type": "execute_result"
    }
   ],
   "source": [
    "ord('A'),ord('a')"
   ]
  },
  {
   "cell_type": "code",
   "execution_count": 11,
   "id": "0200cff8-5434-4a24-b508-18d92d465be1",
   "metadata": {},
   "outputs": [
    {
     "data": {
      "text/plain": [
       "(112, 80)"
      ]
     },
     "execution_count": 11,
     "metadata": {},
     "output_type": "execute_result"
    }
   ],
   "source": [
    "ord('p'),ord('P')"
   ]
  },
  {
   "cell_type": "code",
   "execution_count": 12,
   "id": "34ea8040-6eca-42a6-9ca6-d3cf67f52fc2",
   "metadata": {},
   "outputs": [
    {
     "data": {
      "text/plain": [
       "True"
      ]
     },
     "execution_count": 12,
     "metadata": {},
     "output_type": "execute_result"
    }
   ],
   "source": [
    "'p'>'P' #112<80"
   ]
  },
  {
   "cell_type": "code",
   "execution_count": 17,
   "id": "dae18c47-763a-4525-ad60-e58715d17bbe",
   "metadata": {},
   "outputs": [
    {
     "data": {
      "text/plain": [
       "('p', 'P', 'A', 'a')"
      ]
     },
     "execution_count": 17,
     "metadata": {},
     "output_type": "execute_result"
    }
   ],
   "source": [
    "chr(112),chr(80),chr(65),chr(97)"
   ]
  },
  {
   "cell_type": "code",
   "execution_count": 14,
   "id": "9b8c98a4-2de4-4266-b3d6-11725214782c",
   "metadata": {},
   "outputs": [
    {
     "data": {
      "text/plain": [
       "'P'"
      ]
     },
     "execution_count": 14,
     "metadata": {},
     "output_type": "execute_result"
    }
   ],
   "source": [
    "chr(80)"
   ]
  },
  {
   "cell_type": "code",
   "execution_count": 15,
   "id": "17b617d6-a2ff-4ba8-bb8d-ba2cd0cbc0d3",
   "metadata": {},
   "outputs": [
    {
     "data": {
      "text/plain": [
       "'A'"
      ]
     },
     "execution_count": 15,
     "metadata": {},
     "output_type": "execute_result"
    }
   ],
   "source": [
    "chr(65)"
   ]
  },
  {
   "cell_type": "code",
   "execution_count": 16,
   "id": "de8b4472-89fd-4b78-960c-127ef8e902ce",
   "metadata": {},
   "outputs": [
    {
     "data": {
      "text/plain": [
       "'a'"
      ]
     },
     "execution_count": 16,
     "metadata": {},
     "output_type": "execute_result"
    }
   ],
   "source": [
    "chr(97)"
   ]
  },
  {
   "cell_type": "code",
   "execution_count": 23,
   "id": "e4e44fef-b837-4464-9141-6e186a0e0c68",
   "metadata": {},
   "outputs": [
    {
     "name": "stdout",
     "output_type": "stream",
     "text": [
      "the ASCII number for p is 112\n",
      "the ASCII number for y is 121\n",
      "the ASCII number for t is 116\n",
      "the ASCII number for h is 104\n",
      "the ASCII number for o is 111\n",
      "the ASCII number for n is 110\n",
      "674\n"
     ]
    }
   ],
   "source": [
    "#i want\n",
    "summ=0\n",
    "for i in 'python':\n",
    "    summ=summ+ord(i)\n",
    "    \n",
    "    print(f\"the ASCII number for {i} is {ord(i)}\")\n",
    "print(summ)"
   ]
  },
  {
   "cell_type": "code",
   "execution_count": null,
   "id": "aa85bf53-fc02-43b5-b360-ea2038815397",
   "metadata": {},
   "outputs": [],
   "source": [
    "# i want to know all ascii number from A to Z\n"
   ]
  },
  {
   "cell_type": "code",
   "execution_count": 24,
   "id": "9ce60357-cd5f-4358-9300-701260e7921b",
   "metadata": {},
   "outputs": [],
   "source": [
    "#package called:string\n",
    "#import the package\n",
    "#apply the dir\n",
    "#there are some methods are there\n",
    "#in that one method will capital letters\n",
    "\n",
    "import string\n",
    "for in ascii_uppercase:"
   ]
  },
  {
   "cell_type": "code",
   "execution_count": 26,
   "id": "68a6cf2f-826b-4d32-a6f9-6acfab5ccf89",
   "metadata": {},
   "outputs": [
    {
     "data": {
      "text/plain": [
       "['Formatter',\n",
       " 'Template',\n",
       " '_ChainMap',\n",
       " '__all__',\n",
       " '__builtins__',\n",
       " '__cached__',\n",
       " '__doc__',\n",
       " '__file__',\n",
       " '__loader__',\n",
       " '__name__',\n",
       " '__package__',\n",
       " '__spec__',\n",
       " '_re',\n",
       " '_sentinel_dict',\n",
       " '_string',\n",
       " 'ascii_letters',\n",
       " 'ascii_lowercase',\n",
       " 'ascii_uppercase',\n",
       " 'capwords',\n",
       " 'digits',\n",
       " 'hexdigits',\n",
       " 'octdigits',\n",
       " 'printable',\n",
       " 'punctuation',\n",
       " 'whitespace']"
      ]
     },
     "execution_count": 26,
     "metadata": {},
     "output_type": "execute_result"
    }
   ],
   "source": [
    "dir(string)"
   ]
  },
  {
   "cell_type": "code",
   "execution_count": 30,
   "id": "4615a677-5fa4-4e95-98e0-09887a3d4952",
   "metadata": {},
   "outputs": [
    {
     "data": {
      "text/plain": [
       "'ABCDEFGHIJKLMNOPQRSTUVWXYZ'"
      ]
     },
     "execution_count": 30,
     "metadata": {},
     "output_type": "execute_result"
    }
   ],
   "source": [
    "string.ascii_uppercase"
   ]
  },
  {
   "cell_type": "code",
   "execution_count": 34,
   "id": "f12e398b-1450-4218-acd7-6d8a229e5343",
   "metadata": {},
   "outputs": [
    {
     "name": "stdout",
     "output_type": "stream",
     "text": [
      "A 65\n",
      "B 66\n",
      "C 67\n",
      "D 68\n",
      "E 69\n",
      "F 70\n",
      "G 71\n",
      "H 72\n",
      "I 73\n",
      "J 74\n",
      "K 75\n",
      "L 76\n",
      "M 77\n",
      "N 78\n",
      "O 79\n",
      "P 80\n",
      "Q 81\n",
      "R 82\n",
      "S 83\n",
      "T 84\n",
      "U 85\n",
      "V 86\n",
      "W 87\n",
      "X 88\n",
      "Y 89\n",
      "Z 90\n"
     ]
    }
   ],
   "source": [
    "for i in string.ascii_uppercase:\n",
    "    print(i,ord(i))"
   ]
  },
  {
   "cell_type": "code",
   "execution_count": 36,
   "id": "6a88f00e-c606-43d2-bc36-5009568ba385",
   "metadata": {},
   "outputs": [
    {
     "name": "stdout",
     "output_type": "stream",
     "text": [
      "a 97 b 98 c 99 d 100 e 101 f 102 g 103 h 104 i 105 j 106 k 107 l 108 m 109 n 110 o 111 p 112 q 113 r 114 s 115 t 116 u 117 v 118 w 119 x 120 y 121 z 122 "
     ]
    }
   ],
   "source": [
    "for i in string.ascii_lowercase:\n",
    "    print(i,ord(i),end=' ')"
   ]
  },
  {
   "cell_type": "code",
   "execution_count": 40,
   "id": "5013bec3-5b0f-4804-9c17-7944a56d6e24",
   "metadata": {},
   "outputs": [
    {
     "name": "stdout",
     "output_type": "stream",
     "text": [
      "! 33 \" 34 # 35 $ 36 % 37 & 38 ' 39 ( 40 ) 41 * 42 + 43 , 44 - 45 . 46 / 47 : 58 ; 59 < 60 = 61 > 62 ? 63 @ 64 [ 91 \\ 92 ] 93 ^ 94 _ 95 ` 96 { 123 | 124 } 125 ~ 126 "
     ]
    }
   ],
   "source": [
    "for i in string.punctuation:\n",
    "    print(i,ord(i),end=' ')"
   ]
  },
  {
   "cell_type": "code",
   "execution_count": 38,
   "id": "8f18828c-d796-4d9f-ae75-4cbc5f53b8e7",
   "metadata": {},
   "outputs": [
    {
     "name": "stdout",
     "output_type": "stream",
     "text": [
      "33 !==>34 \"==>35 #==>36 $==>37 %==>38 &==>39 '==>40 (==>41 )==>42 *==>43 +==>44 ,==>45 -==>46 .==>47 /==>48 0==>49 1==>50 2==>51 3==>52 4==>53 5==>54 6==>55 7==>56 8==>57 9==>58 :==>59 ;==>60 <==>61 ===>62 >==>63 ?==>64 @==>65 A==>66 B==>67 C==>68 D==>69 E==>70 F==>71 G==>72 H==>73 I==>74 J==>75 K==>76 L==>77 M==>78 N==>79 O==>80 P==>81 Q==>82 R==>83 S==>84 T==>85 U==>86 V==>87 W==>88 X==>89 Y==>90 Z==>91 [==>92 \\==>93 ]==>94 ^==>95 _==>96 `==>97 a==>98 b==>99 c==>100 d==>101 e==>102 f==>103 g==>104 h==>105 i==>106 j==>107 k==>108 l==>109 m==>110 n==>111 o==>112 p==>113 q==>114 r==>115 s==>116 t==>117 u==>118 v==>119 w==>120 x==>121 y==>122 z==>123 {==>124 |==>125 }==>"
     ]
    }
   ],
   "source": [
    "for i in range(33,126):\n",
    "    print(i,chr(i),end='==>')"
   ]
  },
  {
   "cell_type": "code",
   "execution_count": 41,
   "id": "751a71ab-5ef5-4290-9242-37a72fb113ce",
   "metadata": {},
   "outputs": [
    {
     "name": "stdout",
     "output_type": "stream",
     "text": [
      "3078 ఆ==>3079 ఇ==>3080 ఈ==>3081 ఉ==>3082 ఊ==>3083 ఋ==>3084 ఌ==>3085 ఍==>3086 ఎ==>3087 ఏ==>3088 ఐ==>3089 ఑==>3090 ఒ==>3091 ఓ==>3092 ఔ==>3093 క==>3094 ఖ==>3095 గ==>3096 ఘ==>3097 ఙ==>3098 చ==>3099 ఛ==>3100 జ==>3101 ఝ==>3102 ఞ==>3103 ట==>3104 ఠ==>3105 డ==>3106 ఢ==>3107 ణ==>3108 త==>3109 థ==>3110 ద==>3111 ధ==>3112 న==>3113 ఩==>3114 ప==>3115 ఫ==>3116 బ==>3117 భ==>3118 మ==>3119 య==>3120 ర==>3121 ఱ==>3122 ల==>3123 ళ==>3124 ఴ==>3125 వ==>3126 శ==>3127 ష==>3128 స==>3129 హ==>3130 ఺==>3131 ఻==>3132 ఼==>3133 ఽ==>3134 ా==>3135 ి==>3136 ీ==>3137 ు==>3138 ూ==>3139 ృ==>3140 ౄ==>3141 ౅==>3142 ె==>3143 ే==>3144 ై==>3145 ౉==>3146 ొ==>3147 ో==>3148 ౌ==>3149 ్==>3150 ౎==>3151 ౏==>3152 ౐==>3153 ౑==>3154 ౒==>3155 ౓==>3156 ౔==>3157 ౕ==>3158 ౖ==>3159 ౗==>3160 ౘ==>3161 ౙ==>3162 ౚ==>3163 ౛==>3164 ౜==>3165 ౝ==>3166 ౞==>3167 ౟==>3168 ౠ==>3169 ౡ==>3170 ౢ==>3171 ౣ==>3172 ౤==>3173 ౥==>3174 ౦==>3175 ౧==>3176 ౨==>3177 ౩==>"
     ]
    }
   ],
   "source": [
    "for i in range(3078,3178):\n",
    "    print(i,chr(i),end='==>')"
   ]
  },
  {
   "cell_type": "code",
   "execution_count": 1,
   "id": "03fa2e05-8b84-45c8-a5a6-35872d75f6d7",
   "metadata": {},
   "outputs": [
    {
     "name": "stdin",
     "output_type": "stream",
     "text": [
      "enter the numbers: 5\n"
     ]
    },
    {
     "name": "stdout",
     "output_type": "stream",
     "text": [
      "the square of 5 is 25\n"
     ]
    },
    {
     "name": "stdin",
     "output_type": "stream",
     "text": [
      "enter the numbers: 6\n"
     ]
    },
    {
     "name": "stdout",
     "output_type": "stream",
     "text": [
      "the square of 6 is 36\n"
     ]
    },
    {
     "name": "stdin",
     "output_type": "stream",
     "text": [
      "enter the numbers: 7\n"
     ]
    },
    {
     "name": "stdout",
     "output_type": "stream",
     "text": [
      "the square of 7 is 49\n"
     ]
    }
   ],
   "source": [
    "#wap ask the user enter a number three times find the square of the number\n",
    "\n",
    "for i in range(3):\n",
    "    num=eval(input(\"enter the numbers:\"))\n",
    "    print(f\"the square of {num} is {num*num}\")"
   ]
  },
  {
   "cell_type": "code",
   "execution_count": 7,
   "id": "72005692-829e-49ef-8f78-e8c6fc487dce",
   "metadata": {},
   "outputs": [
    {
     "name": "stdin",
     "output_type": "stream",
     "text": [
      "enter table to be printed: 14\n"
     ]
    },
    {
     "name": "stdout",
     "output_type": "stream",
     "text": [
      "14 x 1 = 14\n",
      "14 x 2 = 28\n",
      "14 x 3 = 42\n",
      "14 x 4 = 56\n",
      "14 x 5 = 70\n",
      "14 x 6 = 84\n",
      "14 x 7 = 98\n",
      "14 x 8 = 112\n",
      "14 x 9 = 126\n",
      "14 x 10 = 140\n"
     ]
    }
   ],
   "source": [
    "#5 print the 14 table \n",
    "#ans 14 x 1 =14\n",
    "# \n",
    "#\n",
    "#\n",
    "# 14 x 10 =140\n",
    "num=eval(input(\"enter table to be printed:\"))\n",
    "for i in range(1,11):\n",
    "    a=num*i\n",
    "    print(f\"{num} x {i} = {a}\")"
   ]
  },
  {
   "cell_type": "code",
   "execution_count": 8,
   "id": "63c6ed8b-c739-4561-b319-8845c278dfb8",
   "metadata": {},
   "outputs": [
    {
     "name": "stdout",
     "output_type": "stream",
     "text": [
      "15 - 1 = 14\n",
      "15 - 2 = 13\n",
      "15 - 3 = 12\n",
      "15 - 4 = 11\n",
      "15 - 5 = 10\n",
      "15 - 6 = 9\n",
      "15 - 7 = 8\n",
      "15 - 8 = 7\n",
      "15 - 9 = 6\n",
      "15 - 10 = 5\n"
     ]
    }
   ],
   "source": [
    "num=15\n",
    "for i in range(1,11):\n",
    "    a=num-i\n",
    "    print(f\"{num} - {i} = {a}\")"
   ]
  },
  {
   "cell_type": "code",
   "execution_count": 22,
   "id": "5c414e0a-a2fd-4572-a7eb-31efb0259577",
   "metadata": {},
   "outputs": [
    {
     "name": "stdin",
     "output_type": "stream",
     "text": [
      "which number fators u want: 75\n"
     ]
    },
    {
     "name": "stdout",
     "output_type": "stream",
     "text": [
      "1 is the divisor of 75\n",
      "3 is the divisor of 75\n",
      "5 is the divisor of 75\n",
      "15 is the divisor of 75\n",
      "25 is the divisor of 75\n",
      "75 is the divisor of 75\n"
     ]
    }
   ],
   "source": [
    "#6 find the factors of 75\n",
    "#num=75\n",
    "num=eval(input(\"which number fators u want:\"))\n",
    "for i in range(1,num+1):\n",
    "    if num%i==0:\n",
    "        #print(i,num)\n",
    "        print(f\"{i} is the divisor of {num}\")"
   ]
  },
  {
   "cell_type": "code",
   "execution_count": 4,
   "id": "4cb54ee9-b8cc-44d6-b6ab-b6b8fb27e2a5",
   "metadata": {},
   "outputs": [
    {
     "name": "stdout",
     "output_type": "stream",
     "text": [
      "1 + 1 = 1\n",
      "3 + 2 = 3\n",
      "6 + 3 = 6\n",
      "10 + 4 = 10\n",
      "15 + 5 = 15\n",
      "21 + 6 = 21\n",
      "28 + 7 = 28\n",
      "36 + 8 = 36\n",
      "45 + 9 = 45\n",
      "55 + 10 = 55\n"
     ]
    }
   ],
   "source": [
    "#7 write the sum of first 10 natural numbers\n",
    "summ=0\n",
    "for i in range(1,11):\n",
    "    summ=summ+i\n",
    "    print(f\"{summ} + {i} = {summ}\")\n",
    "    #print(summ)\n",
    "    "
   ]
  },
  {
   "cell_type": "markdown",
   "id": "86cd3448-aa6d-4a06-a3c7-26b4308dbb37",
   "metadata": {},
   "source": [
    "**summation rapper**\n",
    "- initially sum =0\n",
    "- make sure that do not provide **sum**\n",
    "- because sum is a keyword\n",
    "- inside for loop we will write sum =sum+i"
   ]
  },
  {
   "cell_type": "code",
   "execution_count": 1,
   "id": "f51ecb69-c6c2-414e-9910-4b3cd4035427",
   "metadata": {},
   "outputs": [
    {
     "name": "stdout",
     "output_type": "stream",
     "text": [
      "1 + 1 = 1\n",
      "3 + 2 = 3\n",
      "6 + 3 = 6\n",
      "10 + 4 = 10\n",
      "15 + 5 = 15\n",
      "21 + 6 = 21\n",
      "28 + 7 = 28\n",
      "36 + 8 = 36\n",
      "45 + 9 = 45\n",
      "55 + 10 = 55\n"
     ]
    }
   ],
   "source": [
    "summ = 0\n",
    "i = 1\n",
    "while i <= 10:\n",
    "    summ = summ + i\n",
    "    print(f\"{summ} + {i} = {summ}\")\n",
    "    i = i + 1\n"
   ]
  },
  {
   "cell_type": "code",
   "execution_count": 2,
   "id": "5e28dadd-2aa7-40af-afbe-b7c2549eed29",
   "metadata": {},
   "outputs": [
    {
     "name": "stdout",
     "output_type": "stream",
     "text": [
      "1 + 1 = 1\n",
      "3 + 2 = 3\n",
      "6 + 3 = 6\n",
      "10 + 4 = 10\n",
      "15 + 5 = 15\n",
      "21 + 6 = 21\n",
      "28 + 7 = 28\n",
      "36 + 8 = 36\n",
      "45 + 9 = 45\n",
      "55 + 10 = 55\n"
     ]
    }
   ],
   "source": [
    "summ=0\n",
    "for i in range(10):\n",
    "    summ=summ+i+1\n",
    "    print(f\"{summ} + {i+1} = {summ}\")"
   ]
  },
  {
   "cell_type": "code",
   "execution_count": 8,
   "id": "e76eaf10-91ba-4972-9c08-be0d2115c205",
   "metadata": {},
   "outputs": [
    {
     "name": "stdin",
     "output_type": "stream",
     "text": [
      "enter the number 10\n"
     ]
    },
    {
     "name": "stdout",
     "output_type": "stream",
     "text": [
      "5.5\n"
     ]
    }
   ],
   "source": [
    "#8 vag of first 1 to 10 numbers\n",
    "summ=0\n",
    "N=eval(input(\"enter the number\"))\n",
    "for i in range(1,N+1):\n",
    "       summ=summ+i\n",
    "print(summ/N)\n",
    "    "
   ]
  },
  {
   "cell_type": "code",
   "execution_count": null,
   "id": "a22bab12-1c3a-492a-8112-27872b6cb3c7",
   "metadata": {},
   "outputs": [],
   "source": []
  }
 ],
 "metadata": {
  "kernelspec": {
   "display_name": "Python 3 (ipykernel)",
   "language": "python",
   "name": "python3"
  },
  "language_info": {
   "codemirror_mode": {
    "name": "ipython",
    "version": 3
   },
   "file_extension": ".py",
   "mimetype": "text/x-python",
   "name": "python",
   "nbconvert_exporter": "python",
   "pygments_lexer": "ipython3",
   "version": "3.11.7"
  }
 },
 "nbformat": 4,
 "nbformat_minor": 5
}
