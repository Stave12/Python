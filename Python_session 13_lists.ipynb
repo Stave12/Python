{
 "cells": [
  {
   "cell_type": "markdown",
   "id": "03d15442-0951-49e4-8b00-cc9308fa29f9",
   "metadata": {},
   "source": [
    "**Representations**"
   ]
  },
  {
   "cell_type": "markdown",
   "id": "fdbafebe-ab78-4318-b074-d6ff9008001c",
   "metadata": {},
   "source": [
    "- string reprsentation with quotes\n",
    "- list representation with sruare brackets[]"
   ]
  },
  {
   "cell_type": "code",
   "execution_count": 2,
   "id": "276791dd-61ae-4647-bc1c-93a8c54bd1f7",
   "metadata": {},
   "outputs": [
    {
     "data": {
      "text/plain": [
       "[1, 2, 3, 4]"
      ]
     },
     "execution_count": 2,
     "metadata": {},
     "output_type": "execute_result"
    }
   ],
   "source": [
    "l1=[1,2,3,4]\n",
    "l1"
   ]
  },
  {
   "cell_type": "code",
   "execution_count": 3,
   "id": "a385e36a-15b9-4d71-8c4c-860abb621227",
   "metadata": {},
   "outputs": [
    {
     "data": {
      "text/plain": [
       "list"
      ]
     },
     "execution_count": 3,
     "metadata": {},
     "output_type": "execute_result"
    }
   ],
   "source": [
    "type(l1)"
   ]
  },
  {
   "cell_type": "code",
   "execution_count": 5,
   "id": "93889170-9e3f-4d91-b75f-1635cf0aa1db",
   "metadata": {},
   "outputs": [
    {
     "data": {
      "text/plain": [
       "['A', 'B', 'C', 'D']"
      ]
     },
     "execution_count": 5,
     "metadata": {},
     "output_type": "execute_result"
    }
   ],
   "source": [
    "l2=['A','B','C','D']\n",
    "l2"
   ]
  },
  {
   "cell_type": "code",
   "execution_count": 7,
   "id": "dd86b229-5cc8-4458-bed1-6dd9e2dd0143",
   "metadata": {},
   "outputs": [
    {
     "data": {
      "text/plain": [
       "['A', 'B', 'C', 'D', 1, 2, 3, 4]"
      ]
     },
     "execution_count": 7,
     "metadata": {},
     "output_type": "execute_result"
    }
   ],
   "source": [
    "l4=['A','B','C','D',1,2,3,4]\n",
    "l4"
   ]
  },
  {
   "cell_type": "code",
   "execution_count": 8,
   "id": "87b49374-9800-46fe-a402-269add1364a6",
   "metadata": {},
   "outputs": [
    {
     "data": {
      "text/plain": [
       "[1, 2, 3, 'apple', 'ball', 'cat', True, False]"
      ]
     },
     "execution_count": 8,
     "metadata": {},
     "output_type": "execute_result"
    }
   ],
   "source": [
    "l5=[1,2,3,'apple','ball','cat',True,False]\n",
    "l5"
   ]
  },
  {
   "cell_type": "code",
   "execution_count": 9,
   "id": "02928550-9620-4bc5-a8d3-2d2b3023fe00",
   "metadata": {},
   "outputs": [
    {
     "data": {
      "text/plain": [
       "['naresh it']"
      ]
     },
     "execution_count": 9,
     "metadata": {},
     "output_type": "execute_result"
    }
   ],
   "source": [
    "name='naresh it'\n",
    "l5=[name]\n",
    "l5"
   ]
  },
  {
   "cell_type": "code",
   "execution_count": 10,
   "id": "0e9a369e-6ba1-45d2-8c32-81b29a33a84c",
   "metadata": {},
   "outputs": [
    {
     "data": {
      "text/plain": [
       "[100, 100, 100]"
      ]
     },
     "execution_count": 10,
     "metadata": {},
     "output_type": "execute_result"
    }
   ],
   "source": [
    "l6=[100,100,100]\n",
    "l6"
   ]
  },
  {
   "cell_type": "code",
   "execution_count": 12,
   "id": "54ffa61d-ed7f-4c22-aec7-578d061a7e3b",
   "metadata": {},
   "outputs": [
    {
     "data": {
      "text/plain": [
       "[10, 20, 'n', 'p']"
      ]
     },
     "execution_count": 12,
     "metadata": {},
     "output_type": "execute_result"
    }
   ],
   "source": [
    "l6=[10,20,'n','p']\n",
    "l6"
   ]
  },
  {
   "cell_type": "code",
   "execution_count": 13,
   "id": "bc51e7f2-80e9-4106-9395-6ad56f2e8a53",
   "metadata": {},
   "outputs": [
    {
     "data": {
      "text/plain": [
       "[100, 'Apple', ['A', 2]]"
      ]
     },
     "execution_count": 13,
     "metadata": {},
     "output_type": "execute_result"
    }
   ],
   "source": [
    "l7=[100,'Apple',['A',2]]\n",
    "l7"
   ]
  },
  {
   "cell_type": "code",
   "execution_count": 14,
   "id": "507fbb1c-7157-4b1c-b32a-108c3cf01675",
   "metadata": {},
   "outputs": [
    {
     "data": {
      "text/plain": [
       "[0.2, 0.5]"
      ]
     },
     "execution_count": 14,
     "metadata": {},
     "output_type": "execute_result"
    }
   ],
   "source": [
    "l7=[0.2,0.5]\n",
    "l7"
   ]
  },
  {
   "cell_type": "markdown",
   "id": "bb53fa2a-efb7-4dae-859b-85afb15777c2",
   "metadata": {},
   "source": [
    "- lists are array of elements \n",
    "- lists elements are heterogeneous all the data types we can represent in a list\n",
    "- list elements are allowed duplicates\n",
    "- list in list is posible\n",
    "- variable assignment also possible in the list"
   ]
  },
  {
   "cell_type": "code",
   "execution_count": 15,
   "id": "57f0b0ec-43b6-4d80-b331-e53498acd535",
   "metadata": {},
   "outputs": [
    {
     "data": {
      "text/plain": [
       "5"
      ]
     },
     "execution_count": 15,
     "metadata": {},
     "output_type": "execute_result"
    }
   ],
   "source": [
    "l1=[1,2,3,4,5]\n",
    "len(l1)"
   ]
  },
  {
   "cell_type": "code",
   "execution_count": 16,
   "id": "6e89342d-ee9e-4d18-8d7c-ec5983eb4fd7",
   "metadata": {},
   "outputs": [
    {
     "data": {
      "text/plain": [
       "5"
      ]
     },
     "execution_count": 16,
     "metadata": {},
     "output_type": "execute_result"
    }
   ],
   "source": [
    "l1=[1,2,3,4,5]\n",
    "max(l1)"
   ]
  },
  {
   "cell_type": "code",
   "execution_count": 17,
   "id": "9ee79dc7-c634-46a7-bd99-8d4577e4902c",
   "metadata": {},
   "outputs": [
    {
     "data": {
      "text/plain": [
       "1"
      ]
     },
     "execution_count": 17,
     "metadata": {},
     "output_type": "execute_result"
    }
   ],
   "source": [
    "min(l1)"
   ]
  },
  {
   "cell_type": "code",
   "execution_count": 18,
   "id": "e5c5bcc7-9eea-4ab6-891f-52fb1dff6737",
   "metadata": {},
   "outputs": [
    {
     "data": {
      "text/plain": [
       "[1, 2, 3, 4, 5]"
      ]
     },
     "execution_count": 18,
     "metadata": {},
     "output_type": "execute_result"
    }
   ],
   "source": [
    "l2=[2,8,9,1,5,4]\n",
    "sorted(l1)"
   ]
  },
  {
   "cell_type": "code",
   "execution_count": 19,
   "id": "b65a574b-18fe-431f-8c0a-4a2ee009483a",
   "metadata": {},
   "outputs": [
    {
     "data": {
      "text/plain": [
       "<list_reverseiterator at 0x20e83bb7d90>"
      ]
     },
     "execution_count": 19,
     "metadata": {},
     "output_type": "execute_result"
    }
   ],
   "source": [
    "reversed(l1)"
   ]
  },
  {
   "cell_type": "code",
   "execution_count": 29,
   "id": "c3f9b71d-ee0a-4e61-889f-7b27ae8d2020",
   "metadata": {},
   "outputs": [
    {
     "name": "stdout",
     "output_type": "stream",
     "text": [
      "4\n",
      "5\n",
      "1\n",
      "9\n",
      "8\n",
      "2\n"
     ]
    }
   ],
   "source": [
    "for i in reversed(l2):\n",
    "    print(i)"
   ]
  },
  {
   "cell_type": "code",
   "execution_count": 26,
   "id": "14813257-4265-43cb-ba71-28b55aa99b1d",
   "metadata": {},
   "outputs": [
    {
     "data": {
      "text/plain": [
       "[False, True, 'cat', 'ball', 'apple', 3, 2, 1]"
      ]
     },
     "execution_count": 26,
     "metadata": {},
     "output_type": "execute_result"
    }
   ],
   "source": [
    "l5=[1,2,3,'apple','ball','cat',True,False]\n",
    "list(reversed(l5))"
   ]
  },
  {
   "cell_type": "code",
   "execution_count": 28,
   "id": "de76c7e2-3055-4a96-a2e8-dd6efc4e3ae7",
   "metadata": {},
   "outputs": [
    {
     "name": "stdout",
     "output_type": "stream",
     "text": [
      "False\n",
      "True\n",
      "cat\n",
      "ball\n",
      "apple\n",
      "3\n",
      "2\n",
      "1\n"
     ]
    }
   ],
   "source": [
    "for i in reversed(l5):\n",
    "    print(i)"
   ]
  },
  {
   "cell_type": "code",
   "execution_count": 32,
   "id": "e1bd6147-f744-4cfd-aa0b-cd8440be6424",
   "metadata": {},
   "outputs": [
    {
     "data": {
      "text/plain": [
       "'stave'"
      ]
     },
     "execution_count": 32,
     "metadata": {},
     "output_type": "execute_result"
    }
   ],
   "source": [
    "name=['stave','Stave']\n",
    "max(name)\n",
    "#first compare all first letters \n",
    "#if all first letters ascii values same\n",
    "#then compare with the second letters\n",
    "#countinue the process"
   ]
  },
  {
   "cell_type": "code",
   "execution_count": 31,
   "id": "173f2713-90d4-49ee-a2b0-9517fed8032b",
   "metadata": {},
   "outputs": [
    {
     "data": {
      "text/plain": [
       "'Stave'"
      ]
     },
     "execution_count": 31,
     "metadata": {},
     "output_type": "execute_result"
    }
   ],
   "source": [
    "min(name)"
   ]
  },
  {
   "cell_type": "markdown",
   "id": "bb083095-029e-40b0-9d81-36165ec42f6a",
   "metadata": {},
   "source": [
    "**indexing**"
   ]
  },
  {
   "cell_type": "code",
   "execution_count": 36,
   "id": "c8b0cf24-2f3e-4396-87e3-65011fd5f8e2",
   "metadata": {},
   "outputs": [
    {
     "data": {
      "text/plain": [
       "'apple'"
      ]
     },
     "execution_count": 36,
     "metadata": {},
     "output_type": "execute_result"
    }
   ],
   "source": [
    "l5=[1,2,3,'apple','ball','cat',True,False]\n",
    "l5[3]"
   ]
  },
  {
   "cell_type": "code",
   "execution_count": 37,
   "id": "b38bcadc-7de8-4664-8f67-3fb3308928dc",
   "metadata": {},
   "outputs": [
    {
     "data": {
      "text/plain": [
       "'ball'"
      ]
     },
     "execution_count": 37,
     "metadata": {},
     "output_type": "execute_result"
    }
   ],
   "source": [
    "l5[-4]"
   ]
  },
  {
   "cell_type": "code",
   "execution_count": 38,
   "id": "0c3382cb-9974-4422-95c7-3b9778d41aba",
   "metadata": {},
   "outputs": [
    {
     "data": {
      "text/plain": [
       "(True, 3)"
      ]
     },
     "execution_count": 38,
     "metadata": {},
     "output_type": "execute_result"
    }
   ],
   "source": [
    "l5[-2],l5[2]"
   ]
  },
  {
   "cell_type": "code",
   "execution_count": 39,
   "id": "14b05884-858d-4131-b43d-cbfad42850ec",
   "metadata": {},
   "outputs": [
    {
     "data": {
      "text/plain": [
       "1"
      ]
     },
     "execution_count": 39,
     "metadata": {},
     "output_type": "execute_result"
    }
   ],
   "source": [
    "l1=[1,[2]]\n",
    "l1[0]"
   ]
  },
  {
   "cell_type": "code",
   "execution_count": 41,
   "id": "51adb294-9825-4f93-a3d7-21b5497aab63",
   "metadata": {},
   "outputs": [
    {
     "data": {
      "text/plain": [
       "2"
      ]
     },
     "execution_count": 41,
     "metadata": {},
     "output_type": "execute_result"
    }
   ],
   "source": [
    "l1[1][0]"
   ]
  },
  {
   "cell_type": "code",
   "execution_count": 42,
   "id": "60d8ac73-fd73-4d35-b50b-6522162681e9",
   "metadata": {},
   "outputs": [
    {
     "data": {
      "text/plain": [
       "[2]"
      ]
     },
     "execution_count": 42,
     "metadata": {},
     "output_type": "execute_result"
    }
   ],
   "source": [
    "l1[1]"
   ]
  },
  {
   "cell_type": "code",
   "execution_count": 52,
   "id": "bcfa4eb5-561e-49e4-87cd-b2dbdb7cc1a2",
   "metadata": {},
   "outputs": [
    {
     "data": {
      "text/plain": [
       "'A'"
      ]
     },
     "execution_count": 52,
     "metadata": {},
     "output_type": "execute_result"
    }
   ],
   "source": [
    "l1=[1,[2,'A']] #we want to print A here\n",
    "l1[1] [1]"
   ]
  },
  {
   "cell_type": "code",
   "execution_count": 45,
   "id": "e7dc1d14-7c04-4030-898e-f6cbd0f8e9d2",
   "metadata": {},
   "outputs": [
    {
     "data": {
      "text/plain": [
       "2"
      ]
     },
     "execution_count": 45,
     "metadata": {},
     "output_type": "execute_result"
    }
   ],
   "source": [
    "l1=[1,\n",
    "    [2,['A','B']]\n",
    "   ]\n",
    "len(l1)"
   ]
  },
  {
   "cell_type": "code",
   "execution_count": 58,
   "id": "58de5946-00fb-45de-ba5f-c144fae29325",
   "metadata": {},
   "outputs": [],
   "source": [
    "l1=[1,2,[3,[4,[5,['Apple']]]]]"
   ]
  },
  {
   "cell_type": "code",
   "execution_count": 66,
   "id": "7cb90c16-087f-4f6a-b3e4-758a17304b9b",
   "metadata": {},
   "outputs": [
    {
     "data": {
      "text/plain": [
       "'Apple'"
      ]
     },
     "execution_count": 66,
     "metadata": {},
     "output_type": "execute_result"
    }
   ],
   "source": [
    "l1[2] [1] [1] [1] [0]"
   ]
  },
  {
   "cell_type": "code",
   "execution_count": 65,
   "id": "ccdbbe81-adb3-4651-9048-3e872029ef4d",
   "metadata": {},
   "outputs": [
    {
     "data": {
      "text/plain": [
       "3"
      ]
     },
     "execution_count": 65,
     "metadata": {},
     "output_type": "execute_result"
    }
   ],
   "source": [
    "len(l1)"
   ]
  },
  {
   "cell_type": "code",
   "execution_count": 69,
   "id": "e313e03e-98af-4690-b2b1-5986da016827",
   "metadata": {},
   "outputs": [],
   "source": [
    "l1=['Apple',1,'Solapur',['cherry','papaya',70,[123,'Banana'],'tomato'],'python'] #get banana"
   ]
  },
  {
   "cell_type": "code",
   "execution_count": 70,
   "id": "7612de04-b2c5-4725-a51a-7d9de9dcce70",
   "metadata": {},
   "outputs": [
    {
     "data": {
      "text/plain": [
       "5"
      ]
     },
     "execution_count": 70,
     "metadata": {},
     "output_type": "execute_result"
    }
   ],
   "source": [
    "len(l1)"
   ]
  },
  {
   "cell_type": "code",
   "execution_count": 73,
   "id": "6e9dad72-a4d0-428a-bdcd-b3f25f24670a",
   "metadata": {},
   "outputs": [
    {
     "data": {
      "text/plain": [
       "['cherry', 'papaya', 70, [123, 'Banana'], 'tomato']"
      ]
     },
     "execution_count": 73,
     "metadata": {},
     "output_type": "execute_result"
    }
   ],
   "source": [
    "l1[3]"
   ]
  },
  {
   "cell_type": "code",
   "execution_count": 75,
   "id": "0b57c839-4050-4046-a7fb-29a4f2655bd4",
   "metadata": {},
   "outputs": [
    {
     "data": {
      "text/plain": [
       "'Banana'"
      ]
     },
     "execution_count": 75,
     "metadata": {},
     "output_type": "execute_result"
    }
   ],
   "source": [
    "l1[3] [3] [1]"
   ]
  },
  {
   "cell_type": "code",
   "execution_count": 76,
   "id": "6bf9b342-8678-4ee6-b635-3c6edf48b925",
   "metadata": {},
   "outputs": [],
   "source": [
    "list1=[[[[[[[1,'Cherry']]]]]]]"
   ]
  },
  {
   "cell_type": "code",
   "execution_count": 77,
   "id": "ef039caa-3611-460c-a2bb-e5d866f6075a",
   "metadata": {},
   "outputs": [
    {
     "data": {
      "text/plain": [
       "1"
      ]
     },
     "execution_count": 77,
     "metadata": {},
     "output_type": "execute_result"
    }
   ],
   "source": [
    "len(list1)"
   ]
  },
  {
   "cell_type": "code",
   "execution_count": 85,
   "id": "9b3745ff-b979-4480-b847-22f21c14d580",
   "metadata": {},
   "outputs": [
    {
     "data": {
      "text/plain": [
       "'Cherry'"
      ]
     },
     "execution_count": 85,
     "metadata": {},
     "output_type": "execute_result"
    }
   ],
   "source": [
    "list1[0] [0] [0][0][0] [0][1]"
   ]
  },
  {
   "cell_type": "code",
   "execution_count": 86,
   "id": "70eb67f6-6d83-4707-9bdc-d048cbad6a4a",
   "metadata": {},
   "outputs": [],
   "source": [
    "l1=['MH',['Nagpur',['orange',['likes',['king'],['shivaji'],['son'],['shmbaji']]]]]\n"
   ]
  },
  {
   "cell_type": "code",
   "execution_count": 87,
   "id": "1f4eeab3-8673-4f45-85ba-2a55e17758fd",
   "metadata": {},
   "outputs": [
    {
     "data": {
      "text/plain": [
       "2"
      ]
     },
     "execution_count": 87,
     "metadata": {},
     "output_type": "execute_result"
    }
   ],
   "source": [
    "len(l1)"
   ]
  },
  {
   "cell_type": "code",
   "execution_count": 99,
   "id": "9ce0e3ed-5b6e-429f-b9cc-e719419a7cea",
   "metadata": {},
   "outputs": [
    {
     "data": {
      "text/plain": [
       "'shmbaji'"
      ]
     },
     "execution_count": 99,
     "metadata": {},
     "output_type": "execute_result"
    }
   ],
   "source": [
    "l1[1] [1] [1] [4] [0]"
   ]
  },
  {
   "cell_type": "code",
   "execution_count": 8,
   "id": "fffea3da-6573-4498-8882-5d94ae64e1a1",
   "metadata": {},
   "outputs": [
    {
     "data": {
      "text/plain": [
       "[20, 200, 40]"
      ]
     },
     "execution_count": 8,
     "metadata": {},
     "output_type": "execute_result"
    }
   ],
   "source": [
    "l1=[20,30,40]\n",
    "l1[1]=200\n",
    "l1\n",
    "#list is mutable"
   ]
  },
  {
   "cell_type": "markdown",
   "id": "99b44e68-d5cf-4006-895a-797d5c391c08",
   "metadata": {},
   "source": [
    "**List Methods**"
   ]
  },
  {
   "cell_type": "code",
   "execution_count": null,
   "id": "bff998ad-3a7a-4264-8457-8868911d4d3d",
   "metadata": {},
   "outputs": [],
   "source": [
    "#stringsdir('')"
   ]
  },
  {
   "cell_type": "code",
   "execution_count": 7,
   "id": "73e03339-0f1a-4279-9be9-677877e094e6",
   "metadata": {},
   "outputs": [
    {
     "ename": "TypeError",
     "evalue": "'str' object does not support item assignment",
     "output_type": "error",
     "traceback": [
      "\u001b[1;31m---------------------------------------------------------------------------\u001b[0m",
      "\u001b[1;31mTypeError\u001b[0m                                 Traceback (most recent call last)",
      "Cell \u001b[1;32mIn[7], line 2\u001b[0m\n\u001b[0;32m      1\u001b[0m s\u001b[38;5;241m=\u001b[39m\u001b[38;5;124m'\u001b[39m\u001b[38;5;124mNaresh\u001b[39m\u001b[38;5;124m'\u001b[39m\n\u001b[1;32m----> 2\u001b[0m s[\u001b[38;5;241m0\u001b[39m]\u001b[38;5;241m=\u001b[39m\u001b[38;5;124m'\u001b[39m\u001b[38;5;124mI\u001b[39m\u001b[38;5;124m'\u001b[39m\n\u001b[0;32m      3\u001b[0m s\n",
      "\u001b[1;31mTypeError\u001b[0m: 'str' object does not support item assignment"
     ]
    }
   ],
   "source": [
    "s='Naresh'\n",
    "s[0]='I'\n",
    "s\n",
    "#string is immtable"
   ]
  },
  {
   "cell_type": "code",
   "execution_count": 12,
   "id": "2009e41a-acef-4d7c-88ba-367da6114dc5",
   "metadata": {},
   "outputs": [
    {
     "data": {
      "text/plain": [
       "[]"
      ]
     },
     "execution_count": 12,
     "metadata": {},
     "output_type": "execute_result"
    }
   ],
   "source": [
    "l=[1,2,3,4,5,6,'A','B','C','D','E']\n",
    "l[3:9:-2]"
   ]
  },
  {
   "cell_type": "code",
   "execution_count": 13,
   "id": "da376552-ca5b-4e93-90f2-2b4ceda11097",
   "metadata": {},
   "outputs": [
    {
     "data": {
      "text/plain": [
       "[4]"
      ]
     },
     "execution_count": 13,
     "metadata": {},
     "output_type": "execute_result"
    }
   ],
   "source": [
    "l[3:-9:-2]"
   ]
  },
  {
   "cell_type": "code",
   "execution_count": 14,
   "id": "302404ef-162a-42ab-aa4e-9dbceeccc02d",
   "metadata": {},
   "outputs": [
    {
     "data": {
      "text/plain": [
       "['C', 'A', 5]"
      ]
     },
     "execution_count": 14,
     "metadata": {},
     "output_type": "execute_result"
    }
   ],
   "source": [
    "l[-3:-9:-2]"
   ]
  },
  {
   "cell_type": "code",
   "execution_count": 15,
   "id": "fc6d799f-7580-400b-b464-1dbb1d85b62d",
   "metadata": {},
   "outputs": [
    {
     "data": {
      "text/plain": [
       "['__add__',\n",
       " '__class__',\n",
       " '__class_getitem__',\n",
       " '__contains__',\n",
       " '__delattr__',\n",
       " '__delitem__',\n",
       " '__dir__',\n",
       " '__doc__',\n",
       " '__eq__',\n",
       " '__format__',\n",
       " '__ge__',\n",
       " '__getattribute__',\n",
       " '__getitem__',\n",
       " '__getstate__',\n",
       " '__gt__',\n",
       " '__hash__',\n",
       " '__iadd__',\n",
       " '__imul__',\n",
       " '__init__',\n",
       " '__init_subclass__',\n",
       " '__iter__',\n",
       " '__le__',\n",
       " '__len__',\n",
       " '__lt__',\n",
       " '__mul__',\n",
       " '__ne__',\n",
       " '__new__',\n",
       " '__reduce__',\n",
       " '__reduce_ex__',\n",
       " '__repr__',\n",
       " '__reversed__',\n",
       " '__rmul__',\n",
       " '__setattr__',\n",
       " '__setitem__',\n",
       " '__sizeof__',\n",
       " '__str__',\n",
       " '__subclasshook__',\n",
       " 'append',\n",
       " 'clear',\n",
       " 'copy',\n",
       " 'count',\n",
       " 'extend',\n",
       " 'index',\n",
       " 'insert',\n",
       " 'pop',\n",
       " 'remove',\n",
       " 'reverse',\n",
       " 'sort']"
      ]
     },
     "execution_count": 15,
     "metadata": {},
     "output_type": "execute_result"
    }
   ],
   "source": [
    "#strings dir('')\n",
    "dir([])"
   ]
  },
  {
   "cell_type": "code",
   "execution_count": null,
   "id": "a39b1c9c-cb53-4436-90e6-c2fce9da9022",
   "metadata": {},
   "outputs": [],
   "source": [
    "'append',\n",
    " 'clear',\n",
    " 'copy',\n",
    " 'count',\n",
    " 'extend',\n",
    " 'index',\n",
    " 'insert',\n",
    " 'pop',\n",
    " 'remove',\n",
    " 'reverse',\n",
    " 'sort'"
   ]
  },
  {
   "cell_type": "markdown",
   "id": "d1e70369-b257-4682-b1ed-40bd5b39abce",
   "metadata": {},
   "source": [
    "**append**\n",
    "- adding elements in the list in last index\n",
    "- append method is very important\n",
    "- most of the time we will use append in real time\n",
    "- when yo add the value the original list will be over ride\n",
    "- there will be no mutability here"
   ]
  },
  {
   "cell_type": "code",
   "execution_count": 5,
   "id": "c26271de-b3d5-46dc-9432-60a604838bca",
   "metadata": {},
   "outputs": [],
   "source": [
    "l=['Apple','Ball','Cat']\n"
   ]
  },
  {
   "cell_type": "code",
   "execution_count": 8,
   "id": "36613406-e838-46c0-a4d6-e0b81ecb90d3",
   "metadata": {},
   "outputs": [
    {
     "data": {
      "text/plain": [
       "['Apple', 'Ball', 'Cat', 'Doll', 'Doll', 'Doll']"
      ]
     },
     "execution_count": 8,
     "metadata": {},
     "output_type": "execute_result"
    }
   ],
   "source": [
    "l.append('Doll')\n",
    "l"
   ]
  },
  {
   "cell_type": "code",
   "execution_count": 7,
   "id": "0dbe9ea0-47a5-4382-9641-69c9f01b6f71",
   "metadata": {},
   "outputs": [
    {
     "data": {
      "text/plain": [
       "['Apple', 'Ball', 'Cat', 'Doll', 'Doll']"
      ]
     },
     "execution_count": 7,
     "metadata": {},
     "output_type": "execute_result"
    }
   ],
   "source": [
    "l.append('Doll')\n",
    "l"
   ]
  },
  {
   "cell_type": "code",
   "execution_count": 9,
   "id": "1f906db3-8398-4d8e-abf2-0e19157bfc11",
   "metadata": {},
   "outputs": [
    {
     "data": {
      "text/plain": [
       "[1, 2, 3, 4, 5, 6]"
      ]
     },
     "execution_count": 9,
     "metadata": {},
     "output_type": "execute_result"
    }
   ],
   "source": [
    "l1=[1,2,3,4,5]\n",
    "l1.append(6)\n",
    "l1"
   ]
  },
  {
   "cell_type": "code",
   "execution_count": 13,
   "id": "c5f49892-1927-4baa-bc8b-693a47daf681",
   "metadata": {},
   "outputs": [
    {
     "data": {
      "text/plain": [
       "[7, 20, 'Age', 'Stave', 9848159788, 'True']"
      ]
     },
     "execution_count": 13,
     "metadata": {},
     "output_type": "execute_result"
    }
   ],
   "source": [
    "l2=[]\n",
    "l2.append(7)\n",
    "l2.append(20)\n",
    "l2.append('Age')\n",
    "l2.append('Stave')\n",
    "l2.append(9848159788)\n",
    "l2.append('True')\n",
    "l2"
   ]
  },
  {
   "cell_type": "code",
   "execution_count": 14,
   "id": "e9cbf3e8-132f-4c7f-9380-15d94e534ac4",
   "metadata": {},
   "outputs": [
    {
     "ename": "TypeError",
     "evalue": "list.append() takes exactly one argument (2 given)",
     "output_type": "error",
     "traceback": [
      "\u001b[1;31m---------------------------------------------------------------------------\u001b[0m",
      "\u001b[1;31mTypeError\u001b[0m                                 Traceback (most recent call last)",
      "Cell \u001b[1;32mIn[14], line 2\u001b[0m\n\u001b[0;32m      1\u001b[0m l3\u001b[38;5;241m=\u001b[39m[]\n\u001b[1;32m----> 2\u001b[0m l3\u001b[38;5;241m.\u001b[39mappend(\u001b[38;5;241m10\u001b[39m,\u001b[38;5;241m20\u001b[39m)\n",
      "\u001b[1;31mTypeError\u001b[0m: list.append() takes exactly one argument (2 given)"
     ]
    }
   ],
   "source": [
    "l3=[]\n",
    "l3.append(10,20)\n",
    "#append only takes one argument to be added\n"
   ]
  },
  {
   "cell_type": "markdown",
   "id": "59da48af-87db-44c3-963b-2c97f246417a",
   "metadata": {},
   "source": [
    "**append method is used to save the out put in the list**"
   ]
  },
  {
   "cell_type": "code",
   "execution_count": 16,
   "id": "cde7e503-9316-4e2f-a75f-d4d3543530b0",
   "metadata": {},
   "outputs": [
    {
     "name": "stdout",
     "output_type": "stream",
     "text": [
      "1\n",
      "4\n",
      "9\n",
      "16\n",
      "25\n"
     ]
    }
   ],
   "source": [
    "for i in range(1,6):\n",
    "    print(i*i)"
   ]
  },
  {
   "cell_type": "code",
   "execution_count": 18,
   "id": "08893006-cffb-4716-b99f-8d137d8fa8f5",
   "metadata": {},
   "outputs": [
    {
     "data": {
      "text/plain": [
       "[1, 4, 9, 16, 25]"
      ]
     },
     "execution_count": 18,
     "metadata": {},
     "output_type": "execute_result"
    }
   ],
   "source": [
    "square_list=[]\n",
    "for i in range(1,6):\n",
    "    square_list.append(i*i)\n",
    "square_list    "
   ]
  },
  {
   "cell_type": "code",
   "execution_count": 19,
   "id": "88885b54-6488-41d0-9158-153aceebecc7",
   "metadata": {},
   "outputs": [
    {
     "data": {
      "text/plain": [
       "[1, 2, 3, 4, 5, 6, 7, 8, 9]"
      ]
     },
     "execution_count": 19,
     "metadata": {},
     "output_type": "execute_result"
    }
   ],
   "source": [
    "s=[]\n",
    "for i in range(1,10):\n",
    "    s.append(i)\n",
    "s"
   ]
  },
  {
   "cell_type": "code",
   "execution_count": 21,
   "id": "6957bcab-ea25-4524-8362-8bced650bab7",
   "metadata": {},
   "outputs": [
    {
     "data": {
      "text/plain": [
       "'python'"
      ]
     },
     "execution_count": 21,
     "metadata": {},
     "output_type": "execute_result"
    }
   ],
   "source": [
    "s=''\n",
    "for i in 'python':\n",
    "    s=s+i\n",
    "s"
   ]
  },
  {
   "cell_type": "code",
   "execution_count": 4,
   "id": "b3d51b94-00c4-48ce-a061-d530efece010",
   "metadata": {},
   "outputs": [
    {
     "data": {
      "text/plain": [
       "['mumbai', 'chenni']"
      ]
     },
     "execution_count": 4,
     "metadata": {},
     "output_type": "execute_result"
    }
   ],
   "source": [
    "#2 l1=['hyd','mumbai','chenni','blr']\n",
    "l1=['hyd','mumbai','chenni','blr']\n",
    "ans=[]\n",
    "for i in l1:\n",
    "    if len(i)>4:\n",
    "        ans.append(i)\n",
    "ans"
   ]
  },
  {
   "cell_type": "code",
   "execution_count": 7,
   "id": "30fb931f-488c-4f84-9cf2-1bb167f0c871",
   "metadata": {},
   "outputs": [
    {
     "data": {
      "text/plain": [
       "['mum#bai', 'chen#ni']"
      ]
     },
     "execution_count": 7,
     "metadata": {},
     "output_type": "execute_result"
    }
   ],
   "source": [
    "#3 l1=['hyd','mum#bai','chen#ni','blr']\n",
    "#ans['mum#bai','chen#nai']\n",
    "l1=['hyd','mum#bai','chen#ni','blr']\n",
    "ans=[]\n",
    "for i in l1:\n",
    "    if '#' in i:\n",
    "        ans.append(i)\n",
    "ans"
   ]
  },
  {
   "cell_type": "code",
   "execution_count": 12,
   "id": "bbb05e75-c2c8-4da5-a02e-575e551785ac",
   "metadata": {},
   "outputs": [
    {
     "data": {
      "text/plain": [
       "[]"
      ]
     },
     "execution_count": 12,
     "metadata": {},
     "output_type": "execute_result"
    }
   ],
   "source": [
    "l1=['hyd','mum#bai','chen#ni','blr']\n",
    "ans=[]\n",
    "for i in l1:\n",
    "    if i in '#':\n",
    "        ans.append(i)\n",
    "ans\n"
   ]
  },
  {
   "cell_type": "code",
   "execution_count": 13,
   "id": "b0f611ea-f512-4024-ae60-db089d755005",
   "metadata": {},
   "outputs": [
    {
     "data": {
      "text/plain": [
       "['Hyd', 'Mumbai', 'Chenni', 'Blr']"
      ]
     },
     "execution_count": 13,
     "metadata": {},
     "output_type": "execute_result"
    }
   ],
   "source": [
    "#5 l1=['Hyd','Mumbai','chenni','blr']\n",
    "# ans=['Hyd','Mumbai']\n",
    "l1=['Hyd','Mumbai','chenni','blr']\n",
    "ans=[]\n",
    "for i in l1:\n",
    "    ans.append(i.title())\n",
    "ans"
   ]
  },
  {
   "cell_type": "code",
   "execution_count": null,
   "id": "56126e11-0739-4fa1-a96e-d3e07fe2a053",
   "metadata": {},
   "outputs": [],
   "source": []
  }
 ],
 "metadata": {
  "kernelspec": {
   "display_name": "Python 3 (ipykernel)",
   "language": "python",
   "name": "python3"
  },
  "language_info": {
   "codemirror_mode": {
    "name": "ipython",
    "version": 3
   },
   "file_extension": ".py",
   "mimetype": "text/x-python",
   "name": "python",
   "nbconvert_exporter": "python",
   "pygments_lexer": "ipython3",
   "version": "3.11.7"
  }
 },
 "nbformat": 4,
 "nbformat_minor": 5
}
