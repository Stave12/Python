{
 "cells": [
  {
   "cell_type": "markdown",
   "id": "32bcb09f-1943-4976-9182-6e37f0960cea",
   "metadata": {},
   "source": [
    "**Conditional Statements**"
   ]
  },
  {
   "cell_type": "markdown",
   "id": "1710390c-de34-4fcf-b152-ce5177956427",
   "metadata": {},
   "source": [
    "- conditional statement means we want to run the code lines based on condition\n",
    "- if rain comes i will not go to school other wise i will go to movie\n",
    "- rain is there will effect one process \n",
    "- Rain is not there will effect another process \n",
    "- if\n",
    "- elif\n",
    "- else"
   ]
  },
  {
   "cell_type": "markdown",
   "id": "778d8c21-4c2a-4622-b9d6-a5a9c3ac329d",
   "metadata": {},
   "source": [
    "**if**"
   ]
  },
  {
   "cell_type": "code",
   "execution_count": null,
   "id": "c27bf18b-7dad-4e11-8672-62f461f8d141",
   "metadata": {},
   "outputs": [],
   "source": [
    "#syntax\n",
    "#when ever any thing starting with green colour at last we have coloun\n",
    "if<condition>:\n",
    "    <codeline1>\n",
    "    <codeline2>"
   ]
  },
  {
   "cell_type": "markdown",
   "id": "fccef254-a37c-4235-a7fa-e47266919e99",
   "metadata": {},
   "source": [
    "- whenever any line starts with keyword (green colour)at end of the line we have coloun(:)\n",
    "- whenever we have coloun(:) the next line starts with some gas\n",
    "- this gap is called as indentation\n",
    "- how many lines we are maintaining gapthat all are under one area"
   ]
  },
  {
   "cell_type": "markdown",
   "id": "0924e475-2e5a-42ae-8cc5-b691e16195c3",
   "metadata": {},
   "source": [
    "- if is conditional statement , it cheks the condition is true or false\n",
    "- if that condition is true then only it will enter inside the if area\n",
    "- and execute those code lines\n",
    "- if that condition will false,the it will not enter inside the if area\n",
    "- and it will not execute those code lines\n",
    "- "
   ]
  },
  {
   "cell_type": "code",
   "execution_count": 3,
   "id": "e7c7bec8-ef6f-41b4-9ab0-1d8c91963f5d",
   "metadata": {},
   "outputs": [
    {
     "data": {
      "text/plain": [
       "True"
      ]
     },
     "execution_count": 3,
     "metadata": {},
     "output_type": "execute_result"
    }
   ],
   "source": [
    "100>10"
   ]
  },
  {
   "cell_type": "code",
   "execution_count": 5,
   "id": "c4b7ffcd-84e7-42dd-902a-f37b009a1dc6",
   "metadata": {},
   "outputs": [
    {
     "name": "stdout",
     "output_type": "stream",
     "text": [
      "hello\n"
     ]
    }
   ],
   "source": [
    "if 100>10:        #if true:\n",
    "    print(\"hello\")"
   ]
  },
  {
   "cell_type": "code",
   "execution_count": 6,
   "id": "7265f953-5645-4fad-91ab-7f8869ecbd8b",
   "metadata": {},
   "outputs": [
    {
     "ename": "IndentationError",
     "evalue": "expected an indented block after 'if' statement on line 1 (3663483495.py, line 2)",
     "output_type": "error",
     "traceback": [
      "\u001b[1;36m  Cell \u001b[1;32mIn[6], line 2\u001b[1;36m\u001b[0m\n\u001b[1;33m    print(\"hello\")\u001b[0m\n\u001b[1;37m    ^\u001b[0m\n\u001b[1;31mIndentationError\u001b[0m\u001b[1;31m:\u001b[0m expected an indented block after 'if' statement on line 1\n"
     ]
    }
   ],
   "source": [
    "#mistake no1\n",
    "if 100>10:   \n",
    "print(\"hello\")"
   ]
  },
  {
   "cell_type": "code",
   "execution_count": 7,
   "id": "53323d15-221a-4eba-bc0d-df4b5b04edce",
   "metadata": {},
   "outputs": [
    {
     "name": "stdout",
     "output_type": "stream",
     "text": [
      "bye\n"
     ]
    }
   ],
   "source": [
    "if 100>10:\n",
    "    print(\"bye\")\n",
    "    #indentation requires 4 spaces"
   ]
  },
  {
   "cell_type": "code",
   "execution_count": 8,
   "id": "1bf30bbe-0e23-4ec7-8172-7a70132438e9",
   "metadata": {},
   "outputs": [
    {
     "ename": "SyntaxError",
     "evalue": "expected ':' (2369746371.py, line 4)",
     "output_type": "error",
     "traceback": [
      "\u001b[1;36m  Cell \u001b[1;32mIn[8], line 4\u001b[1;36m\u001b[0m\n\u001b[1;33m    if 100>20\u001b[0m\n\u001b[1;37m             ^\u001b[0m\n\u001b[1;31mSyntaxError\u001b[0m\u001b[1;31m:\u001b[0m expected ':'\n"
     ]
    }
   ],
   "source": [
    "#mistake 2\n",
    "#syntax error\n",
    "#coloun is missing\n",
    "if 100>20\n",
    "    print(\"hello\")"
   ]
  },
  {
   "cell_type": "code",
   "execution_count": 9,
   "id": "c07b3d3c-b9c7-47b8-816d-08efd375976a",
   "metadata": {},
   "outputs": [
    {
     "ename": "SyntaxError",
     "evalue": "invalid syntax (327377673.py, line 3)",
     "output_type": "error",
     "traceback": [
      "\u001b[1;36m  Cell \u001b[1;32mIn[9], line 3\u001b[1;36m\u001b[0m\n\u001b[1;33m    if:\u001b[0m\n\u001b[1;37m      ^\u001b[0m\n\u001b[1;31mSyntaxError\u001b[0m\u001b[1;31m:\u001b[0m invalid syntax\n"
     ]
    }
   ],
   "source": [
    "#mistake 3\n",
    "#foregetting condition\n",
    "#if will except a condition \n",
    "if:\n",
    "print(\"hello\")"
   ]
  },
  {
   "cell_type": "code",
   "execution_count": 11,
   "id": "7506dab6-5a8c-40fe-87c9-bff025e6f775",
   "metadata": {},
   "outputs": [
    {
     "ename": "SyntaxError",
     "evalue": "Missing parentheses in call to 'print'. Did you mean print(...)? (2822126932.py, line 2)",
     "output_type": "error",
     "traceback": [
      "\u001b[1;36m  Cell \u001b[1;32mIn[11], line 2\u001b[1;36m\u001b[0m\n\u001b[1;33m    print\"hello\"\u001b[0m\n\u001b[1;37m    ^\u001b[0m\n\u001b[1;31mSyntaxError\u001b[0m\u001b[1;31m:\u001b[0m Missing parentheses in call to 'print'. Did you mean print(...)?\n"
     ]
    }
   ],
   "source": [
    "#Missing Brackets error\n",
    "if 100>20:\n",
    "    print\"hello\""
   ]
  },
  {
   "cell_type": "markdown",
   "id": "57a156d7-8bb2-424e-b8c7-1f5c40dfccf2",
   "metadata": {},
   "source": [
    "**Mistakes**\n",
    "- indentations error\n",
    "- Coloun(:) missing error\n",
    "- Condition missing error\n",
    "- Missing Brackets error\n",
    "- Never assign a variable to a print statement\n",
    "- Print we are using to see the answer only"
   ]
  },
  {
   "cell_type": "code",
   "execution_count": 13,
   "id": "cfbe8aa9-337c-4877-a857-b40958102256",
   "metadata": {},
   "outputs": [
    {
     "name": "stdout",
     "output_type": "stream",
     "text": [
      "hello\n"
     ]
    }
   ],
   "source": [
    "if 100>20:\n",
    "    print('hello')"
   ]
  },
  {
   "cell_type": "code",
   "execution_count": 14,
   "id": "35607134-ea23-4091-9d39-843875c67d0e",
   "metadata": {},
   "outputs": [
    {
     "ename": "TypeError",
     "evalue": "'>' not supported between instances of 'int' and 'str'",
     "output_type": "error",
     "traceback": [
      "\u001b[1;31m---------------------------------------------------------------------------\u001b[0m",
      "\u001b[1;31mTypeError\u001b[0m                                 Traceback (most recent call last)",
      "Cell \u001b[1;32mIn[14], line 1\u001b[0m\n\u001b[1;32m----> 1\u001b[0m \u001b[38;5;28;01mif\u001b[39;00m \u001b[38;5;241m100\u001b[39m\u001b[38;5;241m>\u001b[39m\u001b[38;5;124m'\u001b[39m\u001b[38;5;124mpyhton\u001b[39m\u001b[38;5;124m'\u001b[39m:\n\u001b[0;32m      2\u001b[0m     \u001b[38;5;28mprint\u001b[39m(\u001b[38;5;124m'\u001b[39m\u001b[38;5;124mhello\u001b[39m\u001b[38;5;124m'\u001b[39m)\n",
      "\u001b[1;31mTypeError\u001b[0m: '>' not supported between instances of 'int' and 'str'"
     ]
    }
   ],
   "source": [
    "if 100>'pyhton':\n",
    "    print('hello')\n",
    "    #type error"
   ]
  },
  {
   "cell_type": "code",
   "execution_count": 16,
   "id": "ea051f45-031c-4f6a-8fe0-de1c4137a0a5",
   "metadata": {},
   "outputs": [
    {
     "name": "stdout",
     "output_type": "stream",
     "text": [
      "hello\n",
      "hello\n"
     ]
    }
   ],
   "source": [
    "if 100>10:\n",
    "    print('hello')\n",
    "print('hello')\n",
    "#the first hello is comes under the if condition \n",
    "#the second hello will not bother about the if condition\n",
    "#what ever the if condition be the second print will print"
   ]
  },
  {
   "cell_type": "code",
   "execution_count": 17,
   "id": "26772784-feaa-41b7-aaff-b12079fac9d0",
   "metadata": {},
   "outputs": [
    {
     "name": "stdout",
     "output_type": "stream",
     "text": [
      "hello\n",
      "hello\n"
     ]
    }
   ],
   "source": [
    "if 100>10:\n",
    "    print('hello')\n",
    "    print('hello')"
   ]
  },
  {
   "cell_type": "code",
   "execution_count": 18,
   "id": "44479b4c-8bfa-48c0-b778-5d41ecd2b0c0",
   "metadata": {},
   "outputs": [
    {
     "name": "stdout",
     "output_type": "stream",
     "text": [
      "10\n",
      "20\n",
      "hlo\n",
      "GD\n",
      "okay\n",
      "bye\n"
     ]
    }
   ],
   "source": [
    "print(10)\n",
    "print(20)\n",
    "if 100>10:\n",
    "    print(\"hlo\")\n",
    "    print(\"GD\")\n",
    "print(\"okay\")\n",
    "print(\"bye\")"
   ]
  },
  {
   "cell_type": "code",
   "execution_count": 19,
   "id": "e113fd6f-a121-4abb-b1a2-adae7db1e859",
   "metadata": {},
   "outputs": [
    {
     "ename": "IndentationError",
     "evalue": "unexpected indent (2243154574.py, line 6)",
     "output_type": "error",
     "traceback": [
      "\u001b[1;36m  Cell \u001b[1;32mIn[19], line 6\u001b[1;36m\u001b[0m\n\u001b[1;33m    print(\"okay\")\u001b[0m\n\u001b[1;37m    ^\u001b[0m\n\u001b[1;31mIndentationError\u001b[0m\u001b[1;31m:\u001b[0m unexpected indent\n"
     ]
    }
   ],
   "source": [
    "#onces you go out of the condition u can not come in\n",
    "#you have to create another condition\n",
    "print(10)\n",
    "print(20)\n",
    "if 100>10:\n",
    "    print(\"hlo\")\n",
    "print(\"GD\")\n",
    "    print(\"okay\")\n",
    "print(\"bye\")"
   ]
  },
  {
   "cell_type": "code",
   "execution_count": 20,
   "id": "1355d26a-8a8c-4745-b164-9dc5cc898035",
   "metadata": {},
   "outputs": [
    {
     "name": "stdout",
     "output_type": "stream",
     "text": [
      "10\n",
      "hlo\n",
      "GD\n",
      "okay\n",
      "bye\n"
     ]
    }
   ],
   "source": [
    "#it works because 100>10 is true\n",
    "print(10)\n",
    "\n",
    "if True:\n",
    "    print(\"hlo\")\n",
    "    print(\"GD\")\n",
    "print(\"okay\")\n",
    "print(\"bye\")"
   ]
  },
  {
   "cell_type": "code",
   "execution_count": 21,
   "id": "7f6eeac0-ba01-41f1-9d1d-a17d05f9abb4",
   "metadata": {},
   "outputs": [
    {
     "data": {
      "text/plain": [
       "True"
      ]
     },
     "execution_count": 21,
     "metadata": {},
     "output_type": "execute_result"
    }
   ],
   "source": [
    "100>10"
   ]
  },
  {
   "cell_type": "code",
   "execution_count": 22,
   "id": "7f5f5d5f-78e5-460d-bc1f-9e0a0ac83ca1",
   "metadata": {},
   "outputs": [
    {
     "name": "stdout",
     "output_type": "stream",
     "text": [
      "10\n",
      "okay\n",
      "bye\n"
     ]
    }
   ],
   "source": [
    "#because here condition is failing\n",
    "print(10)\n",
    "\n",
    "if 100<10:\n",
    "    print(\"hlo\")\n",
    "    print(\"GD\")\n",
    "print(\"okay\")\n",
    "print(\"bye\")"
   ]
  },
  {
   "cell_type": "code",
   "execution_count": 24,
   "id": "145eb0b4-fea6-4fdc-a727-4d6850271fe2",
   "metadata": {},
   "outputs": [
    {
     "data": {
      "text/plain": [
       "True"
      ]
     },
     "execution_count": 24,
     "metadata": {},
     "output_type": "execute_result"
    }
   ],
   "source": [
    "bool(100)"
   ]
  },
  {
   "cell_type": "code",
   "execution_count": 25,
   "id": "a3ff13f4-8e5b-46a0-9b59-27248c208f95",
   "metadata": {},
   "outputs": [
    {
     "name": "stdout",
     "output_type": "stream",
     "text": [
      "10\n",
      "hlo\n",
      "GD\n",
      "okay\n",
      "bye\n"
     ]
    }
   ],
   "source": [
    "#it works because bool(100) is True\n",
    "print(10)\n",
    "\n",
    "if 100:\n",
    "    print(\"hlo\")\n",
    "    print(\"GD\")\n",
    "print(\"okay\")\n",
    "print(\"bye\")"
   ]
  },
  {
   "cell_type": "code",
   "execution_count": 26,
   "id": "f03e3933-ecac-4f91-b486-38b0e5b1e271",
   "metadata": {},
   "outputs": [
    {
     "data": {
      "text/plain": [
       "True"
      ]
     },
     "execution_count": 26,
     "metadata": {},
     "output_type": "execute_result"
    }
   ],
   "source": [
    "bool('helo')"
   ]
  },
  {
   "cell_type": "code",
   "execution_count": 27,
   "id": "db7053b9-9385-44b7-99e5-852b9cf1daea",
   "metadata": {},
   "outputs": [
    {
     "data": {
      "text/plain": [
       "True"
      ]
     },
     "execution_count": 27,
     "metadata": {},
     "output_type": "execute_result"
    }
   ],
   "source": [
    "bool('apple')"
   ]
  },
  {
   "cell_type": "code",
   "execution_count": 28,
   "id": "2679b2d5-417c-49a6-948f-ae4549c4afe3",
   "metadata": {},
   "outputs": [
    {
     "name": "stdout",
     "output_type": "stream",
     "text": [
      "nothing\n",
      "100\n"
     ]
    }
   ],
   "source": [
    "if 10>2:\n",
    "    print(\"nothing\")\n",
    "print(\"100\")"
   ]
  },
  {
   "cell_type": "code",
   "execution_count": 29,
   "id": "78a0e6d0-2fb9-40ae-9f13-3befbf181f2d",
   "metadata": {},
   "outputs": [
    {
     "name": "stdout",
     "output_type": "stream",
     "text": [
      "202\n",
      "it works\n"
     ]
    }
   ],
   "source": [
    "print(\"202\")\n",
    "if True:\n",
    "    print(\"it works\")"
   ]
  },
  {
   "cell_type": "code",
   "execution_count": 31,
   "id": "36b9ef17-0aba-4c35-a980-72d040611baf",
   "metadata": {},
   "outputs": [],
   "source": [
    "if False:\n",
    "    print(\"hello\")"
   ]
  },
  {
   "cell_type": "code",
   "execution_count": 5,
   "id": "a07c2071-647e-47f9-b542-b63639cdebbc",
   "metadata": {},
   "outputs": [
    {
     "name": "stdout",
     "output_type": "stream",
     "text": [
      "no\n"
     ]
    }
   ],
   "source": [
    "if 100<40:\n",
    "    print(\"ok\")\n",
    "print(\"no\")"
   ]
  },
  {
   "cell_type": "code",
   "execution_count": 6,
   "id": "a46196f0-fb62-4319-989c-304132633a97",
   "metadata": {},
   "outputs": [
    {
     "name": "stdout",
     "output_type": "stream",
     "text": [
      "no\n"
     ]
    }
   ],
   "source": [
    "if 100<40:\n",
    "    print(\"ok\")\n",
    "else:\n",
    "    print(\"no\")"
   ]
  },
  {
   "cell_type": "markdown",
   "id": "d5f22b8e-1bb0-48ba-80ff-e6d3f90d7b58",
   "metadata": {},
   "source": [
    "**if-else**"
   ]
  },
  {
   "cell_type": "markdown",
   "id": "90055639-b85d-475c-98df-03f0fd503a73",
   "metadata": {},
   "source": [
    "- if required condition\n",
    "- if that condition is true,then it will execute if block\n",
    "- otherwise it can directly go to else\n",
    "- so else block doe not required any condition"
   ]
  },
  {
   "cell_type": "code",
   "execution_count": null,
   "id": "a59f9618-2e4b-451c-8964-0854fa59d603",
   "metadata": {},
   "outputs": [],
   "source": [
    "#syntax\n",
    "if <condition>:\n",
    "    <codeline>\n",
    "else:\n",
    "    <codeline>\n",
    "    "
   ]
  },
  {
   "cell_type": "code",
   "execution_count": 7,
   "id": "13b54a60-7b7b-4667-b695-c3840d7bb7a9",
   "metadata": {},
   "outputs": [
    {
     "name": "stdout",
     "output_type": "stream",
     "text": [
      "i will play\n"
     ]
    }
   ],
   "source": [
    "if 100>10:\n",
    "    print(\"i will play\")\n",
    "else:\n",
    "    print(\"i will not play\")"
   ]
  },
  {
   "cell_type": "code",
   "execution_count": 8,
   "id": "9883fa9a-c0f4-4e23-8d55-9b42b88c0514",
   "metadata": {},
   "outputs": [
    {
     "name": "stdout",
     "output_type": "stream",
     "text": [
      "i will not play\n"
     ]
    }
   ],
   "source": [
    "if 100<10:\n",
    "    print(\"i will play\")\n",
    "else:\n",
    "    print(\"i will not play\")"
   ]
  },
  {
   "cell_type": "code",
   "execution_count": 9,
   "id": "e6074110-ef12-4a0c-bb5d-9770f288d783",
   "metadata": {},
   "outputs": [
    {
     "name": "stdout",
     "output_type": "stream",
     "text": [
      "hlo\n",
      "i will not play\n",
      "bye\n"
     ]
    }
   ],
   "source": [
    "print(\"hlo\")\n",
    "if 100<10:\n",
    "    print(\"i will play\")\n",
    "else:\n",
    "    print(\"i will not play\")\n",
    "print(\"bye\")"
   ]
  },
  {
   "cell_type": "code",
   "execution_count": 10,
   "id": "d9f5ac55-6f16-4213-a983-3bd5251a1682",
   "metadata": {},
   "outputs": [
    {
     "ename": "SyntaxError",
     "evalue": "invalid syntax (4024487816.py, line 5)",
     "output_type": "error",
     "traceback": [
      "\u001b[1;36m  Cell \u001b[1;32mIn[10], line 5\u001b[1;36m\u001b[0m\n\u001b[1;33m    else:\u001b[0m\n\u001b[1;37m    ^\u001b[0m\n\u001b[1;31mSyntaxError\u001b[0m\u001b[1;31m:\u001b[0m invalid syntax\n"
     ]
    }
   ],
   "source": [
    "#if and else all ways should be together\n",
    "print(\"hlo\")\n",
    "if 100<10:\n",
    "    print(\"i will play\")\n",
    "print(\"why man\")\n",
    "else:\n",
    "    print(\"i will not play\")\n",
    "print(\"bye\")"
   ]
  },
  {
   "cell_type": "code",
   "execution_count": 12,
   "id": "c221c7d1-40b5-404c-ad66-f79351ab6e0e",
   "metadata": {},
   "outputs": [
    {
     "name": "stdout",
     "output_type": "stream",
     "text": [
      "10\n",
      "0\n",
      "10\n",
      "0.0\n"
     ]
    },
    {
     "ename": "ZeroDivisionError",
     "evalue": "division by zero",
     "output_type": "error",
     "traceback": [
      "\u001b[1;31m---------------------------------------------------------------------------\u001b[0m",
      "\u001b[1;31mZeroDivisionError\u001b[0m                         Traceback (most recent call last)",
      "Cell \u001b[1;32mIn[12], line 10\u001b[0m\n\u001b[0;32m      8\u001b[0m d\u001b[38;5;241m=\u001b[39mb\u001b[38;5;241m/\u001b[39ma\n\u001b[0;32m      9\u001b[0m \u001b[38;5;28mprint\u001b[39m(d)\n\u001b[1;32m---> 10\u001b[0m e\u001b[38;5;241m=\u001b[39ma\u001b[38;5;241m/\u001b[39mb\n\u001b[0;32m     11\u001b[0m \u001b[38;5;28mprint\u001b[39m(e)\n",
      "\u001b[1;31mZeroDivisionError\u001b[0m: division by zero"
     ]
    }
   ],
   "source": [
    "if True:\n",
    "    a=10\n",
    "    b=0\n",
    "    print(a)\n",
    "    print(b)\n",
    "    c=a+b\n",
    "    print(c)\n",
    "    d=b/a\n",
    "    print(d)\n",
    "    e=a/b       #any thing divide by zero is error\n",
    "    print(e)"
   ]
  },
  {
   "cell_type": "code",
   "execution_count": 13,
   "id": "f35689da-0197-46a1-b983-5bfda48b4860",
   "metadata": {},
   "outputs": [
    {
     "data": {
      "text/plain": [
       "1.25"
      ]
     },
     "execution_count": 13,
     "metadata": {},
     "output_type": "execute_result"
    }
   ],
   "source": [
    "5/4 #normal division\n"
   ]
  },
  {
   "cell_type": "code",
   "execution_count": 14,
   "id": "ca6409a4-2a1b-4e84-88dd-acaef47008ab",
   "metadata": {},
   "outputs": [
    {
     "data": {
      "text/plain": [
       "1"
      ]
     },
     "execution_count": 14,
     "metadata": {},
     "output_type": "execute_result"
    }
   ],
   "source": [
    "5//4 #floor division"
   ]
  },
  {
   "cell_type": "code",
   "execution_count": 15,
   "id": "af955f68-a669-4fbb-b931-a5ac1a57fcc8",
   "metadata": {},
   "outputs": [
    {
     "data": {
      "text/plain": [
       "1"
      ]
     },
     "execution_count": 15,
     "metadata": {},
     "output_type": "execute_result"
    }
   ],
   "source": [
    "5%4 #reminder"
   ]
  },
  {
   "cell_type": "code",
   "execution_count": 19,
   "id": "36494112-7756-45bf-af83-0f6f7e885788",
   "metadata": {},
   "outputs": [
    {
     "data": {
      "text/plain": [
       "2.0"
      ]
     },
     "execution_count": 19,
     "metadata": {},
     "output_type": "execute_result"
    }
   ],
   "source": [
    "4/2"
   ]
  },
  {
   "cell_type": "code",
   "execution_count": 20,
   "id": "9b906692-e980-436a-bbad-26cea40b31b2",
   "metadata": {},
   "outputs": [
    {
     "data": {
      "text/plain": [
       "2"
      ]
     },
     "execution_count": 20,
     "metadata": {},
     "output_type": "execute_result"
    }
   ],
   "source": [
    "4//2"
   ]
  },
  {
   "cell_type": "code",
   "execution_count": 27,
   "id": "0ccdf39e-8770-42a3-bdd2-788f9d11fc73",
   "metadata": {},
   "outputs": [
    {
     "name": "stdin",
     "output_type": "stream",
     "text": [
      "enter a number: 7\n"
     ]
    },
    {
     "name": "stdout",
     "output_type": "stream",
     "text": [
      "the 7 is odd number\n"
     ]
    }
   ],
   "source": [
    "#wap ask the user enter a number\n",
    "#find it is a even or odd number\n",
    "num=eval(input(\"enter a number:\"))\n",
    "if num%2==0:\n",
    "    print(f\"the {num} is even number\")\n",
    "else:\n",
    "    print(f\"the {num} is odd number\")"
   ]
  },
  {
   "cell_type": "code",
   "execution_count": 2,
   "id": "cc41f4ce-1ddc-407b-8bb9-1fdbd9cfc2d5",
   "metadata": {},
   "outputs": [
    {
     "name": "stdout",
     "output_type": "stream",
     "text": [
      "the 85 is odd number\n"
     ]
    }
   ],
   "source": [
    "#implement the above program by taking a random input b/w 1 to 100\n",
    "import random\n",
    "num=random.randint(1,100)\n",
    "if num%2==0:\n",
    "    print(f\"the {num} is even number\")\n",
    "else:\n",
    "    print(f\"the {num} is odd number\")"
   ]
  },
  {
   "cell_type": "code",
   "execution_count": 3,
   "id": "cf20d712-b3f4-460c-8480-1bfe9c84f81a",
   "metadata": {},
   "outputs": [
    {
     "name": "stdin",
     "output_type": "stream",
     "text": [
      "enter the start value: 7\n",
      "enter the end value: 9\n"
     ]
    },
    {
     "name": "stdout",
     "output_type": "stream",
     "text": [
      "the 9 is odd number\n"
     ]
    }
   ],
   "source": [
    "import random\n",
    "start=eval(input(\"enter the start value:\"))\n",
    "end=eval(input(\"enter the end value:\"))\n",
    "num=random.randint(start,end)\n",
    "if num%2==0:\n",
    "    print(f\"the {num} is even number\")\n",
    "else:\n",
    "    print(f\"the {num} is odd number\")"
   ]
  },
  {
   "cell_type": "code",
   "execution_count": 6,
   "id": "ae226a97-e3a3-4e66-9d95-c2f8a8a156ea",
   "metadata": {},
   "outputs": [
    {
     "name": "stdin",
     "output_type": "stream",
     "text": [
      "enter the distance: 200\n",
      "enter the charge: 70\n"
     ]
    },
    {
     "name": "stdout",
     "output_type": "stream",
     "text": [
      "the total cost is 70\n"
     ]
    }
   ],
   "source": [
    "#wap ask the user enter the distance if distance greater than 25km\n",
    "#then enter the charge print the total cost\n",
    "#otherwise print free ride\n",
    "distance=eval(input(\"enter the distance:\"))\n",
    "if distance>25:\n",
    "    charge=eval(input(\"enter the charge:\"))\n",
    "    print(f\"the total cost is {charge}\")\n",
    "else:\n",
    "    print(\"free ride:\")\n",
    "    "
   ]
  },
  {
   "cell_type": "code",
   "execution_count": 9,
   "id": "055a506b-7cb3-4d80-9bb4-cf8e98e02724",
   "metadata": {},
   "outputs": [
    {
     "name": "stdin",
     "output_type": "stream",
     "text": [
      "enter the distance: 200\n",
      "enter cut off the distance: 30\n"
     ]
    },
    {
     "name": "stdout",
     "output_type": "stream",
     "text": [
      "good news your charge is aplicable for only remaining of 170\n"
     ]
    },
    {
     "name": "stdin",
     "output_type": "stream",
     "text": [
      "enter charge: 60\n"
     ]
    },
    {
     "name": "stdout",
     "output_type": "stream",
     "text": [
      "total cost is 10200\n"
     ]
    }
   ],
   "source": [
    "#wap ask the user enter distance \n",
    "#cut off distance enter 25\n",
    "# if distance greater than 25 km\n",
    "#print(\"good news your charge is aplicable for only remaining of 25\n",
    "#charge distance = distance-cutoff\n",
    "#then enter charge\n",
    "#print total cost\n",
    "\n",
    "\n",
    "\n",
    "distance=eval(input(\"enter the distance:\"))\n",
    "cutoff_distance=eval(input(\"enter cut off the distance:\"))\n",
    "if distance>cutoff_distance:\n",
    "    charge_distance=(distance-cutoff_distance)\n",
    "    print(f\"good news your charge is aplicable for only remaining of {charge_distance}\")\n",
    "  \n",
    "    charge=eval(input(\"enter charge:\"))\n",
    "    total_cost=charge_distance*charge\n",
    "    print(f\"total cost is {total_cost}\")\n",
    "    \n",
    "    \n"
   ]
  },
  {
   "cell_type": "code",
   "execution_count": 12,
   "id": "ef81e5c4-759d-4a04-9433-a42e6449102a",
   "metadata": {},
   "outputs": [
    {
     "name": "stdin",
     "output_type": "stream",
     "text": [
      "enter the course: python\n",
      "enter the institute: nareshit\n"
     ]
    },
    {
     "name": "stdout",
     "output_type": "stream",
     "text": [
      "your bad:\n"
     ]
    }
   ],
   "source": [
    "#wap ask the user enter the course\n",
    "#ask the user enter the institute\n",
    "#if the course equal to data science and institute equal to nareshit\n",
    "#then your good \n",
    "#otherwise your bad\n",
    "course=input(\"enter the course:\")\n",
    "institute=input(\"enter the institute:\")\n",
    "if course=='datascience' and institute=='nareshit':\n",
    "    print(\"your good:\")\n",
    "else:\n",
    "    print(\"your bad:\")"
   ]
  },
  {
   "cell_type": "markdown",
   "id": "2c1263cc-a268-4168-ba99-c1dc65ce87e0",
   "metadata": {},
   "source": [
    "- and means two conditions need to be statisfied\n",
    "- or means any one condition can to be statisfied"
   ]
  },
  {
   "cell_type": "code",
   "execution_count": 13,
   "id": "e5819331-a198-463c-9641-4a01ac8286ca",
   "metadata": {},
   "outputs": [
    {
     "name": "stdin",
     "output_type": "stream",
     "text": [
      "enter the course: python\n",
      "enter the institute: nareshit\n"
     ]
    },
    {
     "name": "stdout",
     "output_type": "stream",
     "text": [
      "your good:\n"
     ]
    }
   ],
   "source": [
    "course=input(\"enter the course:\")\n",
    "institute=input(\"enter the institute:\")\n",
    "if course=='datascience' or institute=='nareshit':\n",
    "    print(\"your good:\")\n",
    "else:\n",
    "    print(\"your bad:\")"
   ]
  },
  {
   "cell_type": "code",
   "execution_count": 15,
   "id": "7a680890-6e68-4a40-9f75-a64c55e56a6c",
   "metadata": {},
   "outputs": [
    {
     "name": "stdin",
     "output_type": "stream",
     "text": [
      "enter a number: 7\n"
     ]
    },
    {
     "name": "stdout",
     "output_type": "stream",
     "text": [
      "you won\n"
     ]
    }
   ],
   "source": [
    "#wap ask the user enter a random nunber between 1 to 10 ,treat this as no 1\n",
    "#ask the user enter another number from keyboard, treat this as no 2\n",
    "#if number1 equal to number 2\n",
    "#print you won\n",
    "#otherwise\n",
    "#print you lost\n",
    "num1=random.randint(1,10)\n",
    "num2=eval(input(\"enter a number:\"))\n",
    "if num1==num2:\n",
    "    print(\"you won\")\n",
    "else:\n",
    "    print(\"you lost\")"
   ]
  },
  {
   "cell_type": "code",
   "execution_count": 16,
   "id": "4c1d58c5-064b-494f-835a-8a6128d092f9",
   "metadata": {},
   "outputs": [
    {
     "name": "stdout",
     "output_type": "stream",
     "text": [
      "9\n"
     ]
    },
    {
     "name": "stdin",
     "output_type": "stream",
     "text": [
      "enter a number: 9\n"
     ]
    },
    {
     "name": "stdout",
     "output_type": "stream",
     "text": [
      "you won\n"
     ]
    }
   ],
   "source": [
    "num1=random.randint(1,10)\n",
    "print(num1)\n",
    "num2=eval(input(\"enter a number:\"))\n",
    "if num1==num2:\n",
    "    print(\"you won\")\n",
    "else:\n",
    "    print(\"you lost\")"
   ]
  },
  {
   "cell_type": "markdown",
   "id": "7d7edff2-b69c-4be3-aa52-d423b8c9f499",
   "metadata": {},
   "source": [
    "- till now we have seen one condition problem\n",
    "- which means if the condition is true will get one answer\n",
    "- if the condition is false will get another answer\n",
    "- how about if we have more tha 2 conditions\n",
    "- if-elif-else\n",
    "- two conditions means 3 results\n",
    "- if has one condition\n",
    "- elif has second condition\n",
    "- if both are false then the result is false"
   ]
  },
  {
   "cell_type": "code",
   "execution_count": null,
   "id": "d9cb54e1-8d15-48aa-bcc7-ee1a0949df84",
   "metadata": {},
   "outputs": [],
   "source": [
    "if <condition>:\n",
    "    <statements>\n",
    "elif <condition>:\n",
    "    <statements>\n",
    "else:\n",
    "    <statement>\n",
    "\n",
    "if-else\n",
    "if-elif-else\n",
    "if-elif-elif-else"
   ]
  },
  {
   "cell_type": "code",
   "execution_count": 24,
   "id": "ca96366b-0b0a-49d0-819c-cc1cb00bb8a9",
   "metadata": {},
   "outputs": [
    {
     "name": "stdin",
     "output_type": "stream",
     "text": [
      "enter a number: 3\n"
     ]
    },
    {
     "name": "stdout",
     "output_type": "stream",
     "text": [
      "three\n"
     ]
    }
   ],
   "source": [
    "#wap ask the user enter number if number=1 the print one\n",
    "#if number =2 print 2\n",
    "#if number = 3 print3\n",
    "#otherwise print enter a valid number\n",
    "num1=eval(input(\"enter a number:\"))\n",
    "if num1==1:\n",
    "    print(\"One:\")\n",
    "elif num1==2:\n",
    "    print(\"two:\")\n",
    "elif num1==3:\n",
    "    print(\"three\")\n",
    "else:\n",
    "    print(\"enter a valid number:\")"
   ]
  },
  {
   "cell_type": "code",
   "execution_count": 26,
   "id": "7a884131-c0d1-46f5-8108-7f30f6eca729",
   "metadata": {},
   "outputs": [
    {
     "name": "stdin",
     "output_type": "stream",
     "text": [
      "enter a number: 0\n"
     ]
    },
    {
     "name": "stdout",
     "output_type": "stream",
     "text": [
      "zero\n"
     ]
    }
   ],
   "source": [
    "#wap ask the user enter a number\n",
    "#if the number greater than zero print positive\n",
    "#if the number  less than zero print positive\n",
    "#otherwise print zero\n",
    "num=eval(input(\"enter a number:\"))\n",
    "if num>0:\n",
    "    print(\"positive\")\n",
    "elif num<0:\n",
    "    print(\"negative\")\n",
    "else:\n",
    "    print(\"zero\")"
   ]
  },
  {
   "cell_type": "code",
   "execution_count": 34,
   "id": "4dd0cc7d-23aa-4114-bfe1-4eec6b509edf",
   "metadata": {},
   "outputs": [
    {
     "name": "stdin",
     "output_type": "stream",
     "text": [
      "Enter percentage of marks: 34\n"
     ]
    },
    {
     "name": "stdout",
     "output_type": "stream",
     "text": [
      "Fail\n"
     ]
    }
   ],
   "source": [
    "#wap ask the user enter percentage of marks\n",
    "#if per>90 prin A grade\n",
    "#if per between 75 to 90 print B\n",
    "#if per between 50 to 75 print C\n",
    "#if per between 35 to 50 print D\n",
    "#if per less than print Fail\n",
    "percentage=eval(input(\"Enter percentage of marks:\"))\n",
    "if percentage>90:\n",
    "    print('A grade')\n",
    "elif percentage>=75:\n",
    "    print(\"B grade\")\n",
    "elif percentage>=50:\n",
    "    print(\"C grade\")\n",
    "elif percentage>=35:\n",
    "    print(\"D grade\")\n",
    "else:\n",
    "    print(\"Fail\")\n"
   ]
  },
  {
   "cell_type": "code",
   "execution_count": 36,
   "id": "22c37d35-250b-42dd-b9df-036152505052",
   "metadata": {},
   "outputs": [
    {
     "name": "stdin",
     "output_type": "stream",
     "text": [
      "enter age: 22\n"
     ]
    },
    {
     "name": "stdout",
     "output_type": "stream",
     "text": [
      "young age\n"
     ]
    }
   ],
   "source": [
    "##wap ask the user enter age \n",
    "#age is > 75 print old age\n",
    "#age is between 50 to 75 print senior citizen\n",
    "# age is between 30 to 50 print middle age\n",
    "#age is between 15 to 30 print young age\n",
    "# age less than 15 print kid\n",
    "age=eval(input(\"enter age:\"))\n",
    "if age>75:\n",
    "    print(\"old age\")\n",
    "elif age>=50:\n",
    "    print(\"senior citizen\")\n",
    "elif age>=30:\n",
    "    print(\"middle age\")\n",
    "elif age>=15:\n",
    "    print(\"young age\")\n",
    "else:\n",
    "    print(\"kid\")"
   ]
  },
  {
   "cell_type": "markdown",
   "id": "199058cb-d702-41bf-bba6-1611fba92cb8",
   "metadata": {},
   "source": [
    "- we have to use the keyword called temp for the swaping of two numbers\n",
    "- the temp keyword is use to create temperary file and performs multiple operations"
   ]
  },
  {
   "cell_type": "code",
   "execution_count": null,
   "id": "f4bae29b-86f4-4387-9e46-f045218a5736",
   "metadata": {},
   "outputs": [],
   "source": [
    "#6. Two numbers are input through the keyboard into two locations C and D. Write a program to interchange\n",
    "#the contents of C and D. here we have to use the keyword called temp for the swaping of two numbers\n",
    "#C=eval(input(\"enter a number:\"))\n",
    "#D=eval(input(\"enter a number:\"))\n",
    "\n",
    "C=7\n",
    "D=9\n",
    "temp = C\n",
    "C = D\n",
    "D = temp\n",
    "print(f\"the value of c after interchange is {C}\")\n",
    "print(f\"the value of d after interchange is {D}\")"
   ]
  },
  {
   "cell_type": "code",
   "execution_count": 5,
   "id": "e40979a5-788a-410a-ab33-03fe71276d8c",
   "metadata": {},
   "outputs": [
    {
     "name": "stdin",
     "output_type": "stream",
     "text": [
      "enter a number: 4\n",
      "enter a number: 2\n"
     ]
    },
    {
     "name": "stdout",
     "output_type": "stream",
     "text": [
      "6\n",
      "2\n",
      "8\n",
      "2.0\n"
     ]
    },
    {
     "name": "stdin",
     "output_type": "stream",
     "text": [
      "enter an operation between 1 to 4: 2\n"
     ]
    },
    {
     "name": "stdout",
     "output_type": "stream",
     "text": [
      "8\n"
     ]
    }
   ],
   "source": [
    "#wap ask the user enter 2 numbers num1,num2\n",
    "#you need to print\n",
    "#enter operation 1 for addition\n",
    "#enter operation 2 for subtraction\n",
    "#enter operation 3 for multiplication \n",
    "#enter operation 4 for division\n",
    "#enter operation between 1 to 4\n",
    "#if operation equal to 1 then do add\n",
    "#if operation equal to 2 then do mul\n",
    "#if operation equal to 3 then do sub\n",
    "#if operation equal to 4 then do div\n",
    "#otherwise print enter a valid number\n",
    "\n",
    "\n",
    "num1=eval(input(\"enter a number:\"))\n",
    "num2=eval(input(\"enter a number:\"))\n",
    "\n",
    "operation_1=(num1+num2)\n",
    "print(operation_1)\n",
    "operation_2=(num1-num2)\n",
    "print(operation_2)\n",
    "operation_3=(num1*num2)\n",
    "print(operation_3)\n",
    "operation_4=(num1/num2)\n",
    "print(operation_4)\n",
    "operation=eval(input(\"enter an operation between 1 to 4:\"))\n",
    "if operation==1:\n",
    "    print(operation_1)\n",
    "elif operation==2:\n",
    "    print(operation_3)\n",
    "elif operation==3:\n",
    "    print(operation_2)\n",
    "elif operation==4:\n",
    "    print(operation_4)\n",
    "else:\n",
    "    print(\"enter a valid number\")\n",
    "\n"
   ]
  },
  {
   "cell_type": "code",
   "execution_count": 9,
   "id": "ac9f67a3-6ed5-4b6a-a7e5-deb1a92b5b02",
   "metadata": {
    "scrolled": true
   },
   "outputs": [
    {
     "name": "stdin",
     "output_type": "stream",
     "text": [
      "enter a number: 4\n",
      "enter a number: 2\n"
     ]
    },
    {
     "name": "stdout",
     "output_type": "stream",
     "text": [
      "enter operation 1 for addition\n",
      "enter operation 2 for subtraction\n",
      "enter operation 3 for multiplication\n",
      "enter operation 4 for division\n"
     ]
    },
    {
     "name": "stdin",
     "output_type": "stream",
     "text": [
      "enter an operation between 1 to 4: 1\n"
     ]
    },
    {
     "name": "stdout",
     "output_type": "stream",
     "text": [
      "6\n"
     ]
    }
   ],
   "source": [
    "num1=eval(input(\"enter a number:\"))\n",
    "num2=eval(input(\"enter a number:\"))\n",
    "print(\"enter operation 1 for addition\")\n",
    "print(\"enter operation 2 for subtraction\")\n",
    "print(\"enter operation 3 for multiplication\")\n",
    "print(\"enter operation 4 for division\")\n",
    "operation=eval(input(\"enter an operation between 1 to 4:\"))\n",
    "if operation==1:\n",
    "    add=num1+num2\n",
    "    print(add)\n",
    "elif operation==2:\n",
    "    mul=num1*num2\n",
    "    print(mul)\n",
    "elif operation==3:\n",
    "    sub=num1-num2\n",
    "    print(sub)\n",
    "elif operation==4:\n",
    "    div=num1/num2\n",
    "    print(div)\n",
    "else:\n",
    "    print(\"enter valid number\")\n"
   ]
  },
  {
   "cell_type": "code",
   "execution_count": 23,
   "id": "8b6ddbf9-158b-41ba-84a4-90f4b1af88af",
   "metadata": {},
   "outputs": [
    {
     "name": "stdin",
     "output_type": "stream",
     "text": [
      "enter a gender: male\n",
      "enter the age: 22\n"
     ]
    },
    {
     "name": "stdout",
     "output_type": "stream",
     "text": [
      "young man\n"
     ]
    }
   ],
   "source": [
    "# wap ask the user enter the gender\n",
    "# if gender equal to male\n",
    "#    ask the user enter age\n",
    "#    if the age greater than 60 print senior citizen\n",
    "#    if the age between 30 to 60 print man\n",
    "#     if the age between 15 to 30 print young man\n",
    "#    otherwise print boy\n",
    "#elif gender equal to female\n",
    "#    ask the user enter age\n",
    "#    if the age greater than 60 print senior citizen\n",
    "#    if the age between 30 to 60 print woman\n",
    "#    if the age between 15 to 30  print young girl\n",
    "#    otherwise print girl\n",
    "#otherwise:\n",
    "#   print enter valid gender\n",
    "gender=input(\"enter a gender:\")\n",
    "if gender=='male':\n",
    "    age=eval(input(\"enter the age:\"))\n",
    "    if age>=60:\n",
    "        print(\"senior citizen\")\n",
    "    elif age>=30:\n",
    "        print(\"man\")\n",
    "    elif age>=15:\n",
    "        print(\"young man\")\n",
    "    else:\n",
    "        print(\"Boy\")\n",
    "elif gender==female:\n",
    "    age1=input(\"enter age\")\n",
    "    if age>=60:\n",
    "        print(\"senior citizen\")\n",
    "    elif age>=30:\n",
    "        print(\"woman\")\n",
    "    elif age>=15:\n",
    "        print(\"young girl\")\n",
    "    else:\n",
    "        print(\"girl\")\n",
    "\n",
    "    \n",
    "\n",
    "    \n",
    "    \n",
    "\n",
    "    \n",
    "\n",
    "    "
   ]
  },
  {
   "cell_type": "code",
   "execution_count": 28,
   "id": "eec5a94c-6b53-4a55-9432-8485cfccc586",
   "metadata": {},
   "outputs": [
    {
     "name": "stdin",
     "output_type": "stream",
     "text": [
      "enter a number: 0\n"
     ]
    },
    {
     "name": "stdout",
     "output_type": "stream",
     "text": [
      "zero\n"
     ]
    }
   ],
   "source": [
    "# wap ask the user enter a number\n",
    "# if the numbe greater than or equal to 0\n",
    "#   if number equal to zero\n",
    "#      print(0)\n",
    "#    else\n",
    "#        print(positive)\n",
    "#else\n",
    "#    print(negative)\n",
    "num= eval(input(\"enter a number:\"))\n",
    "if num>=0:\n",
    "    if num==0:\n",
    "        print(\"zero\")\n",
    "    else:\n",
    "        print(\"positive\")\n",
    "else:\n",
    "    print(\"negative\")\n",
    "    "
   ]
  },
  {
   "cell_type": "code",
   "execution_count": null,
   "id": "fa45aca9-24d7-4745-b882-93db7fcfa34c",
   "metadata": {},
   "outputs": [],
   "source": [
    "#take three numbers\n",
    "#num1 num2 num3 \n",
    "#find the maximum number"
   ]
  }
 ],
 "metadata": {
  "kernelspec": {
   "display_name": "Python 3 (ipykernel)",
   "language": "python",
   "name": "python3"
  },
  "language_info": {
   "codemirror_mode": {
    "name": "ipython",
    "version": 3
   },
   "file_extension": ".py",
   "mimetype": "text/x-python",
   "name": "python",
   "nbconvert_exporter": "python",
   "pygments_lexer": "ipython3",
   "version": "3.11.7"
  }
 },
 "nbformat": 4,
 "nbformat_minor": 5
}
