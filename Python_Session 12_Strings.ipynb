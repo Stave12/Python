{
 "cells": [
  {
   "cell_type": "code",
   "execution_count": null,
   "id": "f194d8c2-05fd-47f5-a164-e4962445a1a7",
   "metadata": {},
   "outputs": [],
   "source": [
    "################# part-1 ####################\n",
    "- Initialization\n",
    "- type\n",
    "- len\n",
    "- max\n",
    "- min\n",
    "- sorted\n",
    "- reversed\n",
    "- for loop using in\n",
    "- indexing\n",
    "- for looping indexing\n",
    "- mutable concepts\n",
    "- concatination\n",
    "################### part-2 ###################\n",
    "Methods\n"
   ]
  },
  {
   "cell_type": "markdown",
   "id": "44794969-c886-4bba-9aa3-e85927d8bce4",
   "metadata": {},
   "source": [
    "**Initialization**"
   ]
  },
  {
   "cell_type": "code",
   "execution_count": 1,
   "id": "73dfca9e-da87-47a8-878a-05385162491f",
   "metadata": {},
   "outputs": [
    {
     "data": {
      "text/plain": [
       "'python'"
      ]
     },
     "execution_count": 1,
     "metadata": {},
     "output_type": "execute_result"
    }
   ],
   "source": [
    "str1='python'\n",
    "str1"
   ]
  },
  {
   "cell_type": "code",
   "execution_count": 2,
   "id": "7c98f85b-1daf-4b6b-8712-ad1ca95ce2e5",
   "metadata": {},
   "outputs": [
    {
     "data": {
      "text/plain": [
       "'python'"
      ]
     },
     "execution_count": 2,
     "metadata": {},
     "output_type": "execute_result"
    }
   ],
   "source": [
    "str2=\"python\"\n",
    "str2\n"
   ]
  },
  {
   "cell_type": "code",
   "execution_count": 4,
   "id": "ac176b1a-ef0f-45d8-8b49-a9aa406db20d",
   "metadata": {},
   "outputs": [
    {
     "data": {
      "text/plain": [
       "'stave'"
      ]
     },
     "execution_count": 4,
     "metadata": {},
     "output_type": "execute_result"
    }
   ],
   "source": [
    "str='stave'\n",
    "str"
   ]
  },
  {
   "cell_type": "code",
   "execution_count": 6,
   "id": "df3bf053-44c5-4918-a441-dc38de658888",
   "metadata": {},
   "outputs": [
    {
     "name": "stdout",
     "output_type": "stream",
     "text": [
      "python\n"
     ]
    }
   ],
   "source": [
    "print(str1)"
   ]
  },
  {
   "cell_type": "markdown",
   "id": "d10ed6c7-4e5a-4cfe-bb75-ee3fd70abb47",
   "metadata": {},
   "source": [
    "**Note**\n",
    "- if u write string in single or double quotes \n",
    "- python by default it gives output by single quotes\n",
    "- but if u use print the quotes will be removed\n",
    "- triple quotes are using for doc string\n",
    "- in order to convey the information about coding problems part will be used in doc string\n",
    "- any thing written in single quotes or bouble or triple quotes its is a string "
   ]
  },
  {
   "cell_type": "code",
   "execution_count": 5,
   "id": "a808191b-e120-4450-86a9-002c1f0680fe",
   "metadata": {},
   "outputs": [
    {
     "name": "stdout",
     "output_type": "stream",
     "text": [
      "stave\n"
     ]
    }
   ],
   "source": [
    "print(str)"
   ]
  },
  {
   "cell_type": "markdown",
   "id": "2496b50c-8136-426b-b27e-3e428fed725a",
   "metadata": {},
   "source": [
    "**Triple Quotes**"
   ]
  },
  {
   "cell_type": "code",
   "execution_count": 8,
   "id": "b530296d-391c-4833-a848-465df03eed3d",
   "metadata": {},
   "outputs": [
    {
     "name": "stdout",
     "output_type": "stream",
     "text": [
      "hai how are u\n",
      "        i am good\n"
     ]
    }
   ],
   "source": [
    "str3=\"\"\"hai how are u\n",
    "        i am good\"\"\"\n",
    "print(str3)"
   ]
  },
  {
   "cell_type": "markdown",
   "id": "7f8d0a77-e788-49b1-8a6c-9e8960268336",
   "metadata": {},
   "source": [
    "**type**"
   ]
  },
  {
   "cell_type": "code",
   "execution_count": 9,
   "id": "530c64a6-2bb7-43fb-aff2-8570fd00ab4c",
   "metadata": {},
   "outputs": [
    {
     "data": {
      "text/plain": [
       "str"
      ]
     },
     "execution_count": 9,
     "metadata": {},
     "output_type": "execute_result"
    }
   ],
   "source": [
    "type(str1)"
   ]
  },
  {
   "cell_type": "code",
   "execution_count": 11,
   "id": "ecde8b72-4198-4c87-ad79-beb3b7c5ac3f",
   "metadata": {},
   "outputs": [],
   "source": [
    "str4='10'  #integer value in str form\n",
    "str5='10.5' # float value in str form\n",
    "str6='abc10' # alpha numerical value in form of str\n",
    "str7='True' #boolean in str\n",
    "#all in quotes means strings"
   ]
  },
  {
   "cell_type": "code",
   "execution_count": 12,
   "id": "32347cc9-bcb4-48d9-8292-bf54d8f1169e",
   "metadata": {},
   "outputs": [
    {
     "data": {
      "text/plain": [
       "'abc10'"
      ]
     },
     "execution_count": 12,
     "metadata": {},
     "output_type": "execute_result"
    }
   ],
   "source": [
    "str6"
   ]
  },
  {
   "cell_type": "markdown",
   "id": "e9bed540-3743-43cc-bf25-5e8571531503",
   "metadata": {},
   "source": [
    "**len**"
   ]
  },
  {
   "cell_type": "code",
   "execution_count": 14,
   "id": "f3853a2f-487c-445f-a72e-ab4c51c3d766",
   "metadata": {},
   "outputs": [
    {
     "data": {
      "text/plain": [
       "6"
      ]
     },
     "execution_count": 14,
     "metadata": {},
     "output_type": "execute_result"
    }
   ],
   "source": [
    "str1='python'\n",
    "len(str1)"
   ]
  },
  {
   "cell_type": "code",
   "execution_count": 15,
   "id": "7a62e5ae-f65b-4f9b-b571-04fa5b775569",
   "metadata": {},
   "outputs": [
    {
     "data": {
      "text/plain": [
       "13"
      ]
     },
     "execution_count": 15,
     "metadata": {},
     "output_type": "execute_result"
    }
   ],
   "source": [
    "a='stave flaming'\n",
    "len(a)"
   ]
  },
  {
   "cell_type": "code",
   "execution_count": 16,
   "id": "5fd51774-3ec9-4616-91c9-f397a58c3bfa",
   "metadata": {},
   "outputs": [
    {
     "data": {
      "text/plain": [
       "23"
      ]
     },
     "execution_count": 16,
     "metadata": {},
     "output_type": "execute_result"
    }
   ],
   "source": [
    "str3='hai how are u i am good'\n",
    "len(str3)"
   ]
  },
  {
   "cell_type": "markdown",
   "id": "6b6a9d43-c3ba-44af-8535-3eed6ba89f5a",
   "metadata": {},
   "source": [
    "**max and min**"
   ]
  },
  {
   "cell_type": "code",
   "execution_count": 19,
   "id": "5ad0165a-c2f8-406e-b4a7-2b0ea1a70f88",
   "metadata": {},
   "outputs": [
    {
     "data": {
      "text/plain": [
       "'y'"
      ]
     },
     "execution_count": 19,
     "metadata": {},
     "output_type": "execute_result"
    }
   ],
   "source": [
    "str1='python'\n",
    "max(str1)"
   ]
  },
  {
   "cell_type": "code",
   "execution_count": 20,
   "id": "1334a24a-c34c-4ef6-bc90-2f7d87d35647",
   "metadata": {},
   "outputs": [
    {
     "data": {
      "text/plain": [
       "'h'"
      ]
     },
     "execution_count": 20,
     "metadata": {},
     "output_type": "execute_result"
    }
   ],
   "source": [
    "min(str1)"
   ]
  },
  {
   "cell_type": "code",
   "execution_count": 23,
   "id": "916498ed-4649-446b-b033-54b1597736eb",
   "metadata": {},
   "outputs": [
    {
     "data": {
      "text/plain": [
       "(121, 112, 104, 111, 110)"
      ]
     },
     "execution_count": 23,
     "metadata": {},
     "output_type": "execute_result"
    }
   ],
   "source": [
    "ord('y'),ord('p'),ord('h'),ord('o'),ord('n')"
   ]
  },
  {
   "cell_type": "code",
   "execution_count": 24,
   "id": "71a3c903-60ae-4303-a6ca-58444ae7d239",
   "metadata": {},
   "outputs": [
    {
     "data": {
      "text/plain": [
       "'v'"
      ]
     },
     "execution_count": 24,
     "metadata": {},
     "output_type": "execute_result"
    }
   ],
   "source": [
    "str='stave'\n",
    "max(str)"
   ]
  },
  {
   "cell_type": "code",
   "execution_count": 25,
   "id": "b68e4aeb-096f-44ad-a308-f3278bb98e62",
   "metadata": {},
   "outputs": [
    {
     "data": {
      "text/plain": [
       "'a'"
      ]
     },
     "execution_count": 25,
     "metadata": {},
     "output_type": "execute_result"
    }
   ],
   "source": [
    "min(str)"
   ]
  },
  {
   "cell_type": "code",
   "execution_count": 29,
   "id": "5a86d194-72c3-4ba1-a758-146a6b62efe6",
   "metadata": {},
   "outputs": [
    {
     "data": {
      "text/plain": [
       "(119, 118, 97, 65)"
      ]
     },
     "execution_count": 29,
     "metadata": {},
     "output_type": "execute_result"
    }
   ],
   "source": [
    "ord('w'),ord('v'),ord('a'),ord('A')"
   ]
  },
  {
   "cell_type": "markdown",
   "id": "a3cc3714-f1bc-47fa-8544-ee56d7c4044c",
   "metadata": {},
   "source": [
    "**keywords vs Methods**"
   ]
  },
  {
   "cell_type": "code",
   "execution_count": null,
   "id": "eb82cc17-6c74-43d3-bfd3-0a0041267e22",
   "metadata": {},
   "outputs": [],
   "source": [
    "len()\n",
    "print()\n",
    "add()\n",
    "max()\n",
    "min()\n",
    "eval()\n",
    "input()\n",
    "sum()\n",
    "add()\n"
   ]
  },
  {
   "cell_type": "code",
   "execution_count": null,
   "id": "ef9e7c2b-1038-4525-b15d-f80f5bcf27f6",
   "metadata": {},
   "outputs": [],
   "source": [
    "- in order to use the methods we need to call packages\n",
    "import random\n",
    "random.randint()\n",
    "\n",
    "\n",
    "import math\n",
    "math.square()"
   ]
  },
  {
   "cell_type": "code",
   "execution_count": 30,
   "id": "763d7497-8285-4744-a19d-dc8f45c45d04",
   "metadata": {},
   "outputs": [
    {
     "data": {
      "text/plain": [
       "'y'"
      ]
     },
     "execution_count": 30,
     "metadata": {},
     "output_type": "execute_result"
    }
   ],
   "source": [
    "str1='python123'\n",
    "max(str1)"
   ]
  },
  {
   "cell_type": "markdown",
   "id": "88911187-e3dc-4d7c-9c34-149c70434101",
   "metadata": {},
   "source": [
    "**sum**"
   ]
  },
  {
   "cell_type": "code",
   "execution_count": 31,
   "id": "3cd4d070-da75-43ca-9bb7-c6f57ae7eae8",
   "metadata": {},
   "outputs": [
    {
     "ename": "TypeError",
     "evalue": "unsupported operand type(s) for +: 'int' and 'str'",
     "output_type": "error",
     "traceback": [
      "\u001b[1;31m---------------------------------------------------------------------------\u001b[0m",
      "\u001b[1;31mTypeError\u001b[0m                                 Traceback (most recent call last)",
      "Cell \u001b[1;32mIn[31], line 2\u001b[0m\n\u001b[0;32m      1\u001b[0m str1\u001b[38;5;241m=\u001b[39m\u001b[38;5;124m'\u001b[39m\u001b[38;5;124mpython\u001b[39m\u001b[38;5;124m'\u001b[39m\n\u001b[1;32m----> 2\u001b[0m \u001b[38;5;28msum\u001b[39m(str1)\n",
      "\u001b[1;31mTypeError\u001b[0m: unsupported operand type(s) for +: 'int' and 'str'"
     ]
    }
   ],
   "source": [
    "str1='python'\n",
    "sum(str1)"
   ]
  },
  {
   "cell_type": "markdown",
   "id": "6817acd1-73e8-4a0c-8501-12da538e2c89",
   "metadata": {},
   "source": [
    "**sorted**"
   ]
  },
  {
   "cell_type": "code",
   "execution_count": 34,
   "id": "3e2925ff-1401-4c8a-989f-c5f6707ad5aa",
   "metadata": {},
   "outputs": [
    {
     "data": {
      "text/plain": [
       "['h', 'n', 'o', 'p', 't', 'y']"
      ]
     },
     "execution_count": 34,
     "metadata": {},
     "output_type": "execute_result"
    }
   ],
   "source": [
    "str='python'\n",
    "sorted(str)"
   ]
  },
  {
   "cell_type": "markdown",
   "id": "f03f4df5-3faf-41da-b9f4-1258f69dc42d",
   "metadata": {},
   "source": [
    "- sorted give the ascending order based on asci numbers\n",
    "- sorted is a kind of a function\n",
    "- every function have arguments\n",
    "- in that one default argument is there it is by default is false\n",
    "- by default sorted output gives ascending order\n",
    "- we can convert it into decending by using reverse=True\n",
    "- if u donot mention it will give the default annswer"
   ]
  },
  {
   "cell_type": "code",
   "execution_count": 35,
   "id": "542d882f-d70b-4605-b981-00f008209350",
   "metadata": {},
   "outputs": [
    {
     "data": {
      "text/plain": [
       "['y', 't', 'p', 'o', 'n', 'h']"
      ]
     },
     "execution_count": 35,
     "metadata": {},
     "output_type": "execute_result"
    }
   ],
   "source": [
    "sorted(str1,reverse=True)"
   ]
  },
  {
   "cell_type": "code",
   "execution_count": 36,
   "id": "3693e4b9-1876-4884-95ff-9e4d8a9813ff",
   "metadata": {},
   "outputs": [
    {
     "data": {
      "text/plain": [
       "['v', 't', 's', 'e', 'a']"
      ]
     },
     "execution_count": 36,
     "metadata": {},
     "output_type": "execute_result"
    }
   ],
   "source": [
    "sorted('stave',reverse=True)"
   ]
  },
  {
   "cell_type": "code",
   "execution_count": 37,
   "id": "0d887109-bf92-499d-9f5f-0d83b346e869",
   "metadata": {},
   "outputs": [
    {
     "data": {
      "text/plain": [
       "0j"
      ]
     },
     "execution_count": 37,
     "metadata": {},
     "output_type": "execute_result"
    }
   ],
   "source": [
    "complex()"
   ]
  },
  {
   "cell_type": "code",
   "execution_count": 38,
   "id": "3fc48739-1f6e-4de4-9e0d-0ea0af3861c9",
   "metadata": {},
   "outputs": [
    {
     "data": {
      "text/plain": [
       "(10+20j)"
      ]
     },
     "execution_count": 38,
     "metadata": {},
     "output_type": "execute_result"
    }
   ],
   "source": [
    "complex(10,20)"
   ]
  },
  {
   "cell_type": "code",
   "execution_count": 40,
   "id": "5de00a37-66a3-40ee-b3a3-e3335681b02a",
   "metadata": {},
   "outputs": [
    {
     "data": {
      "text/plain": [
       "(10+30j)"
      ]
     },
     "execution_count": 40,
     "metadata": {},
     "output_type": "execute_result"
    }
   ],
   "source": [
    "complex(real=10,imag=30)"
   ]
  },
  {
   "cell_type": "code",
   "execution_count": 41,
   "id": "e1ed80ab-d81e-4a00-97db-387584a5dcea",
   "metadata": {},
   "outputs": [
    {
     "ename": "TypeError",
     "evalue": "Random.randint() missing 2 required positional arguments: 'a' and 'b'",
     "output_type": "error",
     "traceback": [
      "\u001b[1;31m---------------------------------------------------------------------------\u001b[0m",
      "\u001b[1;31mTypeError\u001b[0m                                 Traceback (most recent call last)",
      "Cell \u001b[1;32mIn[41], line 2\u001b[0m\n\u001b[0;32m      1\u001b[0m \u001b[38;5;28;01mimport\u001b[39;00m \u001b[38;5;21;01mrandom\u001b[39;00m\n\u001b[1;32m----> 2\u001b[0m random\u001b[38;5;241m.\u001b[39mrandint()\n",
      "\u001b[1;31mTypeError\u001b[0m: Random.randint() missing 2 required positional arguments: 'a' and 'b'"
     ]
    }
   ],
   "source": [
    "import random\n",
    "random.randint()"
   ]
  },
  {
   "cell_type": "code",
   "execution_count": 43,
   "id": "496df98a-8703-4341-864f-6af4c760c63a",
   "metadata": {},
   "outputs": [
    {
     "data": {
      "text/plain": [
       "0.9993807584789439"
      ]
     },
     "execution_count": 43,
     "metadata": {},
     "output_type": "execute_result"
    }
   ],
   "source": [
    "random.random() #we will get answer but answer will not i our hands"
   ]
  },
  {
   "cell_type": "code",
   "execution_count": 45,
   "id": "cda093b3-5a98-448f-890e-0128028c3753",
   "metadata": {},
   "outputs": [
    {
     "data": {
      "text/plain": [
       "7"
      ]
     },
     "execution_count": 45,
     "metadata": {},
     "output_type": "execute_result"
    }
   ],
   "source": [
    "random.randint(1,10)#answer we can change"
   ]
  },
  {
   "cell_type": "code",
   "execution_count": 48,
   "id": "fd2e3506-a11c-48ab-b2f3-b60bedbdfe59",
   "metadata": {},
   "outputs": [
    {
     "data": {
      "text/plain": [
       "0j"
      ]
     },
     "execution_count": 48,
     "metadata": {},
     "output_type": "execute_result"
    }
   ],
   "source": [
    "complex() #by default 0,0,"
   ]
  },
  {
   "cell_type": "code",
   "execution_count": 47,
   "id": "08dc1708-1eac-4dc3-9666-2c6ded91eba6",
   "metadata": {},
   "outputs": [
    {
     "data": {
      "text/plain": [
       "(10+20j)"
      ]
     },
     "execution_count": 47,
     "metadata": {},
     "output_type": "execute_result"
    }
   ],
   "source": [
    "complex(10,20)"
   ]
  },
  {
   "cell_type": "code",
   "execution_count": 49,
   "id": "3bd7ab9b-38cc-4dee-802a-be4f5e49d6ce",
   "metadata": {},
   "outputs": [
    {
     "ename": "TypeError",
     "evalue": "sorted expected 1 argument, got 0",
     "output_type": "error",
     "traceback": [
      "\u001b[1;31m---------------------------------------------------------------------------\u001b[0m",
      "\u001b[1;31mTypeError\u001b[0m                                 Traceback (most recent call last)",
      "Cell \u001b[1;32mIn[49], line 1\u001b[0m\n\u001b[1;32m----> 1\u001b[0m \u001b[38;5;28msorted\u001b[39m(iterable\u001b[38;5;241m=\u001b[39m\u001b[38;5;124m'\u001b[39m\u001b[38;5;124mpython\u001b[39m\u001b[38;5;124m'\u001b[39m)\n",
      "\u001b[1;31mTypeError\u001b[0m: sorted expected 1 argument, got 0"
     ]
    }
   ],
   "source": [
    "sorted(iterable='python')"
   ]
  },
  {
   "cell_type": "code",
   "execution_count": 50,
   "id": "9c6d8e68-8ac2-4ca8-a708-164e137fac7a",
   "metadata": {},
   "outputs": [
    {
     "data": {
      "text/plain": [
       "27"
      ]
     },
     "execution_count": 50,
     "metadata": {},
     "output_type": "execute_result"
    }
   ],
   "source": [
    "random.randint(a=20,b=30)"
   ]
  },
  {
   "cell_type": "markdown",
   "id": "70dbcb44-7ad1-4d91-a217-34c29bf72b8b",
   "metadata": {},
   "source": [
    "**Note**\n",
    "- we have arguments before / and after /\n",
    "- we can use arguments names after / only\n",
    "- which means for example\n",
    "- sorted has two arguments one is iterable and another is reverse\n",
    "- iterable is mentioned before / symbol\n",
    "- reverse is mentinoed after / symbol\n",
    "- insted of using iterable name, we can directly specify the value"
   ]
  },
  {
   "cell_type": "markdown",
   "id": "4d5b9bda-9afc-4b87-9e4d-2c060bf39efd",
   "metadata": {},
   "source": [
    "**reversed**"
   ]
  },
  {
   "cell_type": "code",
   "execution_count": 51,
   "id": "01a946a2-fd63-4556-adf5-312e1153071f",
   "metadata": {},
   "outputs": [
    {
     "data": {
      "text/plain": [
       "<reversed at 0x1fea7b90400>"
      ]
     },
     "execution_count": 51,
     "metadata": {},
     "output_type": "execute_result"
    }
   ],
   "source": [
    "reversed('python')"
   ]
  },
  {
   "cell_type": "markdown",
   "id": "a8e8acfa-3a3c-4dbc-99d6-58be7421fda5",
   "metadata": {},
   "source": [
    "- it means the work is already done the output is stored in that memory location\n",
    "- when ever u see this kind of symbol <,> and memory\n",
    "- use for loop to see the answer"
   ]
  },
  {
   "cell_type": "code",
   "execution_count": 52,
   "id": "478dfc48-11da-49e1-89b6-9c1aa057d52a",
   "metadata": {},
   "outputs": [
    {
     "name": "stdout",
     "output_type": "stream",
     "text": [
      "n\n",
      "o\n",
      "h\n",
      "t\n",
      "y\n",
      "p\n"
     ]
    }
   ],
   "source": [
    "str1='python'\n",
    "output=reversed(str1)\n",
    "for i in output:\n",
    "    print(i)"
   ]
  },
  {
   "cell_type": "code",
   "execution_count": 54,
   "id": "72a7c592-3230-4a89-be79-e845603c0543",
   "metadata": {},
   "outputs": [
    {
     "name": "stdout",
     "output_type": "stream",
     "text": [
      "o\n",
      "g\n",
      " \n",
      "s\n",
      "t\n",
      "e\n",
      "l\n",
      " \n",
      "k\n",
      "o\n"
     ]
    }
   ],
   "source": [
    "str='ok lets go'\n",
    "a=reversed(str)\n",
    "for i in a:\n",
    "    print(i)"
   ]
  },
  {
   "cell_type": "code",
   "execution_count": 55,
   "id": "2481122d-41ff-4e3f-bda0-94e1d43786d0",
   "metadata": {},
   "outputs": [
    {
     "data": {
      "text/plain": [
       "['a', 'c', 'd', 'v', 'y']"
      ]
     },
     "execution_count": 55,
     "metadata": {},
     "output_type": "execute_result"
    }
   ],
   "source": [
    "sorted('acyvd')"
   ]
  },
  {
   "cell_type": "code",
   "execution_count": 5,
   "id": "0b12ff50-06c0-4106-8f9e-53c8d42eba54",
   "metadata": {},
   "outputs": [
    {
     "ename": "TypeError",
     "evalue": "sorted expected 1 argument, got 2",
     "output_type": "error",
     "traceback": [
      "\u001b[1;31m---------------------------------------------------------------------------\u001b[0m",
      "\u001b[1;31mTypeError\u001b[0m                                 Traceback (most recent call last)",
      "Cell \u001b[1;32mIn[5], line 1\u001b[0m\n\u001b[1;32m----> 1\u001b[0m \u001b[38;5;28msorted\u001b[39m(\u001b[38;5;124m'\u001b[39m\u001b[38;5;124mstave\u001b[39m\u001b[38;5;124m'\u001b[39m,\u001b[38;5;28;01mTrue\u001b[39;00m)\n",
      "\u001b[1;31mTypeError\u001b[0m: sorted expected 1 argument, got 2"
     ]
    }
   ],
   "source": [
    "sorted('stave',True)"
   ]
  },
  {
   "cell_type": "code",
   "execution_count": 4,
   "id": "2d828320-de36-4d26-ba05-2c6ba0c39735",
   "metadata": {},
   "outputs": [
    {
     "data": {
      "text/plain": [
       "['v', 't', 's', 'e', 'a']"
      ]
     },
     "execution_count": 4,
     "metadata": {},
     "output_type": "execute_result"
    }
   ],
   "source": [
    "sorted('stave',reverse=True)"
   ]
  },
  {
   "cell_type": "code",
   "execution_count": 6,
   "id": "580da4f7-3cdc-4418-b87e-c516fd7765e6",
   "metadata": {},
   "outputs": [
    {
     "name": "stdout",
     "output_type": "stream",
     "text": [
      "e\n",
      "v\n",
      "a\n",
      "t\n",
      "s\n"
     ]
    }
   ],
   "source": [
    "for i in reversed('stave'):\n",
    "    print(i)"
   ]
  },
  {
   "cell_type": "code",
   "execution_count": 8,
   "id": "349adfd5-f1b4-46b5-80f2-40a851ab77ce",
   "metadata": {},
   "outputs": [
    {
     "name": "stdout",
     "output_type": "stream",
     "text": [
      "f\n",
      "l\n",
      "a\n",
      "m\n",
      "i\n",
      "n\n",
      "g\n"
     ]
    }
   ],
   "source": [
    "a='flaming'\n",
    "for i in (a):\n",
    "    print(i)"
   ]
  },
  {
   "cell_type": "code",
   "execution_count": 9,
   "id": "acd0eb78-e726-4ee9-b29e-2d737c88c4f0",
   "metadata": {},
   "outputs": [
    {
     "data": {
      "text/plain": [
       "[9, 8, 6, 3, 2, 1]"
      ]
     },
     "execution_count": 9,
     "metadata": {},
     "output_type": "execute_result"
    }
   ],
   "source": [
    "sorted([1,2,8,9,6,3],reverse=True)"
   ]
  },
  {
   "cell_type": "markdown",
   "id": "ebe8b547-ef6a-4a6b-88d1-9bbf1a841913",
   "metadata": {},
   "source": [
    "**in operator**"
   ]
  },
  {
   "cell_type": "code",
   "execution_count": 11,
   "id": "035f40bf-ccf2-48d4-9911-acfc1f138910",
   "metadata": {},
   "outputs": [
    {
     "data": {
      "text/plain": [
       "True"
      ]
     },
     "execution_count": 11,
     "metadata": {},
     "output_type": "execute_result"
    }
   ],
   "source": [
    "str = 'stave'\n",
    "'s' in str"
   ]
  },
  {
   "cell_type": "code",
   "execution_count": 12,
   "id": "2341015d-ad62-422b-aba2-14ccae53ea99",
   "metadata": {},
   "outputs": [
    {
     "data": {
      "text/plain": [
       "False"
      ]
     },
     "execution_count": 12,
     "metadata": {},
     "output_type": "execute_result"
    }
   ],
   "source": [
    "str='stave'\n",
    "'v' not in str"
   ]
  },
  {
   "cell_type": "markdown",
   "id": "80fad8a5-8eae-438f-8075-36f7115ae242",
   "metadata": {},
   "source": [
    "**Note**\n",
    "- in operator directly access the letters"
   ]
  },
  {
   "cell_type": "code",
   "execution_count": 15,
   "id": "242a2f09-01fd-41b3-b6e6-f6f97561d3b5",
   "metadata": {},
   "outputs": [
    {
     "name": "stdout",
     "output_type": "stream",
     "text": [
      "a\n",
      "a\n",
      "a\n",
      "3\n"
     ]
    }
   ],
   "source": [
    "#1 wap ask the user count how many a's are present in a given string\n",
    "#str='hai naresh how are you'\n",
    "#idea : counter rapper\n",
    "#step 1: count=0\n",
    "#step 2:using for loop in operator iterate through given string\n",
    "#step 3:apply the if condition ,when ever the letter equal to 'a'\n",
    "#step 4:count=count+1\n",
    "\n",
    "count=0\n",
    "str='hai naresh how are you'\n",
    "for i in (str):\n",
    "    if i=='a':\n",
    "        print(i)\n",
    "        count=count+1\n",
    "print(count)\n",
    "    "
   ]
  },
  {
   "cell_type": "code",
   "execution_count": 23,
   "id": "37ab5fb0-1b2a-4418-ab81-c1929d41d70c",
   "metadata": {},
   "outputs": [
    {
     "name": "stdout",
     "output_type": "stream",
     "text": [
      "9\n"
     ]
    }
   ],
   "source": [
    "#2 wap ask the user find how many vowels are there\n",
    "str='hai naresh how are you'\n",
    "vowels='aeiou'\n",
    "count=0\n",
    "for i in str:\n",
    "        if i in vowels:\n",
    "            #print(i)\n",
    "            count=count+1\n",
    "print(count)"
   ]
  },
  {
   "cell_type": "code",
   "execution_count": 31,
   "id": "1ffa6a41-2817-479a-8d58-c6952e59f5a4",
   "metadata": {},
   "outputs": [
    {
     "name": "stdout",
     "output_type": "stream",
     "text": [
      "aieou\n",
      "5\n"
     ]
    }
   ],
   "source": [
    "#3 str='hai naresh how are you'\n",
    "#repeated vowels are there \n",
    "#we dont want repeated vowels\n",
    "#count the vowels avoid the repeated ones\n",
    "#count the unique vowels\n",
    "str='hai naresh how are you'\n",
    "vowels='aeiou'\n",
    "count=0\n",
    "value=''\n",
    "for i in str:\n",
    "    if i in vowels:\n",
    "        count=count+1\n",
    "        if i not in value:\n",
    "            value=value+i\n",
    "print(value)\n",
    "print(len(value))"
   ]
  },
  {
   "cell_type": "markdown",
   "id": "af43a959-3408-4702-a47e-0ca1671834be",
   "metadata": {},
   "source": [
    "**How to update the empty strings**"
   ]
  },
  {
   "cell_type": "code",
   "execution_count": 24,
   "id": "876fe2a7-2075-4e53-ad3e-a6c199307a59",
   "metadata": {},
   "outputs": [
    {
     "data": {
      "text/plain": [
       "'python'"
      ]
     },
     "execution_count": 24,
     "metadata": {},
     "output_type": "execute_result"
    }
   ],
   "source": [
    "s1='python'\n",
    "s2=''\n",
    "for i in s1:\n",
    "    s2=s2+i #concatenation\n",
    "s2"
   ]
  },
  {
   "cell_type": "markdown",
   "id": "031f5476-e64d-4b4d-8812-de4c0dc0ae34",
   "metadata": {},
   "source": [
    "**concatination**"
   ]
  },
  {
   "cell_type": "code",
   "execution_count": 32,
   "id": "e3e20970-0d62-496a-9e0d-de9d8ecc843f",
   "metadata": {},
   "outputs": [
    {
     "data": {
      "text/plain": [
       "'hellobye'"
      ]
     },
     "execution_count": 32,
     "metadata": {},
     "output_type": "execute_result"
    }
   ],
   "source": [
    "s1='hello'\n",
    "s2='bye'\n",
    "s1+s2"
   ]
  },
  {
   "cell_type": "code",
   "execution_count": 34,
   "id": "dad1cd61-8cbc-49b4-9d50-06b250bfb3e9",
   "metadata": {},
   "outputs": [
    {
     "data": {
      "text/plain": [
       "'hello    bye'"
      ]
     },
     "execution_count": 34,
     "metadata": {},
     "output_type": "execute_result"
    }
   ],
   "source": [
    "s1='hello'\n",
    "s2='    '\n",
    "s3='bye'\n",
    "s4=s1+s2+s3\n",
    "\n",
    "s4"
   ]
  },
  {
   "cell_type": "code",
   "execution_count": 35,
   "id": "ff69a932-bc57-4219-89df-a76d259160be",
   "metadata": {},
   "outputs": [
    {
     "ename": "TypeError",
     "evalue": "can't multiply sequence by non-int of type 'str'",
     "output_type": "error",
     "traceback": [
      "\u001b[1;31m---------------------------------------------------------------------------\u001b[0m",
      "\u001b[1;31mTypeError\u001b[0m                                 Traceback (most recent call last)",
      "Cell \u001b[1;32mIn[35], line 1\u001b[0m\n\u001b[1;32m----> 1\u001b[0m s1\u001b[38;5;241m*\u001b[39ms3\n",
      "\u001b[1;31mTypeError\u001b[0m: can't multiply sequence by non-int of type 'str'"
     ]
    }
   ],
   "source": [
    "\n",
    "s1*s3"
   ]
  },
  {
   "cell_type": "code",
   "execution_count": 36,
   "id": "2faa881c-9764-4162-aae9-d22fb7eec43c",
   "metadata": {},
   "outputs": [
    {
     "ename": "TypeError",
     "evalue": "unsupported operand type(s) for /: 'str' and 'str'",
     "output_type": "error",
     "traceback": [
      "\u001b[1;31m---------------------------------------------------------------------------\u001b[0m",
      "\u001b[1;31mTypeError\u001b[0m                                 Traceback (most recent call last)",
      "Cell \u001b[1;32mIn[36], line 1\u001b[0m\n\u001b[1;32m----> 1\u001b[0m s1\u001b[38;5;241m/\u001b[39ms3\n",
      "\u001b[1;31mTypeError\u001b[0m: unsupported operand type(s) for /: 'str' and 'str'"
     ]
    }
   ],
   "source": [
    "s1/s3"
   ]
  },
  {
   "cell_type": "code",
   "execution_count": 37,
   "id": "7545c781-4102-409a-b8c4-39d654414a44",
   "metadata": {},
   "outputs": [
    {
     "data": {
      "text/plain": [
       "'hellohello'"
      ]
     },
     "execution_count": 37,
     "metadata": {},
     "output_type": "execute_result"
    }
   ],
   "source": [
    "s1='hello'\n",
    "s2=2\n",
    "s1*s2"
   ]
  },
  {
   "cell_type": "code",
   "execution_count": 38,
   "id": "8f854a73-5007-4af4-ab47-2aca6f99b630",
   "metadata": {},
   "outputs": [
    {
     "ename": "TypeError",
     "evalue": "can only concatenate str (not \"int\") to str",
     "output_type": "error",
     "traceback": [
      "\u001b[1;31m---------------------------------------------------------------------------\u001b[0m",
      "\u001b[1;31mTypeError\u001b[0m                                 Traceback (most recent call last)",
      "Cell \u001b[1;32mIn[38], line 3\u001b[0m\n\u001b[0;32m      1\u001b[0m s1\u001b[38;5;241m=\u001b[39m\u001b[38;5;124m'\u001b[39m\u001b[38;5;124mhello\u001b[39m\u001b[38;5;124m'\u001b[39m\n\u001b[0;32m      2\u001b[0m s2\u001b[38;5;241m=\u001b[39m\u001b[38;5;241m2\u001b[39m\n\u001b[1;32m----> 3\u001b[0m s1\u001b[38;5;241m+\u001b[39ms2\n",
      "\u001b[1;31mTypeError\u001b[0m: can only concatenate str (not \"int\") to str"
     ]
    }
   ],
   "source": [
    "s1='hello'\n",
    "s2=2\n",
    "s1+s2"
   ]
  },
  {
   "cell_type": "markdown",
   "id": "917169c0-f878-4e36-9064-66d9d91b46ff",
   "metadata": {},
   "source": [
    "**Index operations**\n",
    "- in python index meaning a number attached toa letter\n",
    "- in python index starts with zero\n",
    "- we have two directions\n",
    "- positive\n",
    "- and negative directions\n",
    "- positive directions starts with 0\n",
    "- negative direction starts with -1,applicable to last letter"
   ]
  },
  {
   "cell_type": "code",
   "execution_count": 2,
   "id": "c7a4b496-4885-4fde-9c4b-ff23dac9effc",
   "metadata": {},
   "outputs": [
    {
     "data": {
      "text/plain": [
       "'p'"
      ]
     },
     "execution_count": 2,
     "metadata": {},
     "output_type": "execute_result"
    }
   ],
   "source": [
    "s1='python'\n",
    "s1[0]"
   ]
  },
  {
   "cell_type": "code",
   "execution_count": 48,
   "id": "c495cb35-c20d-40f3-b6ab-25e2ef5ed72d",
   "metadata": {},
   "outputs": [
    {
     "data": {
      "text/plain": [
       "'py'"
      ]
     },
     "execution_count": 48,
     "metadata": {},
     "output_type": "execute_result"
    }
   ],
   "source": [
    "s1[:2]"
   ]
  },
  {
   "cell_type": "code",
   "execution_count": 52,
   "id": "87fe7ecf-2180-4490-913f-217addc54ec6",
   "metadata": {},
   "outputs": [
    {
     "data": {
      "text/plain": [
       "'pto'"
      ]
     },
     "execution_count": 52,
     "metadata": {},
     "output_type": "execute_result"
    }
   ],
   "source": [
    "s1[::2]"
   ]
  },
  {
   "cell_type": "code",
   "execution_count": 55,
   "id": "f5f2b5b7-d636-4adb-a03a-5ed6d895e12b",
   "metadata": {},
   "outputs": [
    {
     "data": {
      "text/plain": [
       "('n', 'o', 'h')"
      ]
     },
     "execution_count": 55,
     "metadata": {},
     "output_type": "execute_result"
    }
   ],
   "source": [
    "s1[-1],s1[-2],s1[-3]"
   ]
  },
  {
   "cell_type": "code",
   "execution_count": 58,
   "id": "d9aed325-e5ba-4b1d-b00e-ff5d0857d7f9",
   "metadata": {},
   "outputs": [
    {
     "data": {
      "text/plain": [
       "('n', 'o')"
      ]
     },
     "execution_count": 58,
     "metadata": {},
     "output_type": "execute_result"
    }
   ],
   "source": [
    "s1[5],s1[4]"
   ]
  },
  {
   "cell_type": "code",
   "execution_count": 59,
   "id": "c64817ce-3123-4b15-a9a6-bc3da3d19734",
   "metadata": {},
   "outputs": [
    {
     "data": {
      "text/plain": [
       "'python'"
      ]
     },
     "execution_count": 59,
     "metadata": {},
     "output_type": "execute_result"
    }
   ],
   "source": [
    "s1[::]"
   ]
  },
  {
   "cell_type": "code",
   "execution_count": 4,
   "id": "48dc4b90-5b3d-4ed2-a80d-112166b31c15",
   "metadata": {},
   "outputs": [
    {
     "data": {
      "text/plain": [
       "'1,4,7'"
      ]
     },
     "execution_count": 4,
     "metadata": {},
     "output_type": "execute_result"
    }
   ],
   "source": [
    "s1='1,2,3,4,5,6,7'\n",
    "s1[::3]"
   ]
  },
  {
   "cell_type": "code",
   "execution_count": 7,
   "id": "1551c120-6233-48e8-afc2-af02e4974655",
   "metadata": {},
   "outputs": [
    {
     "data": {
      "text/plain": [
       "'7,6,5,4,3,2,1'"
      ]
     },
     "execution_count": 7,
     "metadata": {},
     "output_type": "execute_result"
    }
   ],
   "source": [
    "s1[::-1]"
   ]
  },
  {
   "cell_type": "code",
   "execution_count": 9,
   "id": "0ac0a660-1309-4de2-82ad-691afbeb9672",
   "metadata": {},
   "outputs": [
    {
     "data": {
      "text/plain": [
       "'7,4,1'"
      ]
     },
     "execution_count": 9,
     "metadata": {},
     "output_type": "execute_result"
    }
   ],
   "source": [
    "s1[::-3]"
   ]
  },
  {
   "cell_type": "code",
   "execution_count": 11,
   "id": "3100ec0c-e7af-4d37-990e-cc2d8ea77b0e",
   "metadata": {},
   "outputs": [
    {
     "data": {
      "text/plain": [
       "'7'"
      ]
     },
     "execution_count": 11,
     "metadata": {},
     "output_type": "execute_result"
    }
   ],
   "source": [
    "s1[-1]"
   ]
  },
  {
   "cell_type": "markdown",
   "id": "f3b16738-288d-44e9-9ac2-08e5c22ba6bd",
   "metadata": {},
   "source": [
    "**mutlbe-immutable**\n",
    "- mutable : means it can chnange\n",
    "   - we can change using indexing\n",
    "- immutable :can not change\n",
    "   - we can not change using indexing"
   ]
  },
  {
   "cell_type": "code",
   "execution_count": 13,
   "id": "5cfb5dbd-9a5e-453b-8a38-d56148bb92d1",
   "metadata": {},
   "outputs": [
    {
     "ename": "TypeError",
     "evalue": "'str' object does not support item assignment",
     "output_type": "error",
     "traceback": [
      "\u001b[1;31m---------------------------------------------------------------------------\u001b[0m",
      "\u001b[1;31mTypeError\u001b[0m                                 Traceback (most recent call last)",
      "Cell \u001b[1;32mIn[13], line 2\u001b[0m\n\u001b[0;32m      1\u001b[0m s\u001b[38;5;241m=\u001b[39m\u001b[38;5;124m'\u001b[39m\u001b[38;5;124mwelcome\u001b[39m\u001b[38;5;124m'\u001b[39m\n\u001b[1;32m----> 2\u001b[0m s[\u001b[38;5;241m2\u001b[39m]\u001b[38;5;241m=\u001b[39m\u001b[38;5;124m'\u001b[39m\u001b[38;5;124mL\u001b[39m\u001b[38;5;124m'\u001b[39m\n",
      "\u001b[1;31mTypeError\u001b[0m: 'str' object does not support item assignment"
     ]
    }
   ],
   "source": [
    "s='welcome'\n",
    "s[2]='L'\n",
    "#strings are immutable"
   ]
  },
  {
   "cell_type": "code",
   "execution_count": 16,
   "id": "bacb40f1-4a54-4396-a694-c3b91e21d607",
   "metadata": {},
   "outputs": [
    {
     "data": {
      "text/plain": [
       "[1, 200, 3, 4]"
      ]
     },
     "execution_count": 16,
     "metadata": {},
     "output_type": "execute_result"
    }
   ],
   "source": [
    "l=[1,2,3,4]\n",
    "l[1]=200\n",
    "l\n",
    "#lists are mutable"
   ]
  },
  {
   "cell_type": "markdown",
   "id": "85581063-9645-4c77-8383-a43e09a65b32",
   "metadata": {},
   "source": [
    "- range belongs to which family\n",
    "   - Math family\n",
    "- inside range brackets what we need to provide\n",
    "   - number\n",
    "- how many numbers we need to provide\n",
    "   - number of letters : len(string)\n",
    "- how to access the letters using numbers\n",
    "   - by using index"
   ]
  },
  {
   "cell_type": "code",
   "execution_count": 19,
   "id": "8dfe37bb-018a-4967-b0e8-4026a0c0b85e",
   "metadata": {},
   "outputs": [
    {
     "name": "stdout",
     "output_type": "stream",
     "text": [
      "w\n",
      "e\n",
      "l\n",
      "c\n",
      "o\n",
      "m\n",
      "e\n"
     ]
    }
   ],
   "source": [
    "#4,print each letter using for loop range\n",
    "s='welcome'\n",
    "for i in range(7):\n",
    "    print(s[i])"
   ]
  },
  {
   "cell_type": "code",
   "execution_count": 22,
   "id": "bf52f206-404f-4727-9acd-0eb3ece616ab",
   "metadata": {},
   "outputs": [
    {
     "name": "stdout",
     "output_type": "stream",
     "text": [
      "w\n",
      "e\n",
      "l\n",
      "c\n",
      "o\n",
      "m\n",
      "e\n",
      " \n",
      "t\n",
      "o\n",
      " \n",
      "n\n",
      "a\n",
      "r\n",
      "e\n",
      "s\n",
      "h\n",
      " \n",
      "i\n",
      "t\n"
     ]
    }
   ],
   "source": [
    "s='welcome to naresh it'\n",
    "n=len(s)\n",
    "for i in range(n):\n",
    "    print(s[i])\n"
   ]
  },
  {
   "cell_type": "markdown",
   "id": "6899b87e-0c7e-412f-a043-7e90c90aeb8d",
   "metadata": {},
   "source": [
    "- **for-in** directly access the letter\n",
    "- **for-range** will access using index"
   ]
  },
  {
   "cell_type": "code",
   "execution_count": 23,
   "id": "3d743da5-7fce-42a1-a06d-f9d12ecb949d",
   "metadata": {},
   "outputs": [
    {
     "name": "stdout",
     "output_type": "stream",
     "text": [
      "n\n",
      "a\n",
      "r\n",
      "e\n",
      "s\n",
      "h\n"
     ]
    }
   ],
   "source": [
    "s='naresh'\n",
    "for i in (s):\n",
    "    print(i)"
   ]
  },
  {
   "cell_type": "code",
   "execution_count": 24,
   "id": "4ebaed5e-870c-4ae3-8e58-b000575fe959",
   "metadata": {},
   "outputs": [
    {
     "name": "stdout",
     "output_type": "stream",
     "text": [
      "n\n",
      "a\n",
      "r\n",
      "e\n",
      "s\n",
      "h\n"
     ]
    }
   ],
   "source": [
    "s='naresh'\n",
    "for i in range(6):\n",
    "    print(s[i])"
   ]
  },
  {
   "cell_type": "code",
   "execution_count": 35,
   "id": "69bb9294-f747-4854-82cb-b8765f389b43",
   "metadata": {},
   "outputs": [
    {
     "name": "stdout",
     "output_type": "stream",
     "text": [
      "the positive index w is 0\n",
      "the positive index e is 1\n",
      "the positive index l is 2\n",
      "the positive index c is 3\n",
      "the positive index o is 4\n",
      "the positive index m is 5\n",
      "the positive index e is 6\n"
     ]
    }
   ],
   "source": [
    "#5 wap ask the user itterate using a string \n",
    "# print the positive index of w is 0\n",
    "#       the positive index of e is 1\n",
    "#       the positive index ofl is 1\n",
    "l='welcome'\n",
    "for i in range(len(l)):\n",
    "    print(f\"the positive index {l[i]} is {i}\")"
   ]
  },
  {
   "cell_type": "code",
   "execution_count": 39,
   "id": "a2c8a154-81d9-4121-af7f-0f60700ee824",
   "metadata": {},
   "outputs": [
    {
     "name": "stdout",
     "output_type": "stream",
     "text": [
      "0 -7\n",
      "the negative index of w is -7\n",
      "1 -6\n",
      "the negative index of e is -6\n",
      "2 -5\n",
      "the negative index of l is -5\n",
      "3 -4\n",
      "the negative index of c is -4\n",
      "4 -3\n",
      "the negative index of o is -3\n",
      "5 -2\n",
      "the negative index of m is -2\n",
      "6 -1\n",
      "the negative index of e is -1\n"
     ]
    }
   ],
   "source": [
    "#6 wap ask the user itterate using a string \n",
    "# print the positive index of w is -7\n",
    "#       the positive index of e is -6\n",
    "#       the positive index ofl is -5\n",
    "s='welcome'\n",
    "for i in range(len(s)):\n",
    "    print(i,i-len(s))\n",
    "    print(f\"the negative index of {s[i]} is {i-len(s)}\")"
   ]
  },
  {
   "cell_type": "code",
   "execution_count": 40,
   "id": "98990116-62d7-4a16-9b52-ec33c1bfb49f",
   "metadata": {},
   "outputs": [
    {
     "name": "stdout",
     "output_type": "stream",
     "text": [
      "the negative index of w is -7\n",
      "the negative index of e is -6\n",
      "the negative index of l is -5\n",
      "the negative index of c is -4\n",
      "the negative index of o is -3\n",
      "the negative index of m is -2\n",
      "the negative index of e is -1\n"
     ]
    }
   ],
   "source": [
    "s='welcome'\n",
    "for i in range(len(s)):\n",
    "    print(f\"the negative index of {s[i]} is {i-len(s)}\")"
   ]
  },
  {
   "cell_type": "code",
   "execution_count": 54,
   "id": "84842a9d-c3ff-4535-9cb0-b5f55f3debdd",
   "metadata": {},
   "outputs": [
    {
     "name": "stdout",
     "output_type": "stream",
     "text": [
      "1\n",
      "8\n",
      "18\n"
     ]
    }
   ],
   "source": [
    "#8 wap ask the user get index of each 'a' in a given string\n",
    "#s='hai how are you i am good'\n",
    "s='hai how are you i am good'\n",
    "for i in range(len(s)):\n",
    "    if s[i]=='a':\n",
    "        print(i)\n"
   ]
  },
  {
   "cell_type": "code",
   "execution_count": 61,
   "id": "144ddbce-ddab-4cfe-ac83-50cccaf8822a",
   "metadata": {},
   "outputs": [
    {
     "name": "stdout",
     "output_type": "stream",
     "text": [
      "3\n"
     ]
    }
   ],
   "source": [
    "#9\n",
    "s='hai how are you i am good'\n",
    "count=0\n",
    "for i in range(len(s)):\n",
    "    if s[i]=='a':\n",
    "        count=count+1\n",
    "print(count)"
   ]
  },
  {
   "cell_type": "code",
   "execution_count": 62,
   "id": "ecd560b5-84ad-420e-baff-a42c5e257e5e",
   "metadata": {},
   "outputs": [
    {
     "name": "stdout",
     "output_type": "stream",
     "text": [
      "27\n"
     ]
    }
   ],
   "source": [
    "#10\n",
    "s='hai how are you i am good'\n",
    "summ=0\n",
    "#count=0\n",
    "for i in range(len(s)):\n",
    "    if s[i]=='a':\n",
    "        #count=count+1\n",
    "        summ=summ+i\n",
    "print(summ)"
   ]
  },
  {
   "cell_type": "code",
   "execution_count": 65,
   "id": "332b9ffc-dec5-406d-9c1d-17b68456dd9a",
   "metadata": {},
   "outputs": [
    {
     "name": "stdout",
     "output_type": "stream",
     "text": [
      "a\n",
      "i\n",
      "o\n",
      "a\n",
      "e\n",
      "o\n",
      "u\n",
      "i\n",
      "a\n",
      "o\n",
      "o\n",
      "the number of vowels are 11\n"
     ]
    }
   ],
   "source": [
    "#11\n",
    "s='hai how are you i am good'\n",
    "count=0\n",
    "for i in range(len(s)):\n",
    "    if s[i] in 'aeiou':\n",
    "        print(s[i])\n",
    "        count=count+1\n",
    "print(f\"the number of vowels are {count}\")\n"
   ]
  },
  {
   "cell_type": "code",
   "execution_count": 69,
   "id": "1f1ff324-7c71-4bb5-a94d-77ca40f82194",
   "metadata": {},
   "outputs": [
    {
     "name": "stdout",
     "output_type": "stream",
     "text": [
      "a\n",
      "i\n",
      "o\n",
      "e\n",
      "u\n",
      "5\n"
     ]
    }
   ],
   "source": [
    "#12\n",
    "s='hai how are you i am good'\n",
    "count=0\n",
    "s1=' '\n",
    "for i in range(len(s)):\n",
    "    if s[i] not in s1:\n",
    "        if s[i] in 'aeiou':\n",
    "            print(s[i])\n",
    "            s1=s1+s[i]\n",
    "            count=count+1\n",
    "print(count)"
   ]
  },
  {
   "cell_type": "code",
   "execution_count": 68,
   "id": "164d890d-8cb9-49c1-95e6-2245e500ec2d",
   "metadata": {},
   "outputs": [
    {
     "name": "stdout",
     "output_type": "stream",
     "text": [
      "a\n",
      "i\n",
      "o\n",
      "e\n",
      "u\n",
      "5\n"
     ]
    }
   ],
   "source": [
    "#13\n",
    "s='hai how are you i am good'\n",
    "count=0\n",
    "s1=' '\n",
    "for i in range(len(s)):\n",
    "    if s[i] not in s1 and s[i] in 'aeiou':\n",
    "        print(s[i])\n",
    "        s1=s1+s[i]\n",
    "        count=count+1\n",
    "print(count)"
   ]
  },
  {
   "cell_type": "code",
   "execution_count": 8,
   "id": "951a43b6-ff9c-4825-a53d-879b12eaebd4",
   "metadata": {},
   "outputs": [
    {
     "name": "stdout",
     "output_type": "stream",
     "text": [
      "the number of ola in the given string are 3\n"
     ]
    }
   ],
   "source": [
    "#14 the string='ola ola ola'\n",
    "#number of ola = 3\n",
    "s='ola ola ola'\n",
    "count=s.count('ola')\n",
    "print(f\"the number of ola in the given string are {count}\")\n",
    "    "
   ]
  },
  {
   "cell_type": "code",
   "execution_count": null,
   "id": "e597844a-ccf6-4378-9896-1fd74734919b",
   "metadata": {},
   "outputs": [],
   "source": [
    "#15 string='hello hello hello how how how how are you'\n",
    "# what is the most repeated word : how\n",
    "\n",
    "#16 str='helloooo how are you'\n",
    "#what is the max length of word helloooo\n",
    "#what is the min length of word is you\n",
    "\n",
    "#17 with out using sorted then sort the letters"
   ]
  },
  {
   "cell_type": "code",
   "execution_count": 4,
   "id": "60179c4f-d65c-42eb-aadd-49e94dfe2b21",
   "metadata": {},
   "outputs": [
    {
     "name": "stdout",
     "output_type": "stream",
     "text": [
      "Number of 'ola' occurrences: 3\n"
     ]
    }
   ],
   "source": [
    "#15 string='hello hello hello how how how how are you'\n",
    "# what is the most repeated word : how\n",
    "string='hello hello hello how how how how are you'\n"
   ]
  },
  {
   "cell_type": "code",
   "execution_count": 6,
   "id": "1b940dba-f7a3-48d1-bf32-2fd15641b967",
   "metadata": {},
   "outputs": [
    {
     "name": "stdout",
     "output_type": "stream",
     "text": [
      "3\n"
     ]
    }
   ],
   "source": [
    "s='ola ola ola'\n",
    "count=s.count('ola')\n",
    "print(count)"
   ]
  },
  {
   "cell_type": "markdown",
   "id": "b7785a0b-c89a-4aa2-8ba4-c431d46f3158",
   "metadata": {},
   "source": [
    "**slice**"
   ]
  },
  {
   "cell_type": "markdown",
   "id": "32f6ac67-ee86-4155-a1ff-fe5f3662068f",
   "metadata": {},
   "source": [
    "- we can cut into pieces\n",
    "- similar to range concept\n",
    "- start stop step here also"
   ]
  },
  {
   "cell_type": "code",
   "execution_count": null,
   "id": "28c1db1f-c958-4aec-a2fb-f7e96a0d83c9",
   "metadata": {},
   "outputs": [],
   "source": [
    "str1='hai how are you'"
   ]
  },
  {
   "cell_type": "code",
   "execution_count": null,
   "id": "892383ba-eca7-42ec-9216-e0ef7db626cb",
   "metadata": {},
   "outputs": [],
   "source": [
    "-15 -14 -13 -12 -11 -10 -9 -8 -7 -6 -5 -4 -3 -2 -1\n",
    " h   a   i       h   o   w     a  r  e     y  o  u\n",
    " 0   1   2   3   4   5   6  7  8  9  10 11 12 13 14 "
   ]
  },
  {
   "cell_type": "code",
   "execution_count": null,
   "id": "b52c4db7-0928-449a-9e30-e58a0b6bbb4f",
   "metadata": {},
   "outputs": [],
   "source": [
    "str1[start:stop:step]\n"
   ]
  },
  {
   "cell_type": "markdown",
   "id": "17bc070e-f7d6-4958-89e8-d2c516f4659d",
   "metadata": {},
   "source": [
    "$pattern-1 $\n",
    "\n",
    "**str1[start:]**\n",
    "- by default start value=start only\n",
    "- last value = last only\n",
    "- step nothing mentioned means it is positive direction and increment by 1"
   ]
  },
  {
   "cell_type": "code",
   "execution_count": 2,
   "id": "521e59c2-02d3-42ea-8d9f-27925accc83d",
   "metadata": {},
   "outputs": [
    {
     "data": {
      "text/plain": [
       "'ow are you'"
      ]
     },
     "execution_count": 2,
     "metadata": {},
     "output_type": "execute_result"
    }
   ],
   "source": [
    "str1='hai how are you'\n",
    "str1[5:]"
   ]
  },
  {
   "cell_type": "code",
   "execution_count": 3,
   "id": "7f924b12-0345-4220-b5d3-22b003417ee1",
   "metadata": {},
   "outputs": [
    {
     "data": {
      "text/plain": [
       "'w are you'"
      ]
     },
     "execution_count": 3,
     "metadata": {},
     "output_type": "execute_result"
    }
   ],
   "source": [
    "str1[6:]"
   ]
  },
  {
   "cell_type": "code",
   "execution_count": 4,
   "id": "f7aa65d9-bba4-455f-bb19-14fe3bbdf958",
   "metadata": {},
   "outputs": [
    {
     "data": {
      "text/plain": [
       "'ai how are you'"
      ]
     },
     "execution_count": 4,
     "metadata": {},
     "output_type": "execute_result"
    }
   ],
   "source": [
    "str1[1:]\n"
   ]
  },
  {
   "cell_type": "code",
   "execution_count": 5,
   "id": "6c8578c8-5663-49b4-88a0-639e51858b33",
   "metadata": {},
   "outputs": [
    {
     "data": {
      "text/plain": [
       "'i how ar'"
      ]
     },
     "execution_count": 5,
     "metadata": {},
     "output_type": "execute_result"
    }
   ],
   "source": [
    "str1[2:10]"
   ]
  },
  {
   "cell_type": "code",
   "execution_count": 6,
   "id": "65de4944-2662-4a64-9318-ce1c9086fa63",
   "metadata": {},
   "outputs": [
    {
     "data": {
      "text/plain": [
       "'e you'"
      ]
     },
     "execution_count": 6,
     "metadata": {},
     "output_type": "execute_result"
    }
   ],
   "source": [
    "str1[-5:]"
   ]
  },
  {
   "cell_type": "code",
   "execution_count": null,
   "id": "3f3666ac-fc0c-4e05-93e0-614a70fa03a6",
   "metadata": {},
   "outputs": [],
   "source": [
    "-15 -14 -13 -12 -11 -10 -9 -8 -7 -6 -5 -4 -3 -2 -1\n",
    " h   a   i       h   o   w     a  r  e     y  o  u\n",
    " 0   1   2   3   4   5   6  7  8  9  10 11 12 13 14 "
   ]
  },
  {
   "cell_type": "code",
   "execution_count": 7,
   "id": "5fcf681a-6561-4940-91fa-8cea58fcdc8c",
   "metadata": {},
   "outputs": [
    {
     "data": {
      "text/plain": [
       "'o'"
      ]
     },
     "execution_count": 7,
     "metadata": {},
     "output_type": "execute_result"
    }
   ],
   "source": [
    "str1[13]"
   ]
  },
  {
   "cell_type": "code",
   "execution_count": null,
   "id": "0df1a028-790b-4960-926a-e692365cf126",
   "metadata": {},
   "outputs": [],
   "source": [
    "$pattern-2$\n",
    "\n",
    "str1[start:stop]\n",
    "- start value mean by default start only\n",
    "- step is not mentioned means positive direction\n",
    "- last=stop-1"
   ]
  },
  {
   "cell_type": "code",
   "execution_count": 10,
   "id": "ddc1731b-d10c-4977-aef6-640cf67f680c",
   "metadata": {},
   "outputs": [
    {
     "data": {
      "text/plain": [
       "' are yo'"
      ]
     },
     "execution_count": 10,
     "metadata": {},
     "output_type": "execute_result"
    }
   ],
   "source": [
    "str1[7:14]"
   ]
  },
  {
   "cell_type": "code",
   "execution_count": 11,
   "id": "d19283d3-19fe-4069-830a-d37e8e931926",
   "metadata": {},
   "outputs": [
    {
     "data": {
      "text/plain": [
       "'w are you'"
      ]
     },
     "execution_count": 11,
     "metadata": {},
     "output_type": "execute_result"
    }
   ],
   "source": [
    "str1[6:15]"
   ]
  },
  {
   "cell_type": "code",
   "execution_count": 14,
   "id": "5e0e2816-89e7-4d2d-80e6-ee569adf7e90",
   "metadata": {},
   "outputs": [
    {
     "data": {
      "text/plain": [
       "'e yo'"
      ]
     },
     "execution_count": 14,
     "metadata": {},
     "output_type": "execute_result"
    }
   ],
   "source": [
    "str1[-5:14]"
   ]
  },
  {
   "cell_type": "code",
   "execution_count": 15,
   "id": "89f99e3a-b614-4c00-8bdc-a637fc605e7f",
   "metadata": {},
   "outputs": [
    {
     "data": {
      "text/plain": [
       "'how are'"
      ]
     },
     "execution_count": 15,
     "metadata": {},
     "output_type": "execute_result"
    }
   ],
   "source": [
    "str1[4:-4]"
   ]
  },
  {
   "cell_type": "code",
   "execution_count": 16,
   "id": "7b999a4c-a51d-498a-b732-5ab2cd899fe4",
   "metadata": {},
   "outputs": [
    {
     "data": {
      "text/plain": [
       "'ow ar'"
      ]
     },
     "execution_count": 16,
     "metadata": {},
     "output_type": "execute_result"
    }
   ],
   "source": [
    "str1[5:-5]"
   ]
  },
  {
   "cell_type": "code",
   "execution_count": 20,
   "id": "19c13199-6863-4297-b1d7-a3eea65acf83",
   "metadata": {},
   "outputs": [
    {
     "data": {
      "text/plain": [
       "'era woh i'"
      ]
     },
     "execution_count": 20,
     "metadata": {},
     "output_type": "execute_result"
    }
   ],
   "source": [
    "str1[-5:-14:-1]"
   ]
  },
  {
   "cell_type": "code",
   "execution_count": 18,
   "id": "a5459184-e585-49a9-b7b8-90163a3f0bc6",
   "metadata": {},
   "outputs": [
    {
     "data": {
      "text/plain": [
       "'ow are yo'"
      ]
     },
     "execution_count": 18,
     "metadata": {},
     "output_type": "execute_result"
    }
   ],
   "source": [
    "str1[5:14]"
   ]
  },
  {
   "cell_type": "code",
   "execution_count": 19,
   "id": "eae156d3-8fc3-4fea-8ae1-656df1f49678",
   "metadata": {},
   "outputs": [
    {
     "data": {
      "text/plain": [
       "''"
      ]
     },
     "execution_count": 19,
     "metadata": {},
     "output_type": "execute_result"
    }
   ],
   "source": [
    "str1[5:-14]"
   ]
  },
  {
   "cell_type": "markdown",
   "id": "81a13324-2d14-4d14-8785-83a4f034465f",
   "metadata": {},
   "source": [
    "**truncation Behaviour**\n",
    "- when ever the string range is limited, but we provided unlimited number\n",
    "- then string will consider till the range we have\n",
    "- thats why in the above example our range only 15 letters\n",
    "- we provided 500,then 500 will truncate to till 15 letters only"
   ]
  },
  {
   "cell_type": "code",
   "execution_count": 21,
   "id": "7c20a4a2-2bf4-41ea-b7df-469213587291",
   "metadata": {},
   "outputs": [
    {
     "data": {
      "text/plain": [
       "'ow are you'"
      ]
     },
     "execution_count": 21,
     "metadata": {},
     "output_type": "execute_result"
    }
   ],
   "source": [
    "str1[5:500]"
   ]
  },
  {
   "cell_type": "code",
   "execution_count": 22,
   "id": "5158f62a-5ffd-4f09-a8bd-fe1f915135bf",
   "metadata": {},
   "outputs": [
    {
     "data": {
      "text/plain": [
       "'e you'"
      ]
     },
     "execution_count": 22,
     "metadata": {},
     "output_type": "execute_result"
    }
   ],
   "source": [
    "str1[-5:100]"
   ]
  },
  {
   "cell_type": "code",
   "execution_count": 23,
   "id": "5d17cd70-581f-4580-9166-28c33f4dfa19",
   "metadata": {},
   "outputs": [
    {
     "data": {
      "text/plain": [
       "'hai how are you'"
      ]
     },
     "execution_count": 23,
     "metadata": {},
     "output_type": "execute_result"
    }
   ],
   "source": [
    "str1[-500:500]"
   ]
  },
  {
   "cell_type": "code",
   "execution_count": 24,
   "id": "539bb096-2a8b-4d76-a2b6-10850e81d558",
   "metadata": {},
   "outputs": [
    {
     "data": {
      "text/plain": [
       "'u'"
      ]
     },
     "execution_count": 24,
     "metadata": {},
     "output_type": "execute_result"
    }
   ],
   "source": [
    "str1[-1:500]"
   ]
  },
  {
   "cell_type": "code",
   "execution_count": 26,
   "id": "cb3c1762-67db-407f-a648-a15055df3da0",
   "metadata": {},
   "outputs": [
    {
     "data": {
      "text/plain": [
       "''"
      ]
     },
     "execution_count": 26,
     "metadata": {},
     "output_type": "execute_result"
    }
   ],
   "source": [
    "str1[500:] #not works"
   ]
  },
  {
   "cell_type": "code",
   "execution_count": 28,
   "id": "fec2432e-ee7f-4666-95b9-ccaee0972a52",
   "metadata": {},
   "outputs": [
    {
     "data": {
      "text/plain": [
       "'hai how are you'"
      ]
     },
     "execution_count": 28,
     "metadata": {},
     "output_type": "execute_result"
    }
   ],
   "source": [
    "str1[-500:]"
   ]
  },
  {
   "cell_type": "code",
   "execution_count": 30,
   "id": "d3147218-cb6b-498d-af15-8ad177bb3424",
   "metadata": {},
   "outputs": [
    {
     "data": {
      "text/plain": [
       "'e'"
      ]
     },
     "execution_count": 30,
     "metadata": {},
     "output_type": "execute_result"
    }
   ],
   "source": [
    "str1[-5]"
   ]
  },
  {
   "cell_type": "code",
   "execution_count": null,
   "id": "590e5014-d34c-41f4-afff-855933542592",
   "metadata": {},
   "outputs": [],
   "source": [
    "$pattern-3$\n",
    "**str1[start:stop:step]**\n",
    "- start value means start only\n",
    "- if step value positive \n",
    "- the last value = stop -1 \n",
    "- if step vale negative \n",
    "- last value= stop+1"
   ]
  },
  {
   "cell_type": "code",
   "execution_count": 3,
   "id": "d426ca76-c7e9-4ebc-859d-495b81074cb3",
   "metadata": {},
   "outputs": [
    {
     "data": {
      "text/plain": [
       "15"
      ]
     },
     "execution_count": 3,
     "metadata": {},
     "output_type": "execute_result"
    }
   ],
   "source": [
    "len(str1)"
   ]
  },
  {
   "cell_type": "code",
   "execution_count": null,
   "id": "b82a8a94-d86c-49e9-9306-b2b711dee213",
   "metadata": {},
   "outputs": [],
   "source": [
    "-15 -14 -13 -12 -11 -10 -9 -8 -7 -6 -5 -4 -3 -2 -1\n",
    " h   a   i       h   o   w     a  r  e     y  o  u\n",
    " 0   1   2   3   4   5   6  7  8  9  10 11 12 13 14 \n"
   ]
  },
  {
   "cell_type": "code",
   "execution_count": 5,
   "id": "7707e332-11c3-4d95-aa19-5ae7123c03ea",
   "metadata": {},
   "outputs": [
    {
     "data": {
      "text/plain": [
       "'ihwaey'"
      ]
     },
     "execution_count": 5,
     "metadata": {},
     "output_type": "execute_result"
    }
   ],
   "source": [
    "str1[2:13:2]"
   ]
  },
  {
   "cell_type": "code",
   "execution_count": 6,
   "id": "c823f5e9-900d-4130-b7c1-f4f9aae1fbe1",
   "metadata": {},
   "outputs": [
    {
     "data": {
      "text/plain": [
       "''"
      ]
     },
     "execution_count": 6,
     "metadata": {},
     "output_type": "execute_result"
    }
   ],
   "source": [
    "str1[2:13:-2]"
   ]
  },
  {
   "cell_type": "code",
   "execution_count": 7,
   "id": "37487767-e7fb-4968-84a2-62b870b587f6",
   "metadata": {},
   "outputs": [
    {
     "data": {
      "text/plain": [
       "''"
      ]
     },
     "execution_count": 7,
     "metadata": {},
     "output_type": "execute_result"
    }
   ],
   "source": [
    "str1[2:-13:3]"
   ]
  },
  {
   "cell_type": "code",
   "execution_count": 8,
   "id": "cf41a3bc-c1b9-4bb5-be24-ae18757ffdcf",
   "metadata": {},
   "outputs": [
    {
     "data": {
      "text/plain": [
       "''"
      ]
     },
     "execution_count": 8,
     "metadata": {},
     "output_type": "execute_result"
    }
   ],
   "source": [
    "str1[2:-13:-2]"
   ]
  },
  {
   "cell_type": "code",
   "execution_count": 9,
   "id": "394eeeaf-f830-40af-8e3b-3ea9b0b08bae",
   "metadata": {},
   "outputs": [
    {
     "data": {
      "text/plain": [
       "''"
      ]
     },
     "execution_count": 9,
     "metadata": {},
     "output_type": "execute_result"
    }
   ],
   "source": [
    "str1[-2:13:2]"
   ]
  },
  {
   "cell_type": "code",
   "execution_count": 10,
   "id": "9f3cce45-6d39-48b6-b449-74ef8a991176",
   "metadata": {},
   "outputs": [
    {
     "data": {
      "text/plain": [
       "''"
      ]
     },
     "execution_count": 10,
     "metadata": {},
     "output_type": "execute_result"
    }
   ],
   "source": [
    "str1[-13:2:2]"
   ]
  },
  {
   "cell_type": "code",
   "execution_count": 11,
   "id": "d29b6a09-cc9a-49cb-aef0-42a282df8b65",
   "metadata": {},
   "outputs": [
    {
     "data": {
      "text/plain": [
       "''"
      ]
     },
     "execution_count": 11,
     "metadata": {},
     "output_type": "execute_result"
    }
   ],
   "source": [
    "str1[-13:2:-2]"
   ]
  },
  {
   "cell_type": "code",
   "execution_count": 12,
   "id": "318332ea-77e1-4ad4-85a0-e0096a540fd4",
   "metadata": {},
   "outputs": [
    {
     "data": {
      "text/plain": [
       "''"
      ]
     },
     "execution_count": 12,
     "metadata": {},
     "output_type": "execute_result"
    }
   ],
   "source": [
    "str1[2:-13]"
   ]
  },
  {
   "cell_type": "code",
   "execution_count": 13,
   "id": "c9af2ba5-693b-4eb5-bc7d-612c0f47cd02",
   "metadata": {},
   "outputs": [
    {
     "data": {
      "text/plain": [
       "''"
      ]
     },
     "execution_count": 13,
     "metadata": {},
     "output_type": "execute_result"
    }
   ],
   "source": [
    "str1[-2:13]"
   ]
  },
  {
   "cell_type": "code",
   "execution_count": 14,
   "id": "47ef8896-cdbd-449a-a385-f93ad8e256ce",
   "metadata": {},
   "outputs": [
    {
     "data": {
      "text/plain": [
       "'hai how are you'"
      ]
     },
     "execution_count": 14,
     "metadata": {},
     "output_type": "execute_result"
    }
   ],
   "source": [
    "str1[:]"
   ]
  },
  {
   "cell_type": "code",
   "execution_count": 15,
   "id": "8fd0b0fb-e211-4b5a-8aee-6fe4e2f3f80c",
   "metadata": {},
   "outputs": [
    {
     "data": {
      "text/plain": [
       "'hai how are you'"
      ]
     },
     "execution_count": 15,
     "metadata": {},
     "output_type": "execute_result"
    }
   ],
   "source": [
    "str1[::]"
   ]
  },
  {
   "cell_type": "code",
   "execution_count": 17,
   "id": "c9931544-b69e-40ab-9062-e91a94293231",
   "metadata": {},
   "outputs": [
    {
     "data": {
      "text/plain": [
       "'uoy era woh iah'"
      ]
     },
     "execution_count": 17,
     "metadata": {},
     "output_type": "execute_result"
    }
   ],
   "source": [
    "str1[::-1]"
   ]
  },
  {
   "cell_type": "code",
   "execution_count": 18,
   "id": "4783734b-8535-424c-af30-e15076e68a11",
   "metadata": {},
   "outputs": [
    {
     "data": {
      "text/plain": [
       "'uyeaw'"
      ]
     },
     "execution_count": 18,
     "metadata": {},
     "output_type": "execute_result"
    }
   ],
   "source": [
    "str1[:5:-2]"
   ]
  },
  {
   "cell_type": "markdown",
   "id": "406a26ca-e8dc-4fe1-b1cf-9e9155e3aefa",
   "metadata": {},
   "source": [
    "**Methods**\n",
    "\n",
    "- strings lists tuple dictionary every data types has it own methods\n",
    "- we already seen that packages ha different method\n",
    "- for example random package : randint method\n",
    "- math package : sqrt\n",
    "- in the same way strings also have methods\n",
    "- in order to identify the methods for the packages\n",
    "- we are importing the package\n",
    "- we are applying the directory\n",
    "- in the similar way in order to see the methods of string,we need to apply dir only"
   ]
  },
  {
   "cell_type": "code",
   "execution_count": 20,
   "id": "e94d8854-2e74-4964-a1a6-b06d76f5240e",
   "metadata": {},
   "outputs": [
    {
     "data": {
      "text/plain": [
       "['__add__',\n",
       " '__class__',\n",
       " '__contains__',\n",
       " '__delattr__',\n",
       " '__dir__',\n",
       " '__doc__',\n",
       " '__eq__',\n",
       " '__format__',\n",
       " '__ge__',\n",
       " '__getattribute__',\n",
       " '__getitem__',\n",
       " '__getnewargs__',\n",
       " '__getstate__',\n",
       " '__gt__',\n",
       " '__hash__',\n",
       " '__init__',\n",
       " '__init_subclass__',\n",
       " '__iter__',\n",
       " '__le__',\n",
       " '__len__',\n",
       " '__lt__',\n",
       " '__mod__',\n",
       " '__mul__',\n",
       " '__ne__',\n",
       " '__new__',\n",
       " '__reduce__',\n",
       " '__reduce_ex__',\n",
       " '__repr__',\n",
       " '__rmod__',\n",
       " '__rmul__',\n",
       " '__setattr__',\n",
       " '__sizeof__',\n",
       " '__str__',\n",
       " '__subclasshook__',\n",
       " 'capitalize',\n",
       " 'casefold',\n",
       " 'center',\n",
       " 'count',\n",
       " 'encode',\n",
       " 'endswith',\n",
       " 'expandtabs',\n",
       " 'find',\n",
       " 'format',\n",
       " 'format_map',\n",
       " 'index',\n",
       " 'isalnum',\n",
       " 'isalpha',\n",
       " 'isascii',\n",
       " 'isdecimal',\n",
       " 'isdigit',\n",
       " 'isidentifier',\n",
       " 'islower',\n",
       " 'isnumeric',\n",
       " 'isprintable',\n",
       " 'isspace',\n",
       " 'istitle',\n",
       " 'isupper',\n",
       " 'join',\n",
       " 'ljust',\n",
       " 'lower',\n",
       " 'lstrip',\n",
       " 'maketrans',\n",
       " 'partition',\n",
       " 'removeprefix',\n",
       " 'removesuffix',\n",
       " 'replace',\n",
       " 'rfind',\n",
       " 'rindex',\n",
       " 'rjust',\n",
       " 'rpartition',\n",
       " 'rsplit',\n",
       " 'rstrip',\n",
       " 'split',\n",
       " 'splitlines',\n",
       " 'startswith',\n",
       " 'strip',\n",
       " 'swapcase',\n",
       " 'title',\n",
       " 'translate',\n",
       " 'upper',\n",
       " 'zfill']"
      ]
     },
     "execution_count": 20,
     "metadata": {},
     "output_type": "execute_result"
    }
   ],
   "source": [
    "dir('')  \n",
    "#dir('hai')\n",
    "#str='apple'\n",
    "#dir(str)"
   ]
  },
  {
   "cell_type": "markdown",
   "id": "c3fe6ea9-ef1c-44db-87fe-9a75e138d978",
   "metadata": {},
   "source": [
    "- lower\n",
    "- upper\n",
    "- capitalize\n",
    "- title\n",
    "- casefold\n",
    "- centre"
   ]
  },
  {
   "cell_type": "markdown",
   "id": "1554e091-18ea-4055-bc64-cf322350cef8",
   "metadata": {},
   "source": [
    "**upper**"
   ]
  },
  {
   "cell_type": "code",
   "execution_count": 1,
   "id": "fa367d60-16e4-4dc2-aa51-035e2127800e",
   "metadata": {},
   "outputs": [],
   "source": [
    "str='hai how are you'"
   ]
  },
  {
   "cell_type": "code",
   "execution_count": 22,
   "id": "d4523991-3f3b-43d8-b981-8c1b8ac8fed5",
   "metadata": {},
   "outputs": [
    {
     "name": "stdout",
     "output_type": "stream",
     "text": [
      "Help on built-in function upper:\n",
      "\n",
      "upper() method of builtins.str instance\n",
      "    Return a copy of the string converted to uppercase.\n",
      "\n"
     ]
    }
   ],
   "source": [
    "type(str)\n",
    "help(str.upper)"
   ]
  },
  {
   "cell_type": "code",
   "execution_count": 23,
   "id": "473d59d1-0b20-47e1-a2fd-14e3bc200691",
   "metadata": {},
   "outputs": [
    {
     "data": {
      "text/plain": [
       "'HAI HOW ARE YOU'"
      ]
     },
     "execution_count": 23,
     "metadata": {},
     "output_type": "execute_result"
    }
   ],
   "source": [
    "str.upper()\n"
   ]
  },
  {
   "cell_type": "code",
   "execution_count": 24,
   "id": "42bbe290-4f06-4fd3-ac93-6444f7c08e37",
   "metadata": {},
   "outputs": [
    {
     "data": {
      "text/plain": [
       "'hai how are you'"
      ]
     },
     "execution_count": 24,
     "metadata": {},
     "output_type": "execute_result"
    }
   ],
   "source": [
    "str.lower()"
   ]
  },
  {
   "cell_type": "code",
   "execution_count": 26,
   "id": "0a2e6049-693d-4873-8738-550449155f12",
   "metadata": {},
   "outputs": [
    {
     "data": {
      "text/plain": [
       "<function str.upper()>"
      ]
     },
     "execution_count": 26,
     "metadata": {},
     "output_type": "execute_result"
    }
   ],
   "source": [
    "str.upper #here error is brackets missing"
   ]
  },
  {
   "cell_type": "code",
   "execution_count": 27,
   "id": "9902f808-4e85-43e7-92af-70181d9bac3b",
   "metadata": {},
   "outputs": [
    {
     "data": {
      "text/plain": [
       "'hai how are you'"
      ]
     },
     "execution_count": 27,
     "metadata": {},
     "output_type": "execute_result"
    }
   ],
   "source": [
    "str.casefold()"
   ]
  },
  {
   "cell_type": "code",
   "execution_count": 35,
   "id": "cd76a1d6-83f1-4021-85ed-6efe86b986ad",
   "metadata": {},
   "outputs": [
    {
     "data": {
      "text/plain": [
       "'Hai How Are You'"
      ]
     },
     "execution_count": 35,
     "metadata": {},
     "output_type": "execute_result"
    }
   ],
   "source": [
    "str.title()"
   ]
  },
  {
   "cell_type": "code",
   "execution_count": 33,
   "id": "59654126-5b4f-484c-b34f-00b37c663909",
   "metadata": {},
   "outputs": [
    {
     "data": {
      "text/plain": [
       "'Hai how are you'"
      ]
     },
     "execution_count": 33,
     "metadata": {},
     "output_type": "execute_result"
    }
   ],
   "source": [
    "str.capitalize()"
   ]
  },
  {
   "cell_type": "code",
   "execution_count": 36,
   "id": "03d97133-ff5d-485c-80f2-cec24b27397c",
   "metadata": {},
   "outputs": [
    {
     "data": {
      "text/plain": [
       "'  hai how are you   '"
      ]
     },
     "execution_count": 36,
     "metadata": {},
     "output_type": "execute_result"
    }
   ],
   "source": [
    "str.center(20)"
   ]
  },
  {
   "cell_type": "markdown",
   "id": "b33c2af5-ce61-446b-80f8-052aceb32578",
   "metadata": {},
   "source": [
    "- center has two argument \n",
    "  - width\n",
    "  - fill char\n",
    "\n",
    "- original string alread : 15 letters\n",
    "- we want to create a new string with 20 leters\n",
    "- remanining 5 letters by default empty\n",
    "- we can fill with charecters also\n"
   ]
  },
  {
   "cell_type": "code",
   "execution_count": 5,
   "id": "960806f1-ff2d-4202-841a-3a62623b2d7d",
   "metadata": {},
   "outputs": [
    {
     "data": {
      "text/plain": [
       "'*****hai how are you******'"
      ]
     },
     "execution_count": 5,
     "metadata": {},
     "output_type": "execute_result"
    }
   ],
   "source": [
    "str.center(26,'*')"
   ]
  },
  {
   "cell_type": "code",
   "execution_count": 6,
   "id": "14ca1836-6ec1-4c84-a56a-32b2c6d7f363",
   "metadata": {},
   "outputs": [
    {
     "data": {
      "text/plain": [
       "'$$$$$$$hai how are you$$$$$$$$'"
      ]
     },
     "execution_count": 6,
     "metadata": {},
     "output_type": "execute_result"
    }
   ],
   "source": [
    "str.center(30,'$')"
   ]
  },
  {
   "cell_type": "code",
   "execution_count": 2,
   "id": "8dcb88d6-146b-4463-b3f7-29fdcea2b358",
   "metadata": {},
   "outputs": [
    {
     "data": {
      "text/plain": [
       "'2222222hai how are you22222222'"
      ]
     },
     "execution_count": 2,
     "metadata": {},
     "output_type": "execute_result"
    }
   ],
   "source": [
    "str.center(30,'2')"
   ]
  },
  {
   "cell_type": "code",
   "execution_count": 3,
   "id": "abe1f3ea-bd8f-42e1-9b93-cd358f707c71",
   "metadata": {},
   "outputs": [
    {
     "data": {
      "text/plain": [
       "'hai how are you'"
      ]
     },
     "execution_count": 3,
     "metadata": {},
     "output_type": "execute_result"
    }
   ],
   "source": [
    "str.center(10,'*')"
   ]
  },
  {
   "cell_type": "code",
   "execution_count": 9,
   "id": "d343dcdd-18a7-431c-9171-becf8bff42d0",
   "metadata": {},
   "outputs": [
    {
     "name": "stdin",
     "output_type": "stream",
     "text": [
      "enter binary number: 0b1001\n"
     ]
    },
    {
     "name": "stdout",
     "output_type": "stream",
     "text": [
      "decimal number is  9\n"
     ]
    }
   ],
   "source": [
    "n=input(\"enter binary number:\")\n",
    "print(\"decimal number is \",int(n,2))"
   ]
  },
  {
   "cell_type": "code",
   "execution_count": 11,
   "id": "30d592fb-3570-4920-b5c7-49ca028aa60c",
   "metadata": {},
   "outputs": [
    {
     "name": "stdout",
     "output_type": "stream",
     "text": [
      "binary number of 18 is 0b10010\n"
     ]
    }
   ],
   "source": [
    "n=18\n",
    "print(f\"binary number of {n} is {bin(n)}\")"
   ]
  },
  {
   "cell_type": "markdown",
   "id": "6d967231-bd90-4a76-9d1a-05e993af7a3b",
   "metadata": {},
   "source": [
    "**count**"
   ]
  },
  {
   "cell_type": "code",
   "execution_count": 4,
   "id": "f13abf08-e04d-4ac1-a073-60d94a6606a8",
   "metadata": {},
   "outputs": [],
   "source": [
    "str1='hai how are you'\n",
    "#how many a's are there"
   ]
  },
  {
   "cell_type": "code",
   "execution_count": 18,
   "id": "9917d8d7-bb76-4709-8b08-f63aa45ca357",
   "metadata": {},
   "outputs": [
    {
     "data": {
      "text/plain": [
       "2"
      ]
     },
     "execution_count": 18,
     "metadata": {},
     "output_type": "execute_result"
    }
   ],
   "source": [
    "str1.count('a')"
   ]
  },
  {
   "cell_type": "code",
   "execution_count": 19,
   "id": "4ed3bc85-a3f1-49af-ae30-ab2f7a347ad8",
   "metadata": {},
   "outputs": [
    {
     "data": {
      "text/plain": [
       "2"
      ]
     },
     "execution_count": 19,
     "metadata": {},
     "output_type": "execute_result"
    }
   ],
   "source": [
    "str1.count('h')"
   ]
  },
  {
   "cell_type": "code",
   "execution_count": null,
   "id": "6925959c-7135-4154-8826-940a13d00c68",
   "metadata": {},
   "outputs": [],
   "source": [
    "- we want number of a from a specific index\n",
    "- we want number of a between two indexes"
   ]
  },
  {
   "cell_type": "code",
   "execution_count": null,
   "id": "4da73d24-9d0c-4055-aceb-da28e978af07",
   "metadata": {},
   "outputs": [],
   "source": [
    "-15 -14 -13 -12 -11 -10 -9 -8 -7 -6 -5 -4 -3 -2 -1\n",
    " h   a   i       h   o   w     a  r  e     y  o  u\n",
    " 0   1   2   3   4   5   6  7  8  9  10 11 12 13 14 "
   ]
  },
  {
   "cell_type": "code",
   "execution_count": 26,
   "id": "e5652080-ffc3-4900-badf-3692ebd21eae",
   "metadata": {},
   "outputs": [
    {
     "data": {
      "text/plain": [
       "1"
      ]
     },
     "execution_count": 26,
     "metadata": {},
     "output_type": "execute_result"
    }
   ],
   "source": [
    "str1.count('a')\n",
    "str1.count('a',5)"
   ]
  },
  {
   "cell_type": "code",
   "execution_count": 28,
   "id": "4225681f-2bc0-49a8-90db-1f73ef9a9ade",
   "metadata": {},
   "outputs": [
    {
     "data": {
      "text/plain": [
       "2"
      ]
     },
     "execution_count": 28,
     "metadata": {},
     "output_type": "execute_result"
    }
   ],
   "source": [
    "str1.count('a',0,9)"
   ]
  },
  {
   "cell_type": "code",
   "execution_count": 29,
   "id": "0e5b62f1-b256-4d35-974c-2d02c83a71fb",
   "metadata": {},
   "outputs": [
    {
     "data": {
      "text/plain": [
       "2"
      ]
     },
     "execution_count": 29,
     "metadata": {},
     "output_type": "execute_result"
    }
   ],
   "source": [
    "str1.count('o',4,14)"
   ]
  },
  {
   "cell_type": "code",
   "execution_count": 32,
   "id": "4b8c7f93-1ff9-4e19-8076-7b54aa2b2362",
   "metadata": {},
   "outputs": [
    {
     "data": {
      "text/plain": [
       "0"
      ]
     },
     "execution_count": 32,
     "metadata": {},
     "output_type": "execute_result"
    }
   ],
   "source": [
    "str1.count('0',13,-11)"
   ]
  },
  {
   "cell_type": "code",
   "execution_count": 2,
   "id": "c146bb08-bb1e-48d8-8c20-269cf5015bfd",
   "metadata": {},
   "outputs": [
    {
     "data": {
      "text/plain": [
       "3"
      ]
     },
     "execution_count": 2,
     "metadata": {},
     "output_type": "execute_result"
    }
   ],
   "source": [
    "str2='ola ola ola'\n",
    "str2.count('ola')"
   ]
  },
  {
   "cell_type": "code",
   "execution_count": 5,
   "id": "003f8ed5-3416-41b9-b3ec-88bd138b0fed",
   "metadata": {},
   "outputs": [],
   "source": [
    "str2='ola ola ola'\n",
    "for i in str1:\n",
    "    if i=='ola':\n",
    "        print(i) #this will not work because here i takes the value from starting here starting is 'o' so it will not work\n"
   ]
  },
  {
   "cell_type": "markdown",
   "id": "fc32d9b1-0307-40ca-baf2-398255269b00",
   "metadata": {},
   "source": [
    "**Window Method**"
   ]
  },
  {
   "cell_type": "code",
   "execution_count": 6,
   "id": "61691cc3-c354-4ea8-9514-b232cd4c5817",
   "metadata": {},
   "outputs": [
    {
     "data": {
      "text/plain": [
       "3"
      ]
     },
     "execution_count": 6,
     "metadata": {},
     "output_type": "execute_result"
    }
   ],
   "source": [
    "str2='ola ola ola'\n",
    "count=0\n",
    "for i in range(len(str1)):\n",
    "    if str2[i:i+3]=='ola':\n",
    "        count=count+1\n",
    "count  "
   ]
  },
  {
   "cell_type": "code",
   "execution_count": 38,
   "id": "a80e1e78-b36b-4437-a46e-86f364e068df",
   "metadata": {},
   "outputs": [
    {
     "data": {
      "text/plain": [
       "3"
      ]
     },
     "execution_count": 38,
     "metadata": {},
     "output_type": "execute_result"
    }
   ],
   "source": [
    "str3='hai hai hai'\n",
    "count=0\n",
    "for i in range(len(str3)):\n",
    "    if str3[i:i+2]=='ha':\n",
    "        count=count+1\n",
    "count"
   ]
  },
  {
   "cell_type": "code",
   "execution_count": 39,
   "id": "4c60113c-e6ff-480e-8538-3baabac8ee92",
   "metadata": {},
   "outputs": [
    {
     "data": {
      "text/plain": [
       "1"
      ]
     },
     "execution_count": 39,
     "metadata": {},
     "output_type": "execute_result"
    }
   ],
   "source": [
    "str2='ola ola ola'\n",
    "str2.count(' ola ')"
   ]
  },
  {
   "cell_type": "code",
   "execution_count": 40,
   "id": "d9092cbd-b713-4f60-bc03-dbbb212238da",
   "metadata": {},
   "outputs": [
    {
     "data": {
      "text/plain": [
       "0"
      ]
     },
     "execution_count": 40,
     "metadata": {},
     "output_type": "execute_result"
    }
   ],
   "source": [
    "str2.count('z')"
   ]
  },
  {
   "cell_type": "markdown",
   "id": "f7b2a842-8c7d-4a99-b7c2-e8e8a8fc2aea",
   "metadata": {},
   "source": [
    "**Replace**"
   ]
  },
  {
   "cell_type": "code",
   "execution_count": null,
   "id": "95d8fb26-534f-4d0d-950f-093855499861",
   "metadata": {},
   "outputs": [],
   "source": [
    "str1='welcome'\n",
    "#i want to replace 'l' with 'L'"
   ]
  },
  {
   "cell_type": "code",
   "execution_count": 44,
   "id": "a744f11b-57ee-43fb-a0a1-b30efad4fb9c",
   "metadata": {},
   "outputs": [
    {
     "data": {
      "text/plain": [
       "'weLcome'"
      ]
     },
     "execution_count": 44,
     "metadata": {},
     "output_type": "execute_result"
    }
   ],
   "source": [
    "#we know that strings are immutable\n",
    "#we can not use index operations also\n",
    "#slice and concatination\n",
    "#divide welcome : we   come\n",
    "s1='we'\n",
    "s2='come'\n",
    "s1+'L'+s2"
   ]
  },
  {
   "cell_type": "code",
   "execution_count": 46,
   "id": "7dc23823-9a66-47f4-b9ba-b047a9196987",
   "metadata": {},
   "outputs": [
    {
     "data": {
      "text/plain": [
       "'weLcome'"
      ]
     },
     "execution_count": 46,
     "metadata": {},
     "output_type": "execute_result"
    }
   ],
   "source": [
    "str1='welcome'\n",
    "str1.replace('l','L')"
   ]
  },
  {
   "cell_type": "code",
   "execution_count": 48,
   "id": "5bdeca21-7427-48f1-8e6c-e8511a13cf9e",
   "metadata": {},
   "outputs": [
    {
     "name": "stdout",
     "output_type": "stream",
     "text": [
      "weLcome\n"
     ]
    }
   ],
   "source": [
    "a='welcome'\n",
    "b=a[0:2]\n",
    "c=a[3:]\n",
    "print(b+'L'+c)"
   ]
  },
  {
   "cell_type": "code",
   "execution_count": 49,
   "id": "97070c37-0667-4171-b84e-2a8733ca45ff",
   "metadata": {},
   "outputs": [
    {
     "data": {
      "text/plain": [
       "'weLLcome'"
      ]
     },
     "execution_count": 49,
     "metadata": {},
     "output_type": "execute_result"
    }
   ],
   "source": [
    "str1='wellcome'\n",
    "str1.replace('l','L')"
   ]
  },
  {
   "cell_type": "markdown",
   "id": "89625f6c-d772-4501-987f-9d2123e35d0e",
   "metadata": {},
   "source": [
    "- By default replace will change all the occurences\n",
    "- count= -1 is responsible for that\n",
    "- which means we can provide some count also,which how many i want to change\n",
    "- give welllcome and change count=1 and count=2 explore it"
   ]
  },
  {
   "cell_type": "code",
   "execution_count": 53,
   "id": "610d2e4b-32af-484d-93e8-59d4cc6d147a",
   "metadata": {},
   "outputs": [
    {
     "data": {
      "text/plain": [
       "'weLllcome'"
      ]
     },
     "execution_count": 53,
     "metadata": {},
     "output_type": "execute_result"
    }
   ],
   "source": [
    "str1='welllcome'\n",
    "str1.replace('l','L',1)\n",
    "#when we write count=1\n",
    "#it will change only one value\n",
    "#when we increase the count values will be changed"
   ]
  },
  {
   "cell_type": "code",
   "execution_count": 51,
   "id": "a42c47ed-0c62-4d64-9ed1-c30658b28133",
   "metadata": {},
   "outputs": [
    {
     "data": {
      "text/plain": [
       "'weLLlcome'"
      ]
     },
     "execution_count": 51,
     "metadata": {},
     "output_type": "execute_result"
    }
   ],
   "source": [
    "str1='welllcome'\n",
    "str1.replace('l','L',2)"
   ]
  },
  {
   "cell_type": "code",
   "execution_count": 52,
   "id": "0f62bf49-1370-4e45-bebf-e35ad1514c28",
   "metadata": {},
   "outputs": [
    {
     "data": {
      "text/plain": [
       "'weLLLcome'"
      ]
     },
     "execution_count": 52,
     "metadata": {},
     "output_type": "execute_result"
    }
   ],
   "source": [
    "str1='welllcome'\n",
    "str1.replace('l','L',3)"
   ]
  },
  {
   "cell_type": "code",
   "execution_count": 59,
   "id": "4b5ce563-e16e-4176-b420-c801bb59260b",
   "metadata": {},
   "outputs": [
    {
     "data": {
      "text/plain": [
       "'$esta$t'"
      ]
     },
     "execution_count": 59,
     "metadata": {},
     "output_type": "execute_result"
    }
   ],
   "source": [
    "str1='restart'\n",
    "str1.replace('r','$')"
   ]
  },
  {
   "cell_type": "code",
   "execution_count": 55,
   "id": "2d3c44e0-fc08-4f0a-b91b-74849a640301",
   "metadata": {},
   "outputs": [
    {
     "data": {
      "text/plain": [
       "'$estart'"
      ]
     },
     "execution_count": 55,
     "metadata": {},
     "output_type": "execute_result"
    }
   ],
   "source": [
    "str1='restart'\n",
    "str1.replace('r','$',1)\n"
   ]
  },
  {
   "cell_type": "code",
   "execution_count": 56,
   "id": "945fca61-1193-4d05-8c97-b77430cfe14a",
   "metadata": {},
   "outputs": [
    {
     "data": {
      "text/plain": [
       "'*esta*t'"
      ]
     },
     "execution_count": 56,
     "metadata": {},
     "output_type": "execute_result"
    }
   ],
   "source": [
    "str1='restart'\n",
    "str1.replace('r','*',2)"
   ]
  },
  {
   "cell_type": "code",
   "execution_count": 62,
   "id": "df9036a5-ba59-46d6-b52d-685aeb8795b8",
   "metadata": {},
   "outputs": [
    {
     "data": {
      "text/plain": [
       "'resta$t'"
      ]
     },
     "execution_count": 62,
     "metadata": {},
     "output_type": "execute_result"
    }
   ],
   "source": [
    "str1='restart'\n",
    "s1=str1[:1]\n",
    "s2=str1[1:]\n",
    "s3=s2.replace('r','$')\n",
    "s1+s3"
   ]
  },
  {
   "cell_type": "code",
   "execution_count": 67,
   "id": "abbde07d-8dd8-49e3-99d4-870b1e595f17",
   "metadata": {},
   "outputs": [
    {
     "data": {
      "text/plain": [
       "'resta$t'"
      ]
     },
     "execution_count": 67,
     "metadata": {},
     "output_type": "execute_result"
    }
   ],
   "source": [
    "str1='restart'\n",
    "str1[::-1].replace('r','$',1)[::-1]"
   ]
  },
  {
   "cell_type": "markdown",
   "id": "7b0c8140-b23b-429d-b177-a0d959cedc26",
   "metadata": {},
   "source": [
    "**index-find**"
   ]
  },
  {
   "cell_type": "code",
   "execution_count": 68,
   "id": "de6b9018-ca80-4c48-bc79-92f9c62f977f",
   "metadata": {},
   "outputs": [
    {
     "data": {
      "text/plain": [
       "['__add__',\n",
       " '__class__',\n",
       " '__contains__',\n",
       " '__delattr__',\n",
       " '__dir__',\n",
       " '__doc__',\n",
       " '__eq__',\n",
       " '__format__',\n",
       " '__ge__',\n",
       " '__getattribute__',\n",
       " '__getitem__',\n",
       " '__getnewargs__',\n",
       " '__getstate__',\n",
       " '__gt__',\n",
       " '__hash__',\n",
       " '__init__',\n",
       " '__init_subclass__',\n",
       " '__iter__',\n",
       " '__le__',\n",
       " '__len__',\n",
       " '__lt__',\n",
       " '__mod__',\n",
       " '__mul__',\n",
       " '__ne__',\n",
       " '__new__',\n",
       " '__reduce__',\n",
       " '__reduce_ex__',\n",
       " '__repr__',\n",
       " '__rmod__',\n",
       " '__rmul__',\n",
       " '__setattr__',\n",
       " '__sizeof__',\n",
       " '__str__',\n",
       " '__subclasshook__',\n",
       " 'capitalize',\n",
       " 'casefold',\n",
       " 'center',\n",
       " 'count',\n",
       " 'encode',\n",
       " 'endswith',\n",
       " 'expandtabs',\n",
       " 'find',\n",
       " 'format',\n",
       " 'format_map',\n",
       " 'index',\n",
       " 'isalnum',\n",
       " 'isalpha',\n",
       " 'isascii',\n",
       " 'isdecimal',\n",
       " 'isdigit',\n",
       " 'isidentifier',\n",
       " 'islower',\n",
       " 'isnumeric',\n",
       " 'isprintable',\n",
       " 'isspace',\n",
       " 'istitle',\n",
       " 'isupper',\n",
       " 'join',\n",
       " 'ljust',\n",
       " 'lower',\n",
       " 'lstrip',\n",
       " 'maketrans',\n",
       " 'partition',\n",
       " 'removeprefix',\n",
       " 'removesuffix',\n",
       " 'replace',\n",
       " 'rfind',\n",
       " 'rindex',\n",
       " 'rjust',\n",
       " 'rpartition',\n",
       " 'rsplit',\n",
       " 'rstrip',\n",
       " 'split',\n",
       " 'splitlines',\n",
       " 'startswith',\n",
       " 'strip',\n",
       " 'swapcase',\n",
       " 'title',\n",
       " 'translate',\n",
       " 'upper',\n",
       " 'zfill']"
      ]
     },
     "execution_count": 68,
     "metadata": {},
     "output_type": "execute_result"
    }
   ],
   "source": [
    "dir(str)"
   ]
  },
  {
   "cell_type": "code",
   "execution_count": null,
   "id": "fffde47e-d187-4e64-8dc0-e447c4014978",
   "metadata": {},
   "outputs": [],
   "source": [
    "'isalnum',\n",
    " 'isalpha',\n",
    " 'isascii',\n",
    " 'isdecimal',\n",
    " 'isdigit',\n",
    " 'isidentifier',\n",
    " 'islower',\n",
    " 'isnumeric',\n",
    " 'isprintable',\n",
    " 'isspace',\n",
    " 'istitle',\n",
    " 'isupper',"
   ]
  },
  {
   "cell_type": "code",
   "execution_count": 69,
   "id": "720c7c1d-cbb3-41e7-b50b-c72175c774f8",
   "metadata": {},
   "outputs": [
    {
     "data": {
      "text/plain": [
       "True"
      ]
     },
     "execution_count": 69,
     "metadata": {},
     "output_type": "execute_result"
    }
   ],
   "source": [
    "str1='welcome'\n",
    "str1.isalnum()"
   ]
  },
  {
   "cell_type": "code",
   "execution_count": 70,
   "id": "e10a3ea7-fdd0-4ca3-9d60-bb49236c53ef",
   "metadata": {},
   "outputs": [
    {
     "data": {
      "text/plain": [
       "False"
      ]
     },
     "execution_count": 70,
     "metadata": {},
     "output_type": "execute_result"
    }
   ],
   "source": [
    "str1='welcome'\n",
    "str1.isupper()"
   ]
  },
  {
   "cell_type": "code",
   "execution_count": 72,
   "id": "0b3d90b7-b44a-42b0-9e7e-3620437e8bba",
   "metadata": {},
   "outputs": [
    {
     "data": {
      "text/plain": [
       "True"
      ]
     },
     "execution_count": 72,
     "metadata": {},
     "output_type": "execute_result"
    }
   ],
   "source": [
    "str1='WELCOME'\n",
    "str1.isupper()"
   ]
  },
  {
   "cell_type": "code",
   "execution_count": 73,
   "id": "f6b269c9-2811-4565-87d4-143e7b065b79",
   "metadata": {},
   "outputs": [
    {
     "data": {
      "text/plain": [
       "False"
      ]
     },
     "execution_count": 73,
     "metadata": {},
     "output_type": "execute_result"
    }
   ],
   "source": [
    "str1='WElCOmE'\n",
    "str1.isupper()"
   ]
  },
  {
   "cell_type": "code",
   "execution_count": 8,
   "id": "4ea596f9-7030-4ca6-8e0f-f6535a9cb847",
   "metadata": {},
   "outputs": [
    {
     "data": {
      "text/plain": [
       "True"
      ]
     },
     "execution_count": 8,
     "metadata": {},
     "output_type": "execute_result"
    }
   ],
   "source": [
    "str1='Hello'\n",
    "str1.istitle()"
   ]
  },
  {
   "cell_type": "markdown",
   "id": "3c5e5ca4-1179-4030-be59-ba35b9edc67f",
   "metadata": {},
   "source": [
    "**Index-Find**\n",
    "\n",
    "- index says that it will give the index of any letter in a given string\n",
    "- we already seen about count: count will give how many letters are there\n",
    "- at what index you want to count\n",
    "- between indexes also we can count letters\n",
    "- index meaning it will provide the index\n",
    "- imagine that there same letters repeated\n",
    "- how can we find the next index"
   ]
  },
  {
   "cell_type": "code",
   "execution_count": 10,
   "id": "c80722b0-6c2d-400b-9b7e-c47c9f58eeea",
   "metadata": {},
   "outputs": [
    {
     "data": {
      "text/plain": [
       "1"
      ]
     },
     "execution_count": 10,
     "metadata": {},
     "output_type": "execute_result"
    }
   ],
   "source": [
    "str1='hai hai hai'\n",
    "str1.index('a')\n",
    "#Return the lowest index in S where substring sub is found"
   ]
  },
  {
   "cell_type": "code",
   "execution_count": 11,
   "id": "de9843e3-637f-46f4-b534-51999e38257e",
   "metadata": {},
   "outputs": [
    {
     "data": {
      "text/plain": [
       "5"
      ]
     },
     "execution_count": 11,
     "metadata": {},
     "output_type": "execute_result"
    }
   ],
   "source": [
    "#i want to know next 'a' index after 3rd index\n",
    "str1='hai hai hai'\n",
    "str1.index('a',3)"
   ]
  },
  {
   "cell_type": "code",
   "execution_count": 12,
   "id": "4d6f7173-aae5-4ec9-9b6c-b8e97f566329",
   "metadata": {},
   "outputs": [
    {
     "data": {
      "text/plain": [
       "5"
      ]
     },
     "execution_count": 12,
     "metadata": {},
     "output_type": "execute_result"
    }
   ],
   "source": [
    "#i want to know next 'a' index b/w 3rd and 7th  index\n",
    "str1='hai hai hai'\n",
    "str1.index('a',3,7)"
   ]
  },
  {
   "cell_type": "code",
   "execution_count": 18,
   "id": "1333ca4d-c31e-42c7-aa52-3a9755b68522",
   "metadata": {},
   "outputs": [
    {
     "data": {
      "text/plain": [
       "6"
      ]
     },
     "execution_count": 18,
     "metadata": {},
     "output_type": "execute_result"
    }
   ],
   "source": [
    "str1='helo helo haii haii'\n",
    "str1.index('e',3,7)"
   ]
  },
  {
   "cell_type": "code",
   "execution_count": 22,
   "id": "87b54594-232d-414c-b2a4-2271e50b666e",
   "metadata": {},
   "outputs": [
    {
     "data": {
      "text/plain": [
       "9"
      ]
     },
     "execution_count": 22,
     "metadata": {},
     "output_type": "execute_result"
    }
   ],
   "source": [
    "str1='hai hai hai'\n",
    "str1.index('a',-3,-1)"
   ]
  },
  {
   "cell_type": "code",
   "execution_count": 28,
   "id": "115acff9-8aef-4887-a782-d91e6ea6dcb6",
   "metadata": {},
   "outputs": [
    {
     "name": "stdout",
     "output_type": "stream",
     "text": [
      "1\n",
      "5\n",
      "9\n"
     ]
    }
   ],
   "source": [
    "str1='hai hai hai'\n",
    "i1=str1.index('a')\n",
    "print(i1)\n",
    "i2=str1.index('a',3,6)\n",
    "print(i2)\n",
    "i3=str1.index('a',7,10)\n",
    "print(i3)"
   ]
  },
  {
   "cell_type": "code",
   "execution_count": 32,
   "id": "9759b627-10f2-47e8-9814-bab0015d3f50",
   "metadata": {},
   "outputs": [
    {
     "name": "stdout",
     "output_type": "stream",
     "text": [
      "1\n",
      "5\n",
      "9\n",
      "13\n"
     ]
    }
   ],
   "source": [
    "str1='hai hai hai hai'\n",
    "i1=str1.index('a')\n",
    "print(i1)\n",
    "i2=str1.index('a',i1+1)\n",
    "print(i2)\n",
    "i3=str1.index('a',i2+1)\n",
    "print(i3)\n",
    "i4=str1.index('a',i3+1)\n",
    "print(i4)"
   ]
  },
  {
   "cell_type": "markdown",
   "id": "36068d8b-29ea-4a08-a4b0-bc687783a4a6",
   "metadata": {},
   "source": [
    "**Find**"
   ]
  },
  {
   "cell_type": "code",
   "execution_count": 34,
   "id": "349ccd00-e102-43c8-a64e-348aa673e373",
   "metadata": {},
   "outputs": [
    {
     "data": {
      "text/plain": [
       "5"
      ]
     },
     "execution_count": 34,
     "metadata": {},
     "output_type": "execute_result"
    }
   ],
   "source": [
    "str1='hai hai hai'\n",
    "str1.find('a',3)"
   ]
  },
  {
   "cell_type": "code",
   "execution_count": 36,
   "id": "278a20b5-fab5-4c81-a674-3917f9abcdd6",
   "metadata": {},
   "outputs": [
    {
     "name": "stdout",
     "output_type": "stream",
     "text": [
      "1\n",
      "5\n",
      "9\n",
      "13\n",
      "-1\n"
     ]
    }
   ],
   "source": [
    "str1='hai hai hai hai'\n",
    "i1=str1.find('a')\n",
    "print(i1)\n",
    "i2=str1.find('a',i1+1)\n",
    "print(i2)\n",
    "i3=str1.find('a',i2+1)\n",
    "print(i3)\n",
    "i4=str1.find('a',i3+1)\n",
    "print(i4)\n",
    "i5=str1.find('a',i4+1)\n",
    "print(i5)"
   ]
  },
  {
   "cell_type": "code",
   "execution_count": 37,
   "id": "4a93089f-8bbe-4966-8de7-3abfcce83ac5",
   "metadata": {},
   "outputs": [
    {
     "data": {
      "text/plain": [
       "'hai hai hai hai'"
      ]
     },
     "execution_count": 37,
     "metadata": {},
     "output_type": "execute_result"
    }
   ],
   "source": [
    "str1='hai hai hai hai'\n",
    "str1.replace('z','Z')\n"
   ]
  },
  {
   "cell_type": "markdown",
   "id": "e1f71ab1-7615-4bfb-a7e2-35229fc40fa1",
   "metadata": {},
   "source": [
    "- if substring not found count will give zero\n",
    "- replace will print the same string\n",
    "- index will the sub string not found error\n",
    "- find will give -1"
   ]
  },
  {
   "cell_type": "code",
   "execution_count": 43,
   "id": "5202128a-82f1-44a6-8b29-7c5968265818",
   "metadata": {},
   "outputs": [
    {
     "data": {
      "text/plain": [
       "('stave', 'pilli', 'google')"
      ]
     },
     "execution_count": 43,
     "metadata": {},
     "output_type": "execute_result"
    }
   ],
   "source": [
    "str1='stave.pilli@google.com'\n",
    "i1=str1.index('.')\n",
    "i2=str1.index('@')\n",
    "i3=str1.index('.',i1+1)\n",
    "first_name=str1[:i1]\n",
    "second_name=str1[i1+1:i2]\n",
    "cname=str1[i2+1:i3]\n",
    "first_name,second_name,cname"
   ]
  },
  {
   "cell_type": "code",
   "execution_count": null,
   "id": "34ed11a8-bad0-4881-945f-56fa851e91a6",
   "metadata": {},
   "outputs": [],
   "source": []
  }
 ],
 "metadata": {
  "kernelspec": {
   "display_name": "Python 3 (ipykernel)",
   "language": "python",
   "name": "python3"
  },
  "language_info": {
   "codemirror_mode": {
    "name": "ipython",
    "version": 3
   },
   "file_extension": ".py",
   "mimetype": "text/x-python",
   "name": "python",
   "nbconvert_exporter": "python",
   "pygments_lexer": "ipython3",
   "version": "3.11.7"
  }
 },
 "nbformat": 4,
 "nbformat_minor": 5
}
